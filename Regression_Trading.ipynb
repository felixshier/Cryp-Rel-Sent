{
 "cells": [
  {
   "cell_type": "code",
   "execution_count": 8,
   "metadata": {
    "collapsed": true
   },
   "outputs": [],
   "source": [
    "import pickle\n",
    "import pandas as pd\n",
    "import numpy as np\n",
    "from sklearn.preprocessing import StandardScaler\n",
    "from sklearn.svm import SVR\n",
    "from statsmodels.formula.api import ols\n",
    "\n",
    "train = {}\n",
    "test = {}\n",
    "# Loading in all the data\n",
    "for (curr_1, curr_2) in [('BTC', 'ETH'), ('BTC', 'LTC'), ('BTC', 'XRP'), ('ETH', 'LTC'), ('ETH', 'XRP'), ('LTC', 'XRP')]:\n",
    "    for interval in ['1min', '10min', '60min', '1d']:\n",
    "        train[curr_1 + '_' + curr_2 + '_' + interval] = pd.read_csv(curr_1 + '_' + interval + '_' + curr_2 + '_' + interval + '_march.csv')\n",
    "        test[curr_1 + '_' + curr_2 + '_' + interval] = pd.read_csv(curr_1 + '_' + interval + '_' + curr_2 + '_' + interval + '_april.csv')\n",
    "\n",
    "# Loading in all the models\n",
    "models = {}\n",
    "for (curr_1, curr_2) in [('BTC', 'ETH'), ('BTC', 'LTC'), ('BTC', 'XRP'), ('ETH', 'LTC'), ('ETH', 'XRP'), ('LTC', 'XRP')]:\n",
    "    for interval in ['1min', '10min', '60min', '1d']:\n",
    "        models[curr_1 + '_' + curr_2 + '_' + interval] = {}\n",
    "        models[curr_1 + '_' + curr_2 + '_' + interval]['OLS'] = pickle.load(open('Models/' + curr_1 + '_' + curr_2 + '_' + interval + '_ols_1.pickle', 'rb'))\n",
    "        models[curr_1 + '_' + curr_2 + '_' + interval]['SVR'] = pickle.load(open('Models/' + curr_1 + '_' + curr_2 + '_' + interval + '_svr.pickle', 'rb'))"
   ]
  },
  {
   "cell_type": "code",
   "execution_count": 19,
   "outputs": [
    {
     "name": "stdout",
     "output_type": "stream",
     "text": [
      "SIMULATION: BTC_ETH_1min\n",
      "MODEL: OLS\n",
      "Done predictions\n",
      "SIMULATION: BTC_ETH_1min\n",
      "MODEL: SVR\n"
     ]
    },
    {
     "name": "stderr",
     "output_type": "stream",
     "text": [
      "C:\\Users\\dubcz\\anaconda3\\lib\\site-packages\\pandas\\core\\indexing.py:1732: SettingWithCopyWarning: \n",
      "A value is trying to be set on a copy of a slice from a DataFrame\n",
      "\n",
      "See the caveats in the documentation: https://pandas.pydata.org/pandas-docs/stable/user_guide/indexing.html#returning-a-view-versus-a-copy\n",
      "  self._setitem_single_block(indexer, value, name)\n"
     ]
    },
    {
     "ename": "KeyboardInterrupt",
     "evalue": "",
     "output_type": "error",
     "traceback": [
      "\u001B[1;31m---------------------------------------------------------------------------\u001B[0m",
      "\u001B[1;31mKeyboardInterrupt\u001B[0m                         Traceback (most recent call last)",
      "\u001B[1;32m<ipython-input-19-b8e4136d4ded>\u001B[0m in \u001B[0;36m<module>\u001B[1;34m\u001B[0m\n\u001B[0;32m     34\u001B[0m             \u001B[0mtest\u001B[0m\u001B[1;33m[\u001B[0m\u001B[0mkey\u001B[0m\u001B[1;33m]\u001B[0m\u001B[1;33m[\u001B[0m\u001B[1;34mf'{model} Predicted Price Ratio'\u001B[0m\u001B[1;33m]\u001B[0m \u001B[1;33m=\u001B[0m \u001B[0mtemp\u001B[0m\u001B[1;33m.\u001B[0m\u001B[0mflatten\u001B[0m\u001B[1;33m(\u001B[0m\u001B[1;33m)\u001B[0m\u001B[1;33m\u001B[0m\u001B[1;33m\u001B[0m\u001B[0m\n\u001B[0;32m     35\u001B[0m             \u001B[0mtest\u001B[0m\u001B[1;33m[\u001B[0m\u001B[0mkey\u001B[0m\u001B[1;33m]\u001B[0m\u001B[1;33m[\u001B[0m\u001B[1;34mf'{model} Predicted Price Ratio'\u001B[0m\u001B[1;33m]\u001B[0m\u001B[1;33m.\u001B[0m\u001B[0mloc\u001B[0m\u001B[1;33m[\u001B[0m\u001B[0mmask\u001B[0m\u001B[1;33m]\u001B[0m \u001B[1;33m=\u001B[0m \u001B[0mprediction\u001B[0m\u001B[1;33m\u001B[0m\u001B[1;33m\u001B[0m\u001B[0m\n\u001B[1;32m---> 36\u001B[1;33m         \u001B[0mprint\u001B[0m\u001B[1;33m(\u001B[0m\u001B[1;34m'Done predictions'\u001B[0m\u001B[1;33m)\u001B[0m\u001B[1;33m\u001B[0m\u001B[1;33m\u001B[0m\u001B[0m\n\u001B[0m\u001B[0;32m     37\u001B[0m         \u001B[1;32mcontinue\u001B[0m\u001B[1;33m\u001B[0m\u001B[1;33m\u001B[0m\u001B[0m\n\u001B[0;32m     38\u001B[0m         \u001B[1;31m# Now simulate the strategy using the predicted price and holding for one interval\u001B[0m\u001B[1;33m\u001B[0m\u001B[1;33m\u001B[0m\u001B[1;33m\u001B[0m\u001B[0m\n",
      "\u001B[1;32m<ipython-input-19-b8e4136d4ded>\u001B[0m in \u001B[0;36m<module>\u001B[1;34m\u001B[0m\n\u001B[0;32m     34\u001B[0m             \u001B[0mtest\u001B[0m\u001B[1;33m[\u001B[0m\u001B[0mkey\u001B[0m\u001B[1;33m]\u001B[0m\u001B[1;33m[\u001B[0m\u001B[1;34mf'{model} Predicted Price Ratio'\u001B[0m\u001B[1;33m]\u001B[0m \u001B[1;33m=\u001B[0m \u001B[0mtemp\u001B[0m\u001B[1;33m.\u001B[0m\u001B[0mflatten\u001B[0m\u001B[1;33m(\u001B[0m\u001B[1;33m)\u001B[0m\u001B[1;33m\u001B[0m\u001B[1;33m\u001B[0m\u001B[0m\n\u001B[0;32m     35\u001B[0m             \u001B[0mtest\u001B[0m\u001B[1;33m[\u001B[0m\u001B[0mkey\u001B[0m\u001B[1;33m]\u001B[0m\u001B[1;33m[\u001B[0m\u001B[1;34mf'{model} Predicted Price Ratio'\u001B[0m\u001B[1;33m]\u001B[0m\u001B[1;33m.\u001B[0m\u001B[0mloc\u001B[0m\u001B[1;33m[\u001B[0m\u001B[0mmask\u001B[0m\u001B[1;33m]\u001B[0m \u001B[1;33m=\u001B[0m \u001B[0mprediction\u001B[0m\u001B[1;33m\u001B[0m\u001B[1;33m\u001B[0m\u001B[0m\n\u001B[1;32m---> 36\u001B[1;33m         \u001B[0mprint\u001B[0m\u001B[1;33m(\u001B[0m\u001B[1;34m'Done predictions'\u001B[0m\u001B[1;33m)\u001B[0m\u001B[1;33m\u001B[0m\u001B[1;33m\u001B[0m\u001B[0m\n\u001B[0m\u001B[0;32m     37\u001B[0m         \u001B[1;32mcontinue\u001B[0m\u001B[1;33m\u001B[0m\u001B[1;33m\u001B[0m\u001B[0m\n\u001B[0;32m     38\u001B[0m         \u001B[1;31m# Now simulate the strategy using the predicted price and holding for one interval\u001B[0m\u001B[1;33m\u001B[0m\u001B[1;33m\u001B[0m\u001B[1;33m\u001B[0m\u001B[0m\n",
      "\u001B[1;32m_pydevd_bundle\\pydevd_cython_win32_37_64.pyx\u001B[0m in \u001B[0;36m_pydevd_bundle.pydevd_cython_win32_37_64.SafeCallWrapper.__call__\u001B[1;34m()\u001B[0m\n",
      "\u001B[1;32m_pydevd_bundle\\pydevd_cython_win32_37_64.pyx\u001B[0m in \u001B[0;36m_pydevd_bundle.pydevd_cython_win32_37_64.PyDBFrame.trace_dispatch\u001B[1;34m()\u001B[0m\n",
      "\u001B[1;32m_pydevd_bundle\\pydevd_cython_win32_37_64.pyx\u001B[0m in \u001B[0;36m_pydevd_bundle.pydevd_cython_win32_37_64.PyDBFrame.trace_dispatch\u001B[1;34m()\u001B[0m\n",
      "\u001B[1;32m_pydevd_bundle\\pydevd_cython_win32_37_64.pyx\u001B[0m in \u001B[0;36m_pydevd_bundle.pydevd_cython_win32_37_64.PyDBFrame.trace_dispatch\u001B[1;34m()\u001B[0m\n",
      "\u001B[1;32m_pydevd_bundle\\pydevd_cython_win32_37_64.pyx\u001B[0m in \u001B[0;36m_pydevd_bundle.pydevd_cython_win32_37_64.PyDBFrame.do_wait_suspend\u001B[1;34m()\u001B[0m\n",
      "\u001B[1;32mC:\\Program Files\\JetBrains\\DataSpell 2021.3.1\\plugins\\python-ce\\helpers\\pydev\\pydevd.py\u001B[0m in \u001B[0;36mdo_wait_suspend\u001B[1;34m(self, thread, frame, event, arg, send_suspend_message, is_unhandled_exception)\u001B[0m\n\u001B[0;32m   1145\u001B[0m \u001B[1;33m\u001B[0m\u001B[0m\n\u001B[0;32m   1146\u001B[0m         \u001B[1;32mwith\u001B[0m \u001B[0mself\u001B[0m\u001B[1;33m.\u001B[0m\u001B[0m_threads_suspended_single_notification\u001B[0m\u001B[1;33m.\u001B[0m\u001B[0mnotify_thread_suspended\u001B[0m\u001B[1;33m(\u001B[0m\u001B[0mthread_id\u001B[0m\u001B[1;33m,\u001B[0m \u001B[0mstop_reason\u001B[0m\u001B[1;33m)\u001B[0m\u001B[1;33m:\u001B[0m\u001B[1;33m\u001B[0m\u001B[1;33m\u001B[0m\u001B[0m\n\u001B[1;32m-> 1147\u001B[1;33m             \u001B[0mself\u001B[0m\u001B[1;33m.\u001B[0m\u001B[0m_do_wait_suspend\u001B[0m\u001B[1;33m(\u001B[0m\u001B[0mthread\u001B[0m\u001B[1;33m,\u001B[0m \u001B[0mframe\u001B[0m\u001B[1;33m,\u001B[0m \u001B[0mevent\u001B[0m\u001B[1;33m,\u001B[0m \u001B[0marg\u001B[0m\u001B[1;33m,\u001B[0m \u001B[0msuspend_type\u001B[0m\u001B[1;33m,\u001B[0m \u001B[0mfrom_this_thread\u001B[0m\u001B[1;33m)\u001B[0m\u001B[1;33m\u001B[0m\u001B[1;33m\u001B[0m\u001B[0m\n\u001B[0m\u001B[0;32m   1148\u001B[0m \u001B[1;33m\u001B[0m\u001B[0m\n\u001B[0;32m   1149\u001B[0m     \u001B[1;32mdef\u001B[0m \u001B[0m_do_wait_suspend\u001B[0m\u001B[1;33m(\u001B[0m\u001B[0mself\u001B[0m\u001B[1;33m,\u001B[0m \u001B[0mthread\u001B[0m\u001B[1;33m,\u001B[0m \u001B[0mframe\u001B[0m\u001B[1;33m,\u001B[0m \u001B[0mevent\u001B[0m\u001B[1;33m,\u001B[0m \u001B[0marg\u001B[0m\u001B[1;33m,\u001B[0m \u001B[0msuspend_type\u001B[0m\u001B[1;33m,\u001B[0m \u001B[0mfrom_this_thread\u001B[0m\u001B[1;33m)\u001B[0m\u001B[1;33m:\u001B[0m\u001B[1;33m\u001B[0m\u001B[1;33m\u001B[0m\u001B[0m\n",
      "\u001B[1;32mC:\\Program Files\\JetBrains\\DataSpell 2021.3.1\\plugins\\python-ce\\helpers\\pydev\\pydevd.py\u001B[0m in \u001B[0;36m_do_wait_suspend\u001B[1;34m(self, thread, frame, event, arg, suspend_type, from_this_thread)\u001B[0m\n\u001B[0;32m   1160\u001B[0m \u001B[1;33m\u001B[0m\u001B[0m\n\u001B[0;32m   1161\u001B[0m                 \u001B[0mself\u001B[0m\u001B[1;33m.\u001B[0m\u001B[0mprocess_internal_commands\u001B[0m\u001B[1;33m(\u001B[0m\u001B[1;33m)\u001B[0m\u001B[1;33m\u001B[0m\u001B[1;33m\u001B[0m\u001B[0m\n\u001B[1;32m-> 1162\u001B[1;33m                 \u001B[0mtime\u001B[0m\u001B[1;33m.\u001B[0m\u001B[0msleep\u001B[0m\u001B[1;33m(\u001B[0m\u001B[1;36m0.01\u001B[0m\u001B[1;33m)\u001B[0m\u001B[1;33m\u001B[0m\u001B[1;33m\u001B[0m\u001B[0m\n\u001B[0m\u001B[0;32m   1163\u001B[0m \u001B[1;33m\u001B[0m\u001B[0m\n\u001B[0;32m   1164\u001B[0m         \u001B[0mself\u001B[0m\u001B[1;33m.\u001B[0m\u001B[0mcancel_async_evaluation\u001B[0m\u001B[1;33m(\u001B[0m\u001B[0mget_current_thread_id\u001B[0m\u001B[1;33m(\u001B[0m\u001B[0mthread\u001B[0m\u001B[1;33m)\u001B[0m\u001B[1;33m,\u001B[0m \u001B[0mstr\u001B[0m\u001B[1;33m(\u001B[0m\u001B[0mid\u001B[0m\u001B[1;33m(\u001B[0m\u001B[0mframe\u001B[0m\u001B[1;33m)\u001B[0m\u001B[1;33m)\u001B[0m\u001B[1;33m)\u001B[0m\u001B[1;33m\u001B[0m\u001B[1;33m\u001B[0m\u001B[0m\n",
      "\u001B[1;31mKeyboardInterrupt\u001B[0m: "
     ]
    }
   ],
   "source": [
    "# Implement a 1 - period predict then trade strategy\n",
    "# After the following period, the trade is unwound and a new position is taken\n",
    "# Important here is the notion of balanced risk, so we are just taking offsetting positions\n",
    "# Assumptions: no transaction costs, ability to short-sell currencies (also without costs)\n",
    "# Costs are platform and credit dependent, hence impossible to model\n",
    "\n",
    "NOTIONAL = 1000\n",
    "trades = {}\n",
    "\n",
    "for key in models:\n",
    "    curr_1 = key.split('_')[0]\n",
    "    curr_2 = key.split('_')[1]\n",
    "    trades[key] = {}\n",
    "    for model in models[key]:\n",
    "        print(f'SIMULATION: {key}')\n",
    "        print(f'MODEL: {model}')\n",
    "        trades[key][model] = {}\n",
    "        if model == 'OLS':\n",
    "            prediction = models[key][model].predict(test[key])\n",
    "            test[key][f'{model} Predicted Price Ratio'] = prediction.values\n",
    "        if model == 'SVR':\n",
    "            # Can't save down the series transform fit\n",
    "            scalar_x = StandardScaler()\n",
    "            scalar_y = StandardScaler()\n",
    "            scalar_x.fit(train[key][['Net Polarity', 'Net Subjectivity']])\n",
    "            scalar_y.fit(train[key][['Price Ratio']])\n",
    "            input_vec = scalar_x.transform(test[key][['Net Polarity', 'Net Subjectivity']])\n",
    "            mask = ~np.isnan(input_vec) & ~np.isinf(input_vec)\n",
    "            mask = [True if all(val) else False for val in mask]\n",
    "            prediction = models[key][model].predict(input_vec[mask, :])\n",
    "            prediction = scalar_y.inverse_transform(prediction)\n",
    "            temp = np.empty((test[key][['Price Ratio']].size,1))\n",
    "            temp[:] = np.nan\n",
    "            test[key][f'{model} Predicted Price Ratio'] = temp.flatten()\n",
    "            test[key][f'{model} Predicted Price Ratio'].loc[mask] = prediction\n",
    "        print('Done predictions')\n",
    "        # Now simulate the strategy using the predicted price and holding for one interval\n",
    "        for period in test[key].index:\n",
    "            # print('Simulating: ' + str(period))\n",
    "            prediction_ratio = test[key][f'{model} Predicted Price Ratio'][period]\n",
    "            actual_ratio = test[key]['Price Ratio'][period]\n",
    "            if not np.isnan(test[key][f'{model} Predicted Price Ratio'][period]) and period != max(test[key].index):\n",
    "                if actual_ratio < prediction_ratio:\n",
    "                    curr_1_position = NOTIONAL / test[key][f'{curr_1} Price'][period]\n",
    "                    curr_2_position = -1 * NOTIONAL / test[key][f'{curr_2} Price'][period]\n",
    "                elif actual_ratio > prediction_ratio:\n",
    "                    curr_1_position = -1 * NOTIONAL / test[key][f'{curr_1} Price'][period]\n",
    "                    curr_2_position = NOTIONAL / test[key][f'{curr_2} Price'][period]\n",
    "                else:\n",
    "                    curr_1_position = 0\n",
    "                    curr_2_position = 0\n",
    "\n",
    "                trades[key][model][period] = {'Timestamp': test[key][f'Timestamp'][period], f'{curr_1} Traded': curr_1_position, f'{curr_2} Traded': curr_2_position, 'Profit': curr_1_position * test[key][f'{curr_1} Price'][period + 1] + curr_2_position * test[key][f'{curr_2} Price'][period + 1]}\n",
    "                if period == 0:\n",
    "                    trades[key][model][period]['Total Profit'] = trades[key][model][period]['Profit']\n",
    "                else:\n",
    "                    trades[key][model][period]['Total Profit'] = trades[key][model][period - 1]['Total Profit'] + trades[key][model][period]['Profit']\n",
    "            else:\n",
    "                trades[key][model][period] = {'Timestamp': test[key][f'Timestamp'][period], f'{curr_1} Traded': 0, f'{curr_2} Traded': 0, 'Profit': 0}\n",
    "                if period == 0:\n",
    "                    trades[key][model][period]['Total Profit'] = trades[key][model][period]['Profit']\n",
    "                else:\n",
    "                    trades[key][model][period]['Total Profit'] = trades[key][model][period - 1]['Total Profit'] + trades[key][model][period]['Profit']\n",
    "        pd.DataFrame(trades[key][model]).transpose().to_csv(f'Results/{key}_{model}.csv', index=False)"
   ],
   "metadata": {
    "collapsed": false,
    "pycharm": {
     "name": "#%%\n"
    }
   }
  },
  {
   "cell_type": "code",
   "execution_count": null,
   "outputs": [],
   "source": [],
   "metadata": {
    "collapsed": false,
    "pycharm": {
     "name": "#%%\n"
    }
   }
  }
 ],
 "metadata": {
  "kernelspec": {
   "display_name": "Python 3",
   "language": "python",
   "name": "python3"
  },
  "language_info": {
   "codemirror_mode": {
    "name": "ipython",
    "version": 2
   },
   "file_extension": ".py",
   "mimetype": "text/x-python",
   "name": "python",
   "nbconvert_exporter": "python",
   "pygments_lexer": "ipython2",
   "version": "2.7.6"
  }
 },
 "nbformat": 4,
 "nbformat_minor": 0
}