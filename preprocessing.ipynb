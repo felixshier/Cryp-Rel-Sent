{
 "cells": [
  {
   "cell_type": "code",
   "execution_count": 1,
   "metadata": {
    "collapsed": true
   },
   "outputs": [],
   "source": [
    "# Importing packages and initializing workspace\n",
    "import gc\n",
    "\n",
    "import numpy as np\n",
    "import pandas as pd\n",
    "import re\n",
    "from textblob import TextBlob\n",
    "\n",
    "\n",
    "price = {}\n",
    "btc_train = pd.read_csv('btc_tweets_mar_2021.csv')\n",
    "# btc_test = pd.read_csv('btc_tweets_apr_2021.csv')\n",
    "price['BTC'] = pd.read_csv('FinancialData/Bitstamp_BTCUSD_minute.csv')\n",
    "\n",
    "eth_train = pd.read_csv('eth_tweets_mar_2021.csv')\n",
    "# eth_test = pd.read_csv('eth_tweets_apr_2021.csv')\n",
    "price['ETH'] = pd.read_csv('FinancialData/Bitstamp_ETHUSD_minute.csv')\n",
    "\n",
    "ltc_train = pd.read_csv('ltc_tweets_mar_2021.csv')\n",
    "# ltc_test = pd.read_csv('ltc_tweets_apr_2021.csv')\n",
    "price['LTC'] = pd.read_csv('FinancialData/Bitstamp_LTCUSD_minute.csv')\n",
    "\n",
    "xrp_train = pd.read_csv('xrp_tweets_mar_2021.csv')\n",
    "# xrp_test = pd.read_csv('xrp_tweets_apr_2021.csv')\n",
    "price['XRP'] = pd.read_csv('FinancialData/Bitstamp_XRPUSD_minute.csv')"
   ]
  },
  {
   "cell_type": "code",
   "execution_count": 63,
   "outputs": [
    {
     "data": {
      "text/plain": "                    Datetime             Tweet Id  \\\n0  2021-03-30 23:59:59+00:00  1377047987919187969   \n1  2021-03-30 23:59:54+00:00  1377047969606828033   \n2  2021-03-30 23:59:48+00:00  1377047941672808450   \n3  2021-03-30 23:59:35+00:00  1377047890053369858   \n4  2021-03-30 23:59:34+00:00  1377047884303114243   \n\n                                                Text        Username Language  \\\n0  Eventually, I think it will be inevitable I bu...        Memeptah       en   \n1  #Investing 79.4% in this optimal #crypto portf...  CryptoWatchBot       en   \n2  Stock To Flow - Measuring The Bitcoin Peak Usi...    mlleroulleau       en   \n3  I like rubies/sapphires/emeralds/diamonds most...        takeck89       en   \n4  My favorite food and crypto are: https://t.co/...    koin_pencari       en   \n\n   Followers  \n0        999  \n1       3065  \n2       5207  \n3        382  \n4        290  ",
      "text/html": "<div>\n<style scoped>\n    .dataframe tbody tr th:only-of-type {\n        vertical-align: middle;\n    }\n\n    .dataframe tbody tr th {\n        vertical-align: top;\n    }\n\n    .dataframe thead th {\n        text-align: right;\n    }\n</style>\n<table border=\"1\" class=\"dataframe\">\n  <thead>\n    <tr style=\"text-align: right;\">\n      <th></th>\n      <th>Datetime</th>\n      <th>Tweet Id</th>\n      <th>Text</th>\n      <th>Username</th>\n      <th>Language</th>\n      <th>Followers</th>\n    </tr>\n  </thead>\n  <tbody>\n    <tr>\n      <th>0</th>\n      <td>2021-03-30 23:59:59+00:00</td>\n      <td>1377047987919187969</td>\n      <td>Eventually, I think it will be inevitable I bu...</td>\n      <td>Memeptah</td>\n      <td>en</td>\n      <td>999</td>\n    </tr>\n    <tr>\n      <th>1</th>\n      <td>2021-03-30 23:59:54+00:00</td>\n      <td>1377047969606828033</td>\n      <td>#Investing 79.4% in this optimal #crypto portf...</td>\n      <td>CryptoWatchBot</td>\n      <td>en</td>\n      <td>3065</td>\n    </tr>\n    <tr>\n      <th>2</th>\n      <td>2021-03-30 23:59:48+00:00</td>\n      <td>1377047941672808450</td>\n      <td>Stock To Flow - Measuring The Bitcoin Peak Usi...</td>\n      <td>mlleroulleau</td>\n      <td>en</td>\n      <td>5207</td>\n    </tr>\n    <tr>\n      <th>3</th>\n      <td>2021-03-30 23:59:35+00:00</td>\n      <td>1377047890053369858</td>\n      <td>I like rubies/sapphires/emeralds/diamonds most...</td>\n      <td>takeck89</td>\n      <td>en</td>\n      <td>382</td>\n    </tr>\n    <tr>\n      <th>4</th>\n      <td>2021-03-30 23:59:34+00:00</td>\n      <td>1377047884303114243</td>\n      <td>My favorite food and crypto are: https://t.co/...</td>\n      <td>koin_pencari</td>\n      <td>en</td>\n      <td>290</td>\n    </tr>\n  </tbody>\n</table>\n</div>"
     },
     "execution_count": 63,
     "metadata": {},
     "output_type": "execute_result"
    }
   ],
   "source": [
    "btc_train.head()"
   ],
   "metadata": {
    "collapsed": false,
    "pycharm": {
     "name": "#%%\n"
    }
   }
  },
  {
   "cell_type": "code",
   "execution_count": 2,
   "outputs": [
    {
     "name": "stdout",
     "output_type": "stream",
     "text": [
      "Cleaning for: btc_march.csv\n",
      "Sentiment for: btc_march.csv\n",
      "Saved: btc_march.csv\n",
      "Cleaning for: eth_march.csv\n",
      "Sentiment for: eth_march.csv\n",
      "Saved: eth_march.csv\n",
      "Cleaning for: ltc_march.csv\n",
      "Sentiment for: ltc_march.csv\n",
      "Saved: ltc_march.csv\n",
      "Cleaning for: xrp_march.csv\n",
      "Sentiment for: xrp_march.csv\n",
      "Saved: xrp_march.csv\n"
     ]
    }
   ],
   "source": [
    "# clean tweets\n",
    "data_files = [('btc_march.csv', btc_train), ('eth_march.csv', eth_train), ('ltc_march.csv', ltc_train), ('xrp_march.csv', xrp_train)]\n",
    "# data_files = [('btc_april.csv', btc_test), ('eth_april.csv', eth_test), ('ltc_april.csv', ltc_test), ('xrp_april.csv', xrp_test),\n",
    "#                 ('btc_march.csv', btc_train), ('eth_march.csv', eth_train), ('ltc_march.csv', ltc_train), ('xrp_march.csv', xrp_train)]\n",
    "for df_data in data_files:\n",
    "    print('Cleaning for: ' + df_data[0])\n",
    "    df_data[1][\"Text\"] = [text.lower() for text in df_data[1][\"Text\"]]\n",
    "    df_data[1][\"Text\"] = [re.sub(\"@[A-Za-z0-9_]+\",\"\", text) for text in df_data[1][\"Text\"]]\n",
    "    df_data[1][\"Text\"] = [re.sub(r\"#\",\"\", text) for text in df_data[1][\"Text\"]]\n",
    "    df_data[1][\"Text\"] = [re.sub(r\"http\\S+\", \"\", text) for text in df_data[1][\"Text\"]]\n",
    "    df_data[1][\"Text\"] = [re.sub(r\"www.\\S+\", \"\", text) for text in df_data[1][\"Text\"]]\n",
    "    df_data[1][\"Text\"] = [re.sub(r\"\\n\", \"\", text) for text in df_data[1][\"Text\"]]\n",
    "\n",
    "    # get sentiment\n",
    "    print('Sentiment for: ' + df_data[0])\n",
    "    df_data[1][\"TextBlob\"] = [TextBlob(text) for text in df_data[1][\"Text\"]]\n",
    "    df_data[1][\"Sentiment\"] = [text.sentiment for text in df_data[1][\"TextBlob\"]]\n",
    "    df_data[1]['Polarity'] = [polarity[0] for polarity in df_data[1]['Sentiment']]\n",
    "    df_data[1]['Subjectivity'] = [polarity[1] for polarity in df_data[1]['Sentiment']]\n",
    "\n",
    "    # Clean up df\n",
    "    df_data[1].drop(['Tweet Id', 'Text', 'Username', 'Language', 'Followers', 'TextBlob', 'Sentiment'], axis=1, inplace=True)\n",
    "    df_data[1].to_csv(df_data[0])\n",
    "    print('Saved: ' + df_data[0])"
   ],
   "metadata": {
    "collapsed": false,
    "pycharm": {
     "name": "#%%\n"
    }
   }
  },
  {
   "cell_type": "code",
   "execution_count": 3,
   "outputs": [],
   "source": [
    "# Now add the price data back onto the sentiment\n",
    "for curr in price:\n",
    "    price[curr].drop(['unix', 'symbol', 'open', 'high', 'low', 'Volume ' + curr], axis=1, inplace=True)\n",
    "    price[curr].rename(columns={'date': 'Timestamp', 'close': 'Price'}, inplace=True)\n",
    "    price[curr]['Timestamp'] = pd.to_datetime(price[curr]['Timestamp'], infer_datetime_format=True)\n",
    "    price[curr].set_index('Timestamp', inplace=True)"
   ],
   "metadata": {
    "collapsed": false,
    "pycharm": {
     "name": "#%%\n"
    }
   }
  },
  {
   "cell_type": "code",
   "execution_count": 12,
   "outputs": [
    {
     "data": {
      "text/plain": "284"
     },
     "execution_count": 12,
     "metadata": {},
     "output_type": "execute_result"
    }
   ],
   "source": [
    "# Pool the sentiment data into various window lengths 1min, 10min, 1hrs, 1day\n",
    "btc_train = pd.read_csv('btc_april.csv')\n",
    "eth_train = pd.read_csv('eth_april.csv')\n",
    "ltc_train = pd.read_csv('ltc_april.csv')\n",
    "xrp_train = pd.read_csv('xrp_april.csv')\n",
    "\n",
    "train_data = {}\n",
    "test_data = {}\n",
    "\n",
    "for (code, df_data) in [('BTC', btc_train), ('ETH', eth_train), ('LTC', ltc_train), ('XRP', xrp_train)]:\n",
    "    df_data['Timestamp'] = pd.to_datetime(df_data['Datetime'], infer_datetime_format=True).dt.tz_localize(None)\n",
    "    df_data.set_index('Timestamp', inplace=True)\n",
    "    for interval in ['1min', '10min', '60min', '1d']:\n",
    "        key = code + '_' + interval\n",
    "        train_data[key] = df_data.groupby(pd.Grouper(freq=interval)).mean()\n",
    "        train_data[key] = train_data[key].merge(price[code], how='left', on='Timestamp')\n",
    "        # train_data[key].drop('Unnamed: 0', axis=1, inplace=True)\n",
    "        train_data[key].columns = [code + ' ' + str(col) if col != 'Timestamp' else str(col) for col in train_data[key].columns]\n",
    "\n",
    "del btc_train\n",
    "del eth_train\n",
    "del ltc_train\n",
    "del xrp_train\n",
    "gc.collect()\n",
    "\n",
    "# btc_test = pd.read_csv('btc_april.csv')\n",
    "# eth_test = pd.read_csv('eth_april.csv')\n",
    "# ltc_test = pd.read_csv('ltc_april.csv')\n",
    "# xrp_test = pd.read_csv('xrp_april.csv')\n",
    "\n",
    "# for (code, df_data) in [('BTC', btc_test), ('ETH', eth_test), ('LTC', ltc_test), ('XRP', xrp_test)]:\n",
    "#     df_data['Timestamp'] = pd.to_datetime(df_data['Datetime'], infer_datetime_format=True).dt.tz_localize(None)\n",
    "#     df_data.set_index('Timestamp', inplace=True)\n",
    "#     for interval in ['1min', '10min', '60min', '1d']:\n",
    "#         key = code + '_' + interval\n",
    "#         test_data[key] = df_data.groupby(pd.Grouper(freq=interval)).mean()\n",
    "#         test_data[key] = test_data[key].merge(price[code], how='left', on='Timestamp')\n",
    "#         test_data[key].columns = [code + ' ' + str(col) if col != 'Timestamp' else str(col) for col in test_data[key].columns]\n",
    "#\n",
    "# del btc_test\n",
    "# del eth_test\n",
    "# del ltc_test\n",
    "# del xrp_test\n",
    "# gc.collect()"
   ],
   "metadata": {
    "collapsed": false,
    "pycharm": {
     "name": "#%%\n"
    }
   }
  },
  {
   "cell_type": "code",
   "execution_count": 13,
   "outputs": [
    {
     "data": {
      "text/plain": "                     BTC Polarity  BTC Subjectivity  BTC Price  BTC Volume USD\nTimestamp                                                                     \n2021-04-01 00:00:00      0.175066          0.389011   58819.71    147060.23610\n2021-04-01 01:00:00      0.178756          0.385661   59300.00    120942.26580\n2021-04-01 02:00:00      0.192258          0.395874   59256.60    119496.68180\n2021-04-01 03:00:00      0.202326          0.431403   59062.92     50524.25213\n2021-04-01 04:00:00      0.201704          0.408369   59130.88     24092.55538\n...                           ...               ...        ...             ...\n2021-04-29 19:00:00      0.087239          0.267478   52974.90    199495.79050\n2021-04-29 20:00:00      0.083779          0.261432   52818.49    198687.77280\n2021-04-29 21:00:00      0.088072          0.266146   52886.81    231798.83180\n2021-04-29 22:00:00      0.101994          0.262103   53365.87     26028.94960\n2021-04-29 23:00:00      0.092464          0.265168   53487.20    143494.68140\n\n[696 rows x 4 columns]",
      "text/html": "<div>\n<style scoped>\n    .dataframe tbody tr th:only-of-type {\n        vertical-align: middle;\n    }\n\n    .dataframe tbody tr th {\n        vertical-align: top;\n    }\n\n    .dataframe thead th {\n        text-align: right;\n    }\n</style>\n<table border=\"1\" class=\"dataframe\">\n  <thead>\n    <tr style=\"text-align: right;\">\n      <th></th>\n      <th>BTC Polarity</th>\n      <th>BTC Subjectivity</th>\n      <th>BTC Price</th>\n      <th>BTC Volume USD</th>\n    </tr>\n    <tr>\n      <th>Timestamp</th>\n      <th></th>\n      <th></th>\n      <th></th>\n      <th></th>\n    </tr>\n  </thead>\n  <tbody>\n    <tr>\n      <th>2021-04-01 00:00:00</th>\n      <td>0.175066</td>\n      <td>0.389011</td>\n      <td>58819.71</td>\n      <td>147060.23610</td>\n    </tr>\n    <tr>\n      <th>2021-04-01 01:00:00</th>\n      <td>0.178756</td>\n      <td>0.385661</td>\n      <td>59300.00</td>\n      <td>120942.26580</td>\n    </tr>\n    <tr>\n      <th>2021-04-01 02:00:00</th>\n      <td>0.192258</td>\n      <td>0.395874</td>\n      <td>59256.60</td>\n      <td>119496.68180</td>\n    </tr>\n    <tr>\n      <th>2021-04-01 03:00:00</th>\n      <td>0.202326</td>\n      <td>0.431403</td>\n      <td>59062.92</td>\n      <td>50524.25213</td>\n    </tr>\n    <tr>\n      <th>2021-04-01 04:00:00</th>\n      <td>0.201704</td>\n      <td>0.408369</td>\n      <td>59130.88</td>\n      <td>24092.55538</td>\n    </tr>\n    <tr>\n      <th>...</th>\n      <td>...</td>\n      <td>...</td>\n      <td>...</td>\n      <td>...</td>\n    </tr>\n    <tr>\n      <th>2021-04-29 19:00:00</th>\n      <td>0.087239</td>\n      <td>0.267478</td>\n      <td>52974.90</td>\n      <td>199495.79050</td>\n    </tr>\n    <tr>\n      <th>2021-04-29 20:00:00</th>\n      <td>0.083779</td>\n      <td>0.261432</td>\n      <td>52818.49</td>\n      <td>198687.77280</td>\n    </tr>\n    <tr>\n      <th>2021-04-29 21:00:00</th>\n      <td>0.088072</td>\n      <td>0.266146</td>\n      <td>52886.81</td>\n      <td>231798.83180</td>\n    </tr>\n    <tr>\n      <th>2021-04-29 22:00:00</th>\n      <td>0.101994</td>\n      <td>0.262103</td>\n      <td>53365.87</td>\n      <td>26028.94960</td>\n    </tr>\n    <tr>\n      <th>2021-04-29 23:00:00</th>\n      <td>0.092464</td>\n      <td>0.265168</td>\n      <td>53487.20</td>\n      <td>143494.68140</td>\n    </tr>\n  </tbody>\n</table>\n<p>696 rows × 4 columns</p>\n</div>"
     },
     "execution_count": 13,
     "metadata": {},
     "output_type": "execute_result"
    }
   ],
   "source": [
    "train_data['BTC_60min']"
   ],
   "metadata": {
    "collapsed": false,
    "pycharm": {
     "name": "#%%\n"
    }
   }
  },
  {
   "cell_type": "code",
   "execution_count": 14,
   "outputs": [
    {
     "name": "stdout",
     "output_type": "stream",
     "text": [
      "Saved Train: BTC_1min_ETH_1min\n",
      "Saved Train: BTC_1min_LTC_1min\n",
      "Saved Train: BTC_1min_XRP_1min\n",
      "Saved Train: ETH_1min_LTC_1min\n",
      "Saved Train: ETH_1min_XRP_1min\n",
      "Saved Train: LTC_1min_XRP_1min\n",
      "Saved Train: BTC_10min_ETH_10min\n",
      "Saved Train: BTC_10min_LTC_10min\n",
      "Saved Train: BTC_10min_XRP_10min\n",
      "Saved Train: ETH_10min_LTC_10min\n",
      "Saved Train: ETH_10min_XRP_10min\n",
      "Saved Train: LTC_10min_XRP_10min\n",
      "Saved Train: BTC_60min_ETH_60min\n",
      "Saved Train: BTC_60min_LTC_60min\n",
      "Saved Train: BTC_60min_XRP_60min\n",
      "Saved Train: ETH_60min_LTC_60min\n",
      "Saved Train: ETH_60min_XRP_60min\n",
      "Saved Train: LTC_60min_XRP_60min\n",
      "Saved Train: BTC_1d_ETH_1d\n",
      "Saved Train: BTC_1d_LTC_1d\n",
      "Saved Train: BTC_1d_XRP_1d\n",
      "Saved Train: ETH_1d_LTC_1d\n",
      "Saved Train: ETH_1d_XRP_1d\n",
      "Saved Train: LTC_1d_XRP_1d\n"
     ]
    }
   ],
   "source": [
    "# Now create a net sentiment measure\n",
    "\n",
    "desired_pairs = [('BTC_1min', 'ETH_1min'), ('BTC_1min', 'LTC_1min'), ('BTC_1min', 'XRP_1min'), ('ETH_1min', 'LTC_1min'), ('ETH_1min', 'XRP_1min'), ('LTC_1min', 'XRP_1min'),('BTC_10min', 'ETH_10min'), ('BTC_10min', 'LTC_10min'), ('BTC_10min', 'XRP_10min'), ('ETH_10min', 'LTC_10min'), ('ETH_10min', 'XRP_10min'), ('LTC_10min', 'XRP_10min'), ('BTC_60min', 'ETH_60min'), ('BTC_60min', 'LTC_60min'), ('BTC_60min', 'XRP_60min'), ('ETH_60min', 'LTC_60min'), ('ETH_60min', 'XRP_60min'), ('LTC_60min', 'XRP_60min'), ('BTC_1d', 'ETH_1d'), ('BTC_1d', 'LTC_1d'), ('BTC_1d', 'XRP_1d'), ('ETH_1d', 'LTC_1d'), ('ETH_1d', 'XRP_1d'), ('LTC_1d', 'XRP_1d')]\n",
    "\n",
    "for pair in desired_pairs:\n",
    "    joint_pair = pair[0] + '_' + pair[1]\n",
    "    curr_1 = pair[0].split('_')[0]\n",
    "    curr_2 = pair[1].split('_')[0]\n",
    "\n",
    "    train_data[joint_pair] = train_data[pair[0]].merge(train_data[pair[1]], on='Timestamp')\n",
    "    train_data[joint_pair]['Net Polarity'] = train_data[joint_pair][curr_1 + ' Polarity'].sub(train_data[joint_pair][curr_2 + ' Polarity'], fill_value=np.nan)\n",
    "    train_data[joint_pair]['Net Subjectivity'] = train_data[joint_pair][curr_1 + ' Subjectivity'].sub(train_data[joint_pair][curr_2 + ' Subjectivity'], fill_value=np.nan)\n",
    "    train_data[joint_pair]['Net Volume'] = train_data[joint_pair][curr_1 + ' Volume USD'].sub(train_data[joint_pair][curr_2 + ' Volume USD'], fill_value=np.nan)\n",
    "    train_data[joint_pair]['Price Ratio'] = train_data[joint_pair][curr_2 + ' Price'].div(train_data[joint_pair][curr_1 + ' Price'], fill_value=np.nan)\n",
    "    train_data[joint_pair].to_csv(joint_pair + '_april.csv')\n",
    "    print('Saved Train: ' + joint_pair)\n",
    "\n",
    "    # test_data[joint_pair] = test_data[pair[0]].merge(test_data[pair[1]], on='Timestamp')\n",
    "    # test_data[joint_pair]['Net Polarity'] = test_data[joint_pair][curr_1 + ' Polarity'].sub(test_data[joint_pair][curr_2 + ' Polarity'], fill_value=np.nan)\n",
    "    # test_data[joint_pair]['Net Subjectivity'] = test_data[joint_pair][curr_1 + ' Subjectivity'].sub(test_data[joint_pair][curr_2 + ' Subjectivity'], fill_value=np.nan)\n",
    "    # test_data[joint_pair]['Net Volume'] = test_data[joint_pair][curr_1 + ' Volume USD'].sub(test_data[joint_pair][curr_2 + ' Volume USD'], fill_value=np.nan)\n",
    "    # test_data[joint_pair]['Price Ratio'] = test_data[joint_pair][curr_2 + ' Price'].div(test_data[joint_pair][curr_1 + ' Price'], fill_value=np.nan)\n",
    "    # test_data[joint_pair].to_csv(joint_pair + '_april.csv')\n",
    "    # print('Saved Test: ' + joint_pair)\n"
   ],
   "metadata": {
    "collapsed": false,
    "pycharm": {
     "name": "#%%\n"
    }
   }
  },
  {
   "cell_type": "code",
   "execution_count": 15,
   "outputs": [
    {
     "data": {
      "text/plain": "                     BTC Polarity  BTC Subjectivity  BTC Price  \\\nTimestamp                                                        \n2021-04-01 00:00:00      0.162737          0.366383   58819.71   \n2021-04-01 00:10:00      0.182590          0.402338   59080.08   \n2021-04-01 00:20:00      0.148116          0.363064   58943.56   \n2021-04-01 00:30:00      0.190115          0.408182   59006.44   \n2021-04-01 00:40:00      0.166590          0.386431   59024.85   \n...                           ...               ...        ...   \n2021-04-29 23:10:00      0.099791          0.281702   53406.91   \n2021-04-29 23:20:00      0.073965          0.252955   53488.60   \n2021-04-29 23:30:00      0.077567          0.265562   53622.92   \n2021-04-29 23:40:00      0.114971          0.278449   53520.41   \n2021-04-29 23:50:00      0.094880          0.263308   53624.87   \n\n                     BTC Volume USD  ETH Polarity  ETH Subjectivity  \\\nTimestamp                                                             \n2021-04-01 00:00:00    147060.23610      0.172430          0.427254   \n2021-04-01 00:10:00     15975.59748      0.176927          0.410761   \n2021-04-01 00:20:00     29414.36485      0.150114          0.442523   \n2021-04-01 00:30:00     40951.92151      0.168412          0.448025   \n2021-04-01 00:40:00     40068.05496      0.246038          0.495427   \n...                             ...           ...               ...   \n2021-04-29 23:10:00    139553.93760      0.130814          0.303374   \n2021-04-29 23:20:00     91037.61913      0.107149          0.274438   \n2021-04-29 23:30:00     72523.29302      0.079611          0.314013   \n2021-04-29 23:40:00     11688.54284      0.151769          0.328382   \n2021-04-29 23:50:00     63619.65023      0.113993          0.258105   \n\n                     ETH Price  ETH Volume USD  Net Polarity  \\\nTimestamp                                                      \n2021-04-01 00:00:00    1929.72   100208.998700     -0.009694   \n2021-04-01 00:10:00    1928.68     1051.576607      0.005662   \n2021-04-01 00:20:00    1926.58     1009.527920     -0.001998   \n2021-04-01 00:30:00    1924.97        0.000000      0.021703   \n2021-04-01 00:40:00    1924.77    34864.531790     -0.079448   \n...                        ...             ...           ...   \n2021-04-29 23:10:00    2762.43    10724.563950     -0.031023   \n2021-04-29 23:20:00    2761.54     1577.251113     -0.033184   \n2021-04-29 23:30:00    2765.80    12907.782350     -0.002043   \n2021-04-29 23:40:00    2755.43     8266.303998     -0.036798   \n2021-04-29 23:50:00    2759.00   138830.323000     -0.019113   \n\n                     Net Subjectivity     Net Volume  Price Ratio  \nTimestamp                                                          \n2021-04-01 00:00:00         -0.060871   46851.237400     0.032807  \n2021-04-01 00:10:00         -0.008424   14924.020873     0.032645  \n2021-04-01 00:20:00         -0.079459   28404.836930     0.032685  \n2021-04-01 00:30:00         -0.039842   40951.921510     0.032623  \n2021-04-01 00:40:00         -0.108996    5203.523170     0.032609  \n...                               ...            ...          ...  \n2021-04-29 23:10:00         -0.021672  128829.373650     0.051724  \n2021-04-29 23:20:00         -0.021482   89460.368017     0.051629  \n2021-04-29 23:30:00         -0.048451   59615.510670     0.051579  \n2021-04-29 23:40:00         -0.049934    3422.238842     0.051484  \n2021-04-29 23:50:00          0.005203  -75210.672770     0.051450  \n\n[4176 rows x 12 columns]",
      "text/html": "<div>\n<style scoped>\n    .dataframe tbody tr th:only-of-type {\n        vertical-align: middle;\n    }\n\n    .dataframe tbody tr th {\n        vertical-align: top;\n    }\n\n    .dataframe thead th {\n        text-align: right;\n    }\n</style>\n<table border=\"1\" class=\"dataframe\">\n  <thead>\n    <tr style=\"text-align: right;\">\n      <th></th>\n      <th>BTC Polarity</th>\n      <th>BTC Subjectivity</th>\n      <th>BTC Price</th>\n      <th>BTC Volume USD</th>\n      <th>ETH Polarity</th>\n      <th>ETH Subjectivity</th>\n      <th>ETH Price</th>\n      <th>ETH Volume USD</th>\n      <th>Net Polarity</th>\n      <th>Net Subjectivity</th>\n      <th>Net Volume</th>\n      <th>Price Ratio</th>\n    </tr>\n    <tr>\n      <th>Timestamp</th>\n      <th></th>\n      <th></th>\n      <th></th>\n      <th></th>\n      <th></th>\n      <th></th>\n      <th></th>\n      <th></th>\n      <th></th>\n      <th></th>\n      <th></th>\n      <th></th>\n    </tr>\n  </thead>\n  <tbody>\n    <tr>\n      <th>2021-04-01 00:00:00</th>\n      <td>0.162737</td>\n      <td>0.366383</td>\n      <td>58819.71</td>\n      <td>147060.23610</td>\n      <td>0.172430</td>\n      <td>0.427254</td>\n      <td>1929.72</td>\n      <td>100208.998700</td>\n      <td>-0.009694</td>\n      <td>-0.060871</td>\n      <td>46851.237400</td>\n      <td>0.032807</td>\n    </tr>\n    <tr>\n      <th>2021-04-01 00:10:00</th>\n      <td>0.182590</td>\n      <td>0.402338</td>\n      <td>59080.08</td>\n      <td>15975.59748</td>\n      <td>0.176927</td>\n      <td>0.410761</td>\n      <td>1928.68</td>\n      <td>1051.576607</td>\n      <td>0.005662</td>\n      <td>-0.008424</td>\n      <td>14924.020873</td>\n      <td>0.032645</td>\n    </tr>\n    <tr>\n      <th>2021-04-01 00:20:00</th>\n      <td>0.148116</td>\n      <td>0.363064</td>\n      <td>58943.56</td>\n      <td>29414.36485</td>\n      <td>0.150114</td>\n      <td>0.442523</td>\n      <td>1926.58</td>\n      <td>1009.527920</td>\n      <td>-0.001998</td>\n      <td>-0.079459</td>\n      <td>28404.836930</td>\n      <td>0.032685</td>\n    </tr>\n    <tr>\n      <th>2021-04-01 00:30:00</th>\n      <td>0.190115</td>\n      <td>0.408182</td>\n      <td>59006.44</td>\n      <td>40951.92151</td>\n      <td>0.168412</td>\n      <td>0.448025</td>\n      <td>1924.97</td>\n      <td>0.000000</td>\n      <td>0.021703</td>\n      <td>-0.039842</td>\n      <td>40951.921510</td>\n      <td>0.032623</td>\n    </tr>\n    <tr>\n      <th>2021-04-01 00:40:00</th>\n      <td>0.166590</td>\n      <td>0.386431</td>\n      <td>59024.85</td>\n      <td>40068.05496</td>\n      <td>0.246038</td>\n      <td>0.495427</td>\n      <td>1924.77</td>\n      <td>34864.531790</td>\n      <td>-0.079448</td>\n      <td>-0.108996</td>\n      <td>5203.523170</td>\n      <td>0.032609</td>\n    </tr>\n    <tr>\n      <th>...</th>\n      <td>...</td>\n      <td>...</td>\n      <td>...</td>\n      <td>...</td>\n      <td>...</td>\n      <td>...</td>\n      <td>...</td>\n      <td>...</td>\n      <td>...</td>\n      <td>...</td>\n      <td>...</td>\n      <td>...</td>\n    </tr>\n    <tr>\n      <th>2021-04-29 23:10:00</th>\n      <td>0.099791</td>\n      <td>0.281702</td>\n      <td>53406.91</td>\n      <td>139553.93760</td>\n      <td>0.130814</td>\n      <td>0.303374</td>\n      <td>2762.43</td>\n      <td>10724.563950</td>\n      <td>-0.031023</td>\n      <td>-0.021672</td>\n      <td>128829.373650</td>\n      <td>0.051724</td>\n    </tr>\n    <tr>\n      <th>2021-04-29 23:20:00</th>\n      <td>0.073965</td>\n      <td>0.252955</td>\n      <td>53488.60</td>\n      <td>91037.61913</td>\n      <td>0.107149</td>\n      <td>0.274438</td>\n      <td>2761.54</td>\n      <td>1577.251113</td>\n      <td>-0.033184</td>\n      <td>-0.021482</td>\n      <td>89460.368017</td>\n      <td>0.051629</td>\n    </tr>\n    <tr>\n      <th>2021-04-29 23:30:00</th>\n      <td>0.077567</td>\n      <td>0.265562</td>\n      <td>53622.92</td>\n      <td>72523.29302</td>\n      <td>0.079611</td>\n      <td>0.314013</td>\n      <td>2765.80</td>\n      <td>12907.782350</td>\n      <td>-0.002043</td>\n      <td>-0.048451</td>\n      <td>59615.510670</td>\n      <td>0.051579</td>\n    </tr>\n    <tr>\n      <th>2021-04-29 23:40:00</th>\n      <td>0.114971</td>\n      <td>0.278449</td>\n      <td>53520.41</td>\n      <td>11688.54284</td>\n      <td>0.151769</td>\n      <td>0.328382</td>\n      <td>2755.43</td>\n      <td>8266.303998</td>\n      <td>-0.036798</td>\n      <td>-0.049934</td>\n      <td>3422.238842</td>\n      <td>0.051484</td>\n    </tr>\n    <tr>\n      <th>2021-04-29 23:50:00</th>\n      <td>0.094880</td>\n      <td>0.263308</td>\n      <td>53624.87</td>\n      <td>63619.65023</td>\n      <td>0.113993</td>\n      <td>0.258105</td>\n      <td>2759.00</td>\n      <td>138830.323000</td>\n      <td>-0.019113</td>\n      <td>0.005203</td>\n      <td>-75210.672770</td>\n      <td>0.051450</td>\n    </tr>\n  </tbody>\n</table>\n<p>4176 rows × 12 columns</p>\n</div>"
     },
     "execution_count": 15,
     "metadata": {},
     "output_type": "execute_result"
    }
   ],
   "source": [
    "train_data['BTC_10min_ETH_10min']"
   ],
   "metadata": {
    "collapsed": false,
    "pycharm": {
     "name": "#%%\n"
    }
   }
  },
  {
   "cell_type": "code",
   "execution_count": null,
   "outputs": [],
   "source": [],
   "metadata": {
    "collapsed": false,
    "pycharm": {
     "name": "#%%\n"
    }
   }
  }
 ],
 "metadata": {
  "kernelspec": {
   "display_name": "Python 3",
   "language": "python",
   "name": "python3"
  },
  "language_info": {
   "codemirror_mode": {
    "name": "ipython",
    "version": 2
   },
   "file_extension": ".py",
   "mimetype": "text/x-python",
   "name": "python",
   "nbconvert_exporter": "python",
   "pygments_lexer": "ipython2",
   "version": "2.7.6"
  }
 },
 "nbformat": 4,
 "nbformat_minor": 0
}