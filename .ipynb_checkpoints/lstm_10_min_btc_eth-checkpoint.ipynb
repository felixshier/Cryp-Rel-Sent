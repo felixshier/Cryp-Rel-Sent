{
 "cells": [
  {
   "cell_type": "code",
   "execution_count": 1,
   "id": "ce936a89",
   "metadata": {},
   "outputs": [],
   "source": [
    "# imports\n",
    "\n",
    "import math\n",
    "import matplotlib.pyplot as plt\n",
    "import keras\n",
    "import pandas as pd\n",
    "import numpy as np\n",
    "from keras.models import Sequential\n",
    "from keras.layers import Dense\n",
    "from keras.layers import LSTM\n",
    "from keras.layers import Dropout\n",
    "from keras.layers import *\n",
    "from sklearn.preprocessing import MinMaxScaler\n",
    "from sklearn.metrics import mean_squared_error\n",
    "from sklearn.metrics import mean_absolute_error\n",
    "from sklearn.model_selection import train_test_split\n",
    "from keras.callbacks import EarlyStopping"
   ]
  },
  {
   "cell_type": "markdown",
   "id": "ed226131",
   "metadata": {},
   "source": [
    "# 10 MINUTE DATA"
   ]
  },
  {
   "cell_type": "code",
   "execution_count": 2,
   "id": "e2d52b69",
   "metadata": {},
   "outputs": [],
   "source": [
    "# read data\n",
    "\n",
    "march_df = pd.read_csv(\"BTC_10min_ETH_10min_march.csv\")\n",
    "april_df = pd.read_csv(\"BTC_10min_ETH_10min_april.csv\")"
   ]
  },
  {
   "cell_type": "markdown",
   "id": "3cd87b98",
   "metadata": {},
   "source": [
    "## MODEL 1: ALL FEATURES"
   ]
  },
  {
   "cell_type": "code",
   "execution_count": null,
   "id": "a3b836b3",
   "metadata": {},
   "outputs": [],
   "source": [
    "# combine data\n",
    "\n",
    "df = pd.concat([march_df, april_df], axis=0)\n",
    "\n",
    "# split testing and training data\n",
    "\n",
    "train_size = int(np.round(df.shape[0]*0.90))\n",
    "test_size = int(np.round(df.shape[0]*0.10))\n",
    "\n",
    "training_set = df.iloc[:train_size, 1:]\n",
    "test_set = df.iloc[test_size:, 1:]\n",
    "\n",
    "# feature scaling\n",
    "\n",
    "x_sc = MinMaxScaler(feature_range = (0, 1))\n",
    "y_sc = MinMaxScaler(feature_range = (0, 1))\n",
    "\n",
    "training_set.iloc[:, 0:11] = x_sc.fit_transform(training_set.iloc[:, 0:11])\n",
    "training_set['Price Ratio'] = y_sc.fit_transform(training_set['Price Ratio'].values.reshape(-1,1))\n",
    "training_set_scaled = training_set.values\n",
    "\n",
    "# creating a data structure with 6 time-steps and 1 output\n",
    "\n",
    "X_train = []\n",
    "y_train = []\n",
    "for i in range(6, train_size):\n",
    "    X_train.append(training_set_scaled[i-6:i, 0:11])\n",
    "    y_train.append(training_set_scaled[i, -1])\n",
    "X_train, y_train = np.array(X_train), np.array(y_train)\n",
    "X_train = np.reshape(X_train, (X_train.shape[0], X_train.shape[1], 11))"
   ]
  },
  {
   "cell_type": "code",
   "execution_count": null,
   "id": "f59d7e72",
   "metadata": {},
   "outputs": [],
   "source": [
    "# model\n",
    "\n",
    "model_2 = Sequential()\n",
    "\n",
    "#Adding the first LSTM layer and some Dropout regularisation\n",
    "model_2.add(LSTM(units = 50, return_sequences = True, input_shape = (X_train.shape[1], X_train.shape[2])))\n",
    "model_2.add(Dropout(0.2))\n",
    "\n",
    "# Adding a second LSTM layer and some Dropout regularisation\n",
    "model_2.add(LSTM(units = 50, return_sequences = True))\n",
    "model_2.add(Dropout(0.2))\n",
    "\n",
    "# Adding a third LSTM layer and some Dropout regularisation\n",
    "model_2.add(LSTM(units = 50, return_sequences = True))\n",
    "model_2.add(Dropout(0.2))\n",
    "\n",
    "# Adding a fourth LSTM layer and some Dropout regularisation\n",
    "model_2.add(LSTM(units = 50))\n",
    "model_2.add(Dropout(0.2))\n",
    "\n",
    "# Adding the output layer\n",
    "model_2.add(Dense(units = 1))\n",
    "\n",
    "# Compiling the RNN\n",
    "model_2.compile(optimizer = 'adam', loss = 'mean_squared_error')"
   ]
  },
  {
   "cell_type": "code",
   "execution_count": null,
   "id": "735851f8",
   "metadata": {},
   "outputs": [],
   "source": [
    "# Fitting the RNN to the Training set\n",
    "\n",
    "history_2 = model_2.fit(X_train, y_train, epochs = 100, batch_size = 32, validation_split = 0.2)"
   ]
  },
  {
   "cell_type": "code",
   "execution_count": null,
   "id": "95446857",
   "metadata": {},
   "outputs": [],
   "source": [
    "plt.plot(history_2.history['loss'])\n",
    "plt.plot(history_2.history['val_loss'])\n",
    "plt.title('model 2 loss')\n",
    "plt.ylabel('loss')\n",
    "plt.xlabel('epoch')\n",
    "plt.legend(['train', 'val'], loc='upper left')\n",
    "plt.show()"
   ]
  },
  {
   "cell_type": "code",
   "execution_count": null,
   "id": "9829cb36",
   "metadata": {},
   "outputs": [],
   "source": [
    "# prep inputs to get predictions\n",
    "\n",
    "dataset_train = df.iloc[:train_size, 1:]\n",
    "dataset_test = df.iloc[train_size:, 1:]\n",
    "dataset_total = pd.concat((dataset_train, dataset_test), axis = 0)\n",
    "\n",
    "dataset_total.iloc[:, 0:11] = x_sc.fit_transform(dataset_total.iloc[:, 0:11])\n",
    "dataset_total['Price Ratio'] = y_sc.fit_transform(dataset_total['Price Ratio'].values.reshape(-1,1))\n",
    "\n",
    "inputs = dataset_total[len(dataset_total) - len(dataset_test) - 6:].values\n",
    "inputs = inputs.reshape(-1,12)\n",
    "\n",
    "X_test = []\n",
    "for i in range(6, test_size+6):\n",
    "    X_test.append(inputs[i-6:i, 0:11])\n",
    "X_test = np.array(X_test)\n",
    "X_test = np.reshape(X_test, (X_test.shape[0], X_test.shape[1], 11))\n",
    "\n",
    "# get predictions\n",
    "\n",
    "predicted_values = model_2.predict(X_test)\n",
    "#predicted_values = y_sc.inverse_transform(predicted_values)"
   ]
  },
  {
   "cell_type": "code",
   "execution_count": null,
   "id": "5618f9a4",
   "metadata": {},
   "outputs": [],
   "source": [
    "# visualising the results\n",
    "\n",
    "plt.figure(figsize=(40, 20))\n",
    "plt.plot(df.iloc[train_size:, 0], dataset_test['Price Ratio'].values, color = 'red', label = 'Real Price Ratio')\n",
    "plt.plot(df.iloc[train_size:, 0], predicted_values, color = 'blue', label = 'Predicted Price Ratio')\n",
    "plt.xticks(np.arange(0,test_size,50))\n",
    "plt.title('Price Ratio Prediction')\n",
    "plt.xlabel('Time')\n",
    "plt.ylabel('Price Ratio')\n",
    "plt.legend()\n",
    "\n",
    "plt.show()"
   ]
  }
 ],
 "metadata": {
  "kernelspec": {
   "display_name": "Python 3",
   "language": "python",
   "name": "python3"
  },
  "language_info": {
   "codemirror_mode": {
    "name": "ipython",
    "version": 3
   },
   "file_extension": ".py",
   "mimetype": "text/x-python",
   "name": "python",
   "nbconvert_exporter": "python",
   "pygments_lexer": "ipython3",
   "version": "3.8.12"
  }
 },
 "nbformat": 4,
 "nbformat_minor": 5
}
