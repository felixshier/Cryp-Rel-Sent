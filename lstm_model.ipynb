{
 "cells": [
  {
   "cell_type": "markdown",
   "id": "ed226131",
   "metadata": {},
   "source": [
    "# 1 MINUTE LTC-XRP DATA"
   ]
  },
  {
   "cell_type": "markdown",
   "id": "3cd87b98",
   "metadata": {},
   "source": [
    "## MODEL 1: ALL FEATURES"
   ]
  },
  {
   "cell_type": "code",
   "execution_count": 1,
   "id": "85d18089",
   "metadata": {},
   "outputs": [],
   "source": [
    "%reset -f"
   ]
  },
  {
   "cell_type": "code",
   "execution_count": 2,
   "id": "ce936a89",
   "metadata": {},
   "outputs": [],
   "source": [
    "# imports\n",
    "\n",
    "import math\n",
    "import matplotlib.pyplot as plt\n",
    "import keras\n",
    "import pandas as pd\n",
    "import numpy as np\n",
    "from keras.models import Sequential\n",
    "from keras.layers import Dense\n",
    "from keras.layers import LSTM\n",
    "from keras.layers import Dropout\n",
    "from keras.layers import *\n",
    "from sklearn.preprocessing import MinMaxScaler\n",
    "from sklearn.metrics import mean_squared_error\n",
    "from sklearn.metrics import mean_absolute_error\n",
    "from sklearn.model_selection import train_test_split\n",
    "from keras.callbacks import EarlyStopping"
   ]
  },
  {
   "cell_type": "code",
   "execution_count": 3,
   "id": "e2d52b69",
   "metadata": {},
   "outputs": [],
   "source": [
    "# read data\n",
    "\n",
    "march_df = pd.read_csv(\"LTC_1min_XRP_1min_march.csv\")\n",
    "april_df = pd.read_csv(\"LTC_1min_XRP_1min_april.csv\")"
   ]
  },
  {
   "cell_type": "code",
   "execution_count": 4,
   "id": "266a7189",
   "metadata": {},
   "outputs": [],
   "source": [
    "# combine data\n",
    "\n",
    "df = pd.concat([march_df, april_df], axis=0)\n",
    "\n",
    "\n",
    "# impute data\n",
    "\n",
    "df['LTC Polarity'] = df['LTC Polarity'].fillna(value=df['LTC Polarity'].mean())\n",
    "df['LTC Subjectivity'] = df['LTC Subjectivity'].fillna(value=df['LTC Subjectivity'].mean())\n",
    "df['XRP Polarity'] = df['XRP Polarity'].fillna(value=df['XRP Polarity'].mean())\n",
    "df['XRP Subjectivity'] = df['XRP Subjectivity'].fillna(value=df['XRP Subjectivity'].mean())\n",
    "df['Net Polarity'] = df['Net Polarity'].fillna(value=df['Net Polarity'].mean())\n",
    "df['Net Subjectivity'] = df['Net Subjectivity'].fillna(value=df['Net Subjectivity'].mean())\n",
    "\n",
    "# split testing and training data\n",
    "\n",
    "train_size = int(np.round(df.shape[0]*0.90))\n",
    "test_size = int(np.round(df.shape[0]*0.10))\n",
    "\n",
    "training_set = df.iloc[:train_size, 1:]\n",
    "test_set = df.iloc[test_size:, 1:]"
   ]
  },
  {
   "cell_type": "code",
   "execution_count": 5,
   "id": "db5df74d",
   "metadata": {},
   "outputs": [
    {
     "data": {
      "text/html": [
       "<div>\n",
       "<style scoped>\n",
       "    .dataframe tbody tr th:only-of-type {\n",
       "        vertical-align: middle;\n",
       "    }\n",
       "\n",
       "    .dataframe tbody tr th {\n",
       "        vertical-align: top;\n",
       "    }\n",
       "\n",
       "    .dataframe thead th {\n",
       "        text-align: right;\n",
       "    }\n",
       "</style>\n",
       "<table border=\"1\" class=\"dataframe\">\n",
       "  <thead>\n",
       "    <tr style=\"text-align: right;\">\n",
       "      <th></th>\n",
       "      <th>LTC Polarity</th>\n",
       "      <th>LTC Subjectivity</th>\n",
       "      <th>LTC Price</th>\n",
       "      <th>LTC Volume USD</th>\n",
       "      <th>XRP Polarity</th>\n",
       "      <th>XRP Subjectivity</th>\n",
       "      <th>XRP Price</th>\n",
       "      <th>XRP Volume USD</th>\n",
       "      <th>Net Polarity</th>\n",
       "      <th>Net Subjectivity</th>\n",
       "      <th>Net Volume</th>\n",
       "      <th>Price Ratio</th>\n",
       "    </tr>\n",
       "  </thead>\n",
       "  <tbody>\n",
       "    <tr>\n",
       "      <th>0</th>\n",
       "      <td>0.142857</td>\n",
       "      <td>0.278571</td>\n",
       "      <td>166.03</td>\n",
       "      <td>4073.107475</td>\n",
       "      <td>0.104545</td>\n",
       "      <td>0.036364</td>\n",
       "      <td>0.41742</td>\n",
       "      <td>20231.418290</td>\n",
       "      <td>0.038312</td>\n",
       "      <td>0.242208</td>\n",
       "      <td>-16158.310815</td>\n",
       "      <td>0.002514</td>\n",
       "    </tr>\n",
       "    <tr>\n",
       "      <th>1</th>\n",
       "      <td>0.000000</td>\n",
       "      <td>0.200000</td>\n",
       "      <td>166.27</td>\n",
       "      <td>58.504682</td>\n",
       "      <td>0.175000</td>\n",
       "      <td>0.150000</td>\n",
       "      <td>0.41742</td>\n",
       "      <td>0.000000</td>\n",
       "      <td>-0.175000</td>\n",
       "      <td>0.050000</td>\n",
       "      <td>58.504682</td>\n",
       "      <td>0.002510</td>\n",
       "    </tr>\n",
       "    <tr>\n",
       "      <th>2</th>\n",
       "      <td>0.000000</td>\n",
       "      <td>0.000000</td>\n",
       "      <td>165.25</td>\n",
       "      <td>147.778501</td>\n",
       "      <td>0.045614</td>\n",
       "      <td>0.244887</td>\n",
       "      <td>0.41469</td>\n",
       "      <td>67316.417510</td>\n",
       "      <td>-0.045614</td>\n",
       "      <td>-0.244887</td>\n",
       "      <td>-67168.639009</td>\n",
       "      <td>0.002509</td>\n",
       "    </tr>\n",
       "    <tr>\n",
       "      <th>3</th>\n",
       "      <td>0.094549</td>\n",
       "      <td>0.259995</td>\n",
       "      <td>164.95</td>\n",
       "      <td>379.522146</td>\n",
       "      <td>-0.035530</td>\n",
       "      <td>0.207702</td>\n",
       "      <td>0.41491</td>\n",
       "      <td>42829.337870</td>\n",
       "      <td>0.017775</td>\n",
       "      <td>0.003248</td>\n",
       "      <td>-42449.815724</td>\n",
       "      <td>0.002515</td>\n",
       "    </tr>\n",
       "    <tr>\n",
       "      <th>4</th>\n",
       "      <td>0.000000</td>\n",
       "      <td>0.000000</td>\n",
       "      <td>164.74</td>\n",
       "      <td>81015.336680</td>\n",
       "      <td>0.092222</td>\n",
       "      <td>0.235926</td>\n",
       "      <td>0.41452</td>\n",
       "      <td>9084.238362</td>\n",
       "      <td>-0.092222</td>\n",
       "      <td>-0.235926</td>\n",
       "      <td>71931.098318</td>\n",
       "      <td>0.002516</td>\n",
       "    </tr>\n",
       "  </tbody>\n",
       "</table>\n",
       "</div>"
      ],
      "text/plain": [
       "   LTC Polarity  LTC Subjectivity  LTC Price  LTC Volume USD  XRP Polarity  \\\n",
       "0      0.142857          0.278571     166.03     4073.107475      0.104545   \n",
       "1      0.000000          0.200000     166.27       58.504682      0.175000   \n",
       "2      0.000000          0.000000     165.25      147.778501      0.045614   \n",
       "3      0.094549          0.259995     164.95      379.522146     -0.035530   \n",
       "4      0.000000          0.000000     164.74    81015.336680      0.092222   \n",
       "\n",
       "   XRP Subjectivity  XRP Price  XRP Volume USD  Net Polarity  \\\n",
       "0          0.036364    0.41742    20231.418290      0.038312   \n",
       "1          0.150000    0.41742        0.000000     -0.175000   \n",
       "2          0.244887    0.41469    67316.417510     -0.045614   \n",
       "3          0.207702    0.41491    42829.337870      0.017775   \n",
       "4          0.235926    0.41452     9084.238362     -0.092222   \n",
       "\n",
       "   Net Subjectivity    Net Volume  Price Ratio  \n",
       "0          0.242208 -16158.310815     0.002514  \n",
       "1          0.050000     58.504682     0.002510  \n",
       "2         -0.244887 -67168.639009     0.002509  \n",
       "3          0.003248 -42449.815724     0.002515  \n",
       "4         -0.235926  71931.098318     0.002516  "
      ]
     },
     "execution_count": 5,
     "metadata": {},
     "output_type": "execute_result"
    }
   ],
   "source": [
    "training_set.head()"
   ]
  },
  {
   "cell_type": "code",
   "execution_count": 6,
   "id": "b87cfcc8",
   "metadata": {},
   "outputs": [
    {
     "data": {
      "text/html": [
       "<div>\n",
       "<style scoped>\n",
       "    .dataframe tbody tr th:only-of-type {\n",
       "        vertical-align: middle;\n",
       "    }\n",
       "\n",
       "    .dataframe tbody tr th {\n",
       "        vertical-align: top;\n",
       "    }\n",
       "\n",
       "    .dataframe thead th {\n",
       "        text-align: right;\n",
       "    }\n",
       "</style>\n",
       "<table border=\"1\" class=\"dataframe\">\n",
       "  <thead>\n",
       "    <tr style=\"text-align: right;\">\n",
       "      <th></th>\n",
       "      <th>LTC Polarity</th>\n",
       "      <th>LTC Subjectivity</th>\n",
       "      <th>LTC Price</th>\n",
       "      <th>LTC Volume USD</th>\n",
       "      <th>XRP Polarity</th>\n",
       "      <th>XRP Subjectivity</th>\n",
       "      <th>XRP Price</th>\n",
       "      <th>XRP Volume USD</th>\n",
       "      <th>Net Polarity</th>\n",
       "      <th>Net Subjectivity</th>\n",
       "      <th>Net Volume</th>\n",
       "      <th>Price Ratio</th>\n",
       "    </tr>\n",
       "  </thead>\n",
       "  <tbody>\n",
       "    <tr>\n",
       "      <th>8496</th>\n",
       "      <td>0.094549</td>\n",
       "      <td>0.259995</td>\n",
       "      <td>180.52</td>\n",
       "      <td>0.000000</td>\n",
       "      <td>0.053333</td>\n",
       "      <td>0.305833</td>\n",
       "      <td>0.46038</td>\n",
       "      <td>0.000000</td>\n",
       "      <td>0.017775</td>\n",
       "      <td>0.003248</td>\n",
       "      <td>0.00000</td>\n",
       "      <td>0.002550</td>\n",
       "    </tr>\n",
       "    <tr>\n",
       "      <th>8497</th>\n",
       "      <td>0.094549</td>\n",
       "      <td>0.259995</td>\n",
       "      <td>180.42</td>\n",
       "      <td>9167.670635</td>\n",
       "      <td>-0.081149</td>\n",
       "      <td>0.207313</td>\n",
       "      <td>0.45998</td>\n",
       "      <td>615.768545</td>\n",
       "      <td>0.017775</td>\n",
       "      <td>0.003248</td>\n",
       "      <td>8551.90209</td>\n",
       "      <td>0.002549</td>\n",
       "    </tr>\n",
       "    <tr>\n",
       "      <th>8498</th>\n",
       "      <td>0.094549</td>\n",
       "      <td>0.259995</td>\n",
       "      <td>180.43</td>\n",
       "      <td>2870.100010</td>\n",
       "      <td>0.031491</td>\n",
       "      <td>0.167652</td>\n",
       "      <td>0.46037</td>\n",
       "      <td>51712.460850</td>\n",
       "      <td>0.017775</td>\n",
       "      <td>0.003248</td>\n",
       "      <td>-48842.36084</td>\n",
       "      <td>0.002552</td>\n",
       "    </tr>\n",
       "    <tr>\n",
       "      <th>8499</th>\n",
       "      <td>0.094549</td>\n",
       "      <td>0.259995</td>\n",
       "      <td>180.43</td>\n",
       "      <td>4505.337100</td>\n",
       "      <td>0.090476</td>\n",
       "      <td>0.142857</td>\n",
       "      <td>0.46049</td>\n",
       "      <td>2762.940000</td>\n",
       "      <td>0.017775</td>\n",
       "      <td>0.003248</td>\n",
       "      <td>1742.39710</td>\n",
       "      <td>0.002552</td>\n",
       "    </tr>\n",
       "    <tr>\n",
       "      <th>8500</th>\n",
       "      <td>0.000000</td>\n",
       "      <td>1.000000</td>\n",
       "      <td>180.43</td>\n",
       "      <td>0.000000</td>\n",
       "      <td>0.084764</td>\n",
       "      <td>0.280093</td>\n",
       "      <td>0.46061</td>\n",
       "      <td>5330.178920</td>\n",
       "      <td>-0.084764</td>\n",
       "      <td>0.719907</td>\n",
       "      <td>-5330.17892</td>\n",
       "      <td>0.002553</td>\n",
       "    </tr>\n",
       "  </tbody>\n",
       "</table>\n",
       "</div>"
      ],
      "text/plain": [
       "      LTC Polarity  LTC Subjectivity  LTC Price  LTC Volume USD  XRP Polarity  \\\n",
       "8496      0.094549          0.259995     180.52        0.000000      0.053333   \n",
       "8497      0.094549          0.259995     180.42     9167.670635     -0.081149   \n",
       "8498      0.094549          0.259995     180.43     2870.100010      0.031491   \n",
       "8499      0.094549          0.259995     180.43     4505.337100      0.090476   \n",
       "8500      0.000000          1.000000     180.43        0.000000      0.084764   \n",
       "\n",
       "      XRP Subjectivity  XRP Price  XRP Volume USD  Net Polarity  \\\n",
       "8496          0.305833    0.46038        0.000000      0.017775   \n",
       "8497          0.207313    0.45998      615.768545      0.017775   \n",
       "8498          0.167652    0.46037    51712.460850      0.017775   \n",
       "8499          0.142857    0.46049     2762.940000      0.017775   \n",
       "8500          0.280093    0.46061     5330.178920     -0.084764   \n",
       "\n",
       "      Net Subjectivity   Net Volume  Price Ratio  \n",
       "8496          0.003248      0.00000     0.002550  \n",
       "8497          0.003248   8551.90209     0.002549  \n",
       "8498          0.003248 -48842.36084     0.002552  \n",
       "8499          0.003248   1742.39710     0.002552  \n",
       "8500          0.719907  -5330.17892     0.002553  "
      ]
     },
     "execution_count": 6,
     "metadata": {},
     "output_type": "execute_result"
    }
   ],
   "source": [
    "test_set.head()"
   ]
  },
  {
   "cell_type": "code",
   "execution_count": 7,
   "id": "6e1df60b",
   "metadata": {},
   "outputs": [],
   "source": [
    "# feature scaling\n",
    "\n",
    "x_sc = MinMaxScaler(feature_range = (0, 1))\n",
    "y_sc = MinMaxScaler(feature_range = (0, 1))\n",
    "\n",
    "training_set.iloc[:, 0:11] = x_sc.fit_transform(training_set.iloc[:, 0:11])\n",
    "training_set['Price Ratio'] = y_sc.fit_transform(training_set['Price Ratio'].values.reshape(-1,1))\n",
    "training_set_scaled = training_set.values"
   ]
  },
  {
   "cell_type": "code",
   "execution_count": 8,
   "id": "a3b836b3",
   "metadata": {},
   "outputs": [],
   "source": [
    "# creating a data structure with 6 time-steps and 1 output\n",
    "\n",
    "window = 15\n",
    "\n",
    "X_train = []\n",
    "y_train = []\n",
    "for i in range(window, train_size):\n",
    "    X_train.append(training_set_scaled[i-window:i, 0:11])\n",
    "    y_train.append(training_set_scaled[i, -1])\n",
    "X_train, y_train = np.array(X_train), np.array(y_train)\n",
    "X_train = np.reshape(X_train, (X_train.shape[0], X_train.shape[1], 11))"
   ]
  },
  {
   "cell_type": "code",
   "execution_count": 9,
   "id": "75b21b47",
   "metadata": {},
   "outputs": [
    {
     "data": {
      "text/plain": [
       "(76448, 15, 11)"
      ]
     },
     "execution_count": 9,
     "metadata": {},
     "output_type": "execute_result"
    }
   ],
   "source": [
    "X_train.shape"
   ]
  },
  {
   "cell_type": "code",
   "execution_count": 10,
   "id": "092b7a07",
   "metadata": {},
   "outputs": [
    {
     "data": {
      "text/plain": [
       "(76448,)"
      ]
     },
     "execution_count": 10,
     "metadata": {},
     "output_type": "execute_result"
    }
   ],
   "source": [
    "y_train.shape"
   ]
  },
  {
   "cell_type": "code",
   "execution_count": 11,
   "id": "f59d7e72",
   "metadata": {},
   "outputs": [],
   "source": [
    "# model\n",
    "\n",
    "model_1 = Sequential()\n",
    "\n",
    "#Adding the first LSTM layer and some Dropout regularisation\n",
    "model_1.add(LSTM(units = 50, return_sequences = True, input_shape = (X_train.shape[1], X_train.shape[2])))\n",
    "model_1.add(Dropout(0.2))\n",
    "\n",
    "# Adding a second LSTM layer and some Dropout regularisation\n",
    "model_1.add(LSTM(units = 50, return_sequences = True))\n",
    "model_1.add(Dropout(0.2))\n",
    "\n",
    "# Adding a third LSTM layer and some Dropout regularisation\n",
    "model_1.add(LSTM(units = 50, return_sequences = True))\n",
    "model_1.add(Dropout(0.2))\n",
    "\n",
    "# Adding a fourth LSTM layer and some Dropout regularisation\n",
    "model_1.add(LSTM(units = 50))\n",
    "model_1.add(Dropout(0.2))\n",
    "\n",
    "# Adding the output layer\n",
    "model_1.add(Dense(units = 1))\n",
    "\n",
    "# Compiling the RNN\n",
    "model_1.compile(optimizer = 'adam', loss = 'mean_squared_error')"
   ]
  },
  {
   "cell_type": "code",
   "execution_count": 12,
   "id": "735851f8",
   "metadata": {},
   "outputs": [
    {
     "name": "stdout",
     "output_type": "stream",
     "text": [
      "Epoch 1/20\n",
      "2389/2389 [==============================] - 51s 19ms/step - loss: 0.0017\n",
      "Epoch 2/20\n",
      "2389/2389 [==============================] - 46s 19ms/step - loss: 6.7639e-04\n",
      "Epoch 3/20\n",
      "2389/2389 [==============================] - 46s 19ms/step - loss: 6.0055e-04\n",
      "Epoch 4/20\n",
      "2389/2389 [==============================] - 45s 19ms/step - loss: 5.6875e-04\n",
      "Epoch 5/20\n",
      "2389/2389 [==============================] - 46s 19ms/step - loss: 5.3126e-04\n",
      "Epoch 6/20\n",
      "2389/2389 [==============================] - 46s 19ms/step - loss: 5.3361e-04\n",
      "Epoch 7/20\n",
      "2389/2389 [==============================] - 46s 19ms/step - loss: 5.1424e-04\n",
      "Epoch 8/20\n",
      "2389/2389 [==============================] - 49s 20ms/step - loss: 5.0789e-04\n",
      "Epoch 9/20\n",
      "2389/2389 [==============================] - 46s 19ms/step - loss: 5.0021e-04\n",
      "Epoch 10/20\n",
      "2389/2389 [==============================] - 46s 19ms/step - loss: 4.9539e-04\n",
      "Epoch 11/20\n",
      "2389/2389 [==============================] - 46s 19ms/step - loss: 4.9532e-04\n",
      "Epoch 12/20\n",
      "2389/2389 [==============================] - 46s 19ms/step - loss: 4.8390e-04\n",
      "Epoch 13/20\n",
      "2389/2389 [==============================] - 47s 20ms/step - loss: 4.9199e-04\n",
      "Epoch 14/20\n",
      "2389/2389 [==============================] - 46s 19ms/step - loss: 4.8025e-04\n",
      "Epoch 15/20\n",
      "2389/2389 [==============================] - 48s 20ms/step - loss: 4.6905e-04\n",
      "Epoch 16/20\n",
      "2389/2389 [==============================] - 50s 21ms/step - loss: 4.7191e-04\n",
      "Epoch 17/20\n",
      "2389/2389 [==============================] - 50s 21ms/step - loss: 4.7233e-04\n",
      "Epoch 18/20\n",
      "2389/2389 [==============================] - 46s 19ms/step - loss: 4.6480e-04\n",
      "Epoch 19/20\n",
      "2389/2389 [==============================] - 47s 20ms/step - loss: 4.5842e-04\n",
      "Epoch 20/20\n",
      "2389/2389 [==============================] - 47s 20ms/step - loss: 4.5601e-04\n"
     ]
    }
   ],
   "source": [
    "# Fitting the RNN to the Training set\n",
    "\n",
    "history_1 = model_1.fit(X_train, y_train, epochs = 20, batch_size = 32)"
   ]
  },
  {
   "cell_type": "code",
   "execution_count": 13,
   "id": "95446857",
   "metadata": {},
   "outputs": [
    {
     "data": {
      "image/png": "[encoded data removed]",
      "text/plain": [
       "<Figure size 432x288 with 1 Axes>"
      ]
     },
     "metadata": {
      "needs_background": "light"
     },
     "output_type": "display_data"
    }
   ],
   "source": [
    "plt.plot(history_1.history['loss'])\n",
    "#plt.plot(history_1.history['val_loss'])\n",
    "plt.title('model 1 loss')\n",
    "plt.ylabel('loss')\n",
    "plt.xlabel('epoch')\n",
    "plt.legend(['train', 'val'], loc='upper left')\n",
    "plt.show()"
   ]
  },
  {
   "cell_type": "code",
   "execution_count": 14,
   "id": "9829cb36",
   "metadata": {},
   "outputs": [],
   "source": [
    "# prep inputs to get predictions\n",
    "\n",
    "dataset_train = df.iloc[:train_size, 1:]\n",
    "dataset_test = df.iloc[train_size:, 1:]\n",
    "dataset_total = pd.concat((dataset_train, dataset_test), axis = 0)\n",
    "\n",
    "dataset_total.iloc[:, 0:11] = x_sc.fit_transform(dataset_total.iloc[:, 0:11])\n",
    "dataset_total['Price Ratio'] = y_sc.fit_transform(dataset_total['Price Ratio'].values.reshape(-1,1))\n",
    "\n",
    "inputs = dataset_total[len(dataset_total) - len(dataset_test) - window:].values\n",
    "inputs = inputs.reshape(-1,12)\n",
    "\n",
    "X_test = []\n",
    "for i in range(window, test_size+window):\n",
    "    X_test.append(inputs[i-window:i, 0:11])\n",
    "X_test = np.array(X_test)\n",
    "X_test = np.reshape(X_test, (X_test.shape[0], X_test.shape[1], 11))\n",
    "\n",
    "# get predictions\n",
    "\n",
    "predicted_values = model_1.predict(X_test)\n",
    "predicted_values = y_sc.inverse_transform(predicted_values)"
   ]
  },
  {
   "cell_type": "code",
   "execution_count": 15,
   "id": "5618f9a4",
   "metadata": {},
   "outputs": [
    {
     "name": "stderr",
     "output_type": "stream",
     "text": [
      "C:\\Users\\Felix\\AppData\\Local\\Temp\\ipykernel_19244\\2665450548.py:9: MatplotlibDeprecationWarning: Support for passing numbers through unit converters is deprecated since 3.5 and support will be removed two minor releases later; use Axis.convert_units instead.\n",
      "  plt.xticks([])\n"
     ]
    },
    {
     "data": {
      "image/png": "[encoded data removed]",
      "text/plain": [
       "<Figure size 648x432 with 1 Axes>"
      ]
     },
     "metadata": {
      "needs_background": "light"
     },
     "output_type": "display_data"
    }
   ],
   "source": [
    "# visualising the results\n",
    "\n",
    "plt.figure(figsize=(9, 6))\n",
    "plt.plot(df.iloc[train_size:, 0], dataset_test['Price Ratio'].values, color = 'red', label = 'Real Price Ratio')\n",
    "plt.plot(df.iloc[train_size:, 0], predicted_values, color = 'blue', label = 'Predicted Price Ratio')\n",
    "plt.xticks(np.arange(0,test_size,50))\n",
    "plt.title('Model 1 Price Ratio Prediction')\n",
    "plt.xlabel('Time')\n",
    "plt.xticks([])\n",
    "plt.ylabel('Price Ratio')\n",
    "plt.legend()\n",
    "plt.savefig(\"ltc_xrp_1min_model1\")\n",
    "plt.show()"
   ]
  },
  {
   "cell_type": "code",
   "execution_count": 16,
   "id": "e7b619b7",
   "metadata": {},
   "outputs": [
    {
     "name": "stdout",
     "output_type": "stream",
     "text": [
      "2.5332132984967985e-05\n"
     ]
    }
   ],
   "source": [
    "# rmse\n",
    "\n",
    "rmse = mean_squared_error(dataset_test['Price Ratio'].values, predicted_values, squared=False)\n",
    "print(rmse)"
   ]
  },
  {
   "cell_type": "code",
   "execution_count": 17,
   "id": "4781fb52",
   "metadata": {},
   "outputs": [
    {
     "name": "stdout",
     "output_type": "stream",
     "text": [
      "0.0003454332568758069\n"
     ]
    }
   ],
   "source": [
    "# std\n",
    "\n",
    "test_std = np.std(dataset_test['Price Ratio'].values)\n",
    "print(test_std)"
   ]
  },
  {
   "cell_type": "markdown",
   "id": "9424cd63",
   "metadata": {},
   "source": [
    "## MODEL 2: ONLY SENTIMENT DATA"
   ]
  },
  {
   "cell_type": "code",
   "execution_count": 18,
   "id": "e990cb47",
   "metadata": {},
   "outputs": [],
   "source": [
    "%reset -f"
   ]
  },
  {
   "cell_type": "code",
   "execution_count": 19,
   "id": "62d6ecc8",
   "metadata": {},
   "outputs": [],
   "source": [
    "# imports\n",
    "\n",
    "import math\n",
    "import matplotlib.pyplot as plt\n",
    "import keras\n",
    "import pandas as pd\n",
    "import numpy as np\n",
    "from keras.models import Sequential\n",
    "from keras.layers import Dense\n",
    "from keras.layers import LSTM\n",
    "from keras.layers import Dropout\n",
    "from keras.layers import *\n",
    "from sklearn.preprocessing import MinMaxScaler\n",
    "from sklearn.metrics import mean_squared_error\n",
    "from sklearn.metrics import mean_absolute_error\n",
    "from sklearn.model_selection import train_test_split\n",
    "from keras.callbacks import EarlyStopping"
   ]
  },
  {
   "cell_type": "code",
   "execution_count": 20,
   "id": "b16e0e36",
   "metadata": {},
   "outputs": [],
   "source": [
    "# read data\n",
    "\n",
    "march_df = pd.read_csv(\"LTC_1min_XRP_1min_march.csv\")\n",
    "april_df = pd.read_csv(\"LTC_1min_XRP_1min_april.csv\")"
   ]
  },
  {
   "cell_type": "code",
   "execution_count": 21,
   "id": "fa6a6fb5",
   "metadata": {},
   "outputs": [],
   "source": [
    "# combine data\n",
    "\n",
    "df = pd.concat([march_df, april_df], axis=0)\n",
    "\n",
    "# impute data\n",
    "\n",
    "df['LTC Polarity'] = df['LTC Polarity'].fillna(value=df['LTC Polarity'].mean())\n",
    "df['LTC Subjectivity'] = df['LTC Subjectivity'].fillna(value=df['LTC Subjectivity'].mean())\n",
    "df['XRP Polarity'] = df['XRP Polarity'].fillna(value=df['XRP Polarity'].mean())\n",
    "df['XRP Subjectivity'] = df['XRP Subjectivity'].fillna(value=df['XRP Subjectivity'].mean())\n",
    "df['Net Polarity'] = df['Net Polarity'].fillna(value=df['Net Polarity'].mean())\n",
    "df['Net Subjectivity'] = df['Net Subjectivity'].fillna(value=df['Net Subjectivity'].mean())\n",
    "\n",
    "df = df[[\"Timestamp\", \"LTC Polarity\", \"XRP Polarity\", \"LTC Subjectivity\", \"XRP Subjectivity\", \"Net Polarity\", \"Net Subjectivity\", \"Price Ratio\"]]\n",
    "\n",
    "# split testing and training data\n",
    "\n",
    "train_size = int(np.round(df.shape[0]*0.90))\n",
    "test_size = int(np.round(df.shape[0]*0.10))\n",
    "\n",
    "training_set = df.iloc[:train_size, 1:]\n",
    "test_set = df.iloc[test_size:, 1:]"
   ]
  },
  {
   "cell_type": "code",
   "execution_count": 22,
   "id": "5823136f",
   "metadata": {},
   "outputs": [
    {
     "data": {
      "text/html": [
       "<div>\n",
       "<style scoped>\n",
       "    .dataframe tbody tr th:only-of-type {\n",
       "        vertical-align: middle;\n",
       "    }\n",
       "\n",
       "    .dataframe tbody tr th {\n",
       "        vertical-align: top;\n",
       "    }\n",
       "\n",
       "    .dataframe thead th {\n",
       "        text-align: right;\n",
       "    }\n",
       "</style>\n",
       "<table border=\"1\" class=\"dataframe\">\n",
       "  <thead>\n",
       "    <tr style=\"text-align: right;\">\n",
       "      <th></th>\n",
       "      <th>LTC Polarity</th>\n",
       "      <th>XRP Polarity</th>\n",
       "      <th>LTC Subjectivity</th>\n",
       "      <th>XRP Subjectivity</th>\n",
       "      <th>Net Polarity</th>\n",
       "      <th>Net Subjectivity</th>\n",
       "      <th>Price Ratio</th>\n",
       "    </tr>\n",
       "  </thead>\n",
       "  <tbody>\n",
       "    <tr>\n",
       "      <th>0</th>\n",
       "      <td>0.142857</td>\n",
       "      <td>0.104545</td>\n",
       "      <td>0.278571</td>\n",
       "      <td>0.036364</td>\n",
       "      <td>0.038312</td>\n",
       "      <td>0.242208</td>\n",
       "      <td>0.002514</td>\n",
       "    </tr>\n",
       "    <tr>\n",
       "      <th>1</th>\n",
       "      <td>0.000000</td>\n",
       "      <td>0.175000</td>\n",
       "      <td>0.200000</td>\n",
       "      <td>0.150000</td>\n",
       "      <td>-0.175000</td>\n",
       "      <td>0.050000</td>\n",
       "      <td>0.002510</td>\n",
       "    </tr>\n",
       "    <tr>\n",
       "      <th>2</th>\n",
       "      <td>0.000000</td>\n",
       "      <td>0.045614</td>\n",
       "      <td>0.000000</td>\n",
       "      <td>0.244887</td>\n",
       "      <td>-0.045614</td>\n",
       "      <td>-0.244887</td>\n",
       "      <td>0.002509</td>\n",
       "    </tr>\n",
       "    <tr>\n",
       "      <th>3</th>\n",
       "      <td>0.094549</td>\n",
       "      <td>-0.035530</td>\n",
       "      <td>0.259995</td>\n",
       "      <td>0.207702</td>\n",
       "      <td>0.017775</td>\n",
       "      <td>0.003248</td>\n",
       "      <td>0.002515</td>\n",
       "    </tr>\n",
       "    <tr>\n",
       "      <th>4</th>\n",
       "      <td>0.000000</td>\n",
       "      <td>0.092222</td>\n",
       "      <td>0.000000</td>\n",
       "      <td>0.235926</td>\n",
       "      <td>-0.092222</td>\n",
       "      <td>-0.235926</td>\n",
       "      <td>0.002516</td>\n",
       "    </tr>\n",
       "  </tbody>\n",
       "</table>\n",
       "</div>"
      ],
      "text/plain": [
       "   LTC Polarity  XRP Polarity  LTC Subjectivity  XRP Subjectivity  \\\n",
       "0      0.142857      0.104545          0.278571          0.036364   \n",
       "1      0.000000      0.175000          0.200000          0.150000   \n",
       "2      0.000000      0.045614          0.000000          0.244887   \n",
       "3      0.094549     -0.035530          0.259995          0.207702   \n",
       "4      0.000000      0.092222          0.000000          0.235926   \n",
       "\n",
       "   Net Polarity  Net Subjectivity  Price Ratio  \n",
       "0      0.038312          0.242208     0.002514  \n",
       "1     -0.175000          0.050000     0.002510  \n",
       "2     -0.045614         -0.244887     0.002509  \n",
       "3      0.017775          0.003248     0.002515  \n",
       "4     -0.092222         -0.235926     0.002516  "
      ]
     },
     "execution_count": 22,
     "metadata": {},
     "output_type": "execute_result"
    }
   ],
   "source": [
    "training_set.head()"
   ]
  },
  {
   "cell_type": "code",
   "execution_count": 23,
   "id": "f7103e6a",
   "metadata": {},
   "outputs": [
    {
     "data": {
      "text/html": [
       "<div>\n",
       "<style scoped>\n",
       "    .dataframe tbody tr th:only-of-type {\n",
       "        vertical-align: middle;\n",
       "    }\n",
       "\n",
       "    .dataframe tbody tr th {\n",
       "        vertical-align: top;\n",
       "    }\n",
       "\n",
       "    .dataframe thead th {\n",
       "        text-align: right;\n",
       "    }\n",
       "</style>\n",
       "<table border=\"1\" class=\"dataframe\">\n",
       "  <thead>\n",
       "    <tr style=\"text-align: right;\">\n",
       "      <th></th>\n",
       "      <th>LTC Polarity</th>\n",
       "      <th>XRP Polarity</th>\n",
       "      <th>LTC Subjectivity</th>\n",
       "      <th>XRP Subjectivity</th>\n",
       "      <th>Net Polarity</th>\n",
       "      <th>Net Subjectivity</th>\n",
       "      <th>Price Ratio</th>\n",
       "    </tr>\n",
       "  </thead>\n",
       "  <tbody>\n",
       "    <tr>\n",
       "      <th>8496</th>\n",
       "      <td>0.094549</td>\n",
       "      <td>0.053333</td>\n",
       "      <td>0.259995</td>\n",
       "      <td>0.305833</td>\n",
       "      <td>0.017775</td>\n",
       "      <td>0.003248</td>\n",
       "      <td>0.002550</td>\n",
       "    </tr>\n",
       "    <tr>\n",
       "      <th>8497</th>\n",
       "      <td>0.094549</td>\n",
       "      <td>-0.081149</td>\n",
       "      <td>0.259995</td>\n",
       "      <td>0.207313</td>\n",
       "      <td>0.017775</td>\n",
       "      <td>0.003248</td>\n",
       "      <td>0.002549</td>\n",
       "    </tr>\n",
       "    <tr>\n",
       "      <th>8498</th>\n",
       "      <td>0.094549</td>\n",
       "      <td>0.031491</td>\n",
       "      <td>0.259995</td>\n",
       "      <td>0.167652</td>\n",
       "      <td>0.017775</td>\n",
       "      <td>0.003248</td>\n",
       "      <td>0.002552</td>\n",
       "    </tr>\n",
       "    <tr>\n",
       "      <th>8499</th>\n",
       "      <td>0.094549</td>\n",
       "      <td>0.090476</td>\n",
       "      <td>0.259995</td>\n",
       "      <td>0.142857</td>\n",
       "      <td>0.017775</td>\n",
       "      <td>0.003248</td>\n",
       "      <td>0.002552</td>\n",
       "    </tr>\n",
       "    <tr>\n",
       "      <th>8500</th>\n",
       "      <td>0.000000</td>\n",
       "      <td>0.084764</td>\n",
       "      <td>1.000000</td>\n",
       "      <td>0.280093</td>\n",
       "      <td>-0.084764</td>\n",
       "      <td>0.719907</td>\n",
       "      <td>0.002553</td>\n",
       "    </tr>\n",
       "  </tbody>\n",
       "</table>\n",
       "</div>"
      ],
      "text/plain": [
       "      LTC Polarity  XRP Polarity  LTC Subjectivity  XRP Subjectivity  \\\n",
       "8496      0.094549      0.053333          0.259995          0.305833   \n",
       "8497      0.094549     -0.081149          0.259995          0.207313   \n",
       "8498      0.094549      0.031491          0.259995          0.167652   \n",
       "8499      0.094549      0.090476          0.259995          0.142857   \n",
       "8500      0.000000      0.084764          1.000000          0.280093   \n",
       "\n",
       "      Net Polarity  Net Subjectivity  Price Ratio  \n",
       "8496      0.017775          0.003248     0.002550  \n",
       "8497      0.017775          0.003248     0.002549  \n",
       "8498      0.017775          0.003248     0.002552  \n",
       "8499      0.017775          0.003248     0.002552  \n",
       "8500     -0.084764          0.719907     0.002553  "
      ]
     },
     "execution_count": 23,
     "metadata": {},
     "output_type": "execute_result"
    }
   ],
   "source": [
    "test_set.head()"
   ]
  },
  {
   "cell_type": "code",
   "execution_count": 24,
   "id": "48a749f4",
   "metadata": {},
   "outputs": [],
   "source": [
    "# feature scaling\n",
    "\n",
    "x_sc = MinMaxScaler(feature_range = (0, 1))\n",
    "y_sc = MinMaxScaler(feature_range = (0, 1))\n",
    "\n",
    "training_set.iloc[:, 0:6] = x_sc.fit_transform(training_set.iloc[:, 0:6])\n",
    "training_set['Price Ratio'] = y_sc.fit_transform(training_set['Price Ratio'].values.reshape(-1,1))\n",
    "training_set_scaled = training_set.values"
   ]
  },
  {
   "cell_type": "code",
   "execution_count": 25,
   "id": "598deff2",
   "metadata": {},
   "outputs": [],
   "source": [
    "# creating a data structure with 6 time-steps and 1 output\n",
    "\n",
    "window = 15\n",
    "\n",
    "X_train = []\n",
    "y_train = []\n",
    "for i in range(window, train_size):\n",
    "    X_train.append(training_set_scaled[i-window:i, 0:6])\n",
    "    y_train.append(training_set_scaled[i, -1])\n",
    "X_train, y_train = np.array(X_train), np.array(y_train)\n",
    "X_train = np.reshape(X_train, (X_train.shape[0], X_train.shape[1], 6))"
   ]
  },
  {
   "cell_type": "code",
   "execution_count": 26,
   "id": "62ef9cc6",
   "metadata": {},
   "outputs": [
    {
     "data": {
      "text/plain": [
       "(76448, 15, 6)"
      ]
     },
     "execution_count": 26,
     "metadata": {},
     "output_type": "execute_result"
    }
   ],
   "source": [
    "X_train.shape"
   ]
  },
  {
   "cell_type": "code",
   "execution_count": 27,
   "id": "65879990",
   "metadata": {},
   "outputs": [
    {
     "data": {
      "text/plain": [
       "(76448,)"
      ]
     },
     "execution_count": 27,
     "metadata": {},
     "output_type": "execute_result"
    }
   ],
   "source": [
    "y_train.shape"
   ]
  },
  {
   "cell_type": "code",
   "execution_count": 28,
   "id": "83f7ea3c",
   "metadata": {},
   "outputs": [],
   "source": [
    "# model\n",
    "\n",
    "model_2 = Sequential()\n",
    "\n",
    "#Adding the first LSTM layer and some Dropout regularisation\n",
    "model_2.add(LSTM(units = 50, return_sequences = True, input_shape = (X_train.shape[1], X_train.shape[2])))\n",
    "model_2.add(Dropout(0.2))\n",
    "\n",
    "# Adding a second LSTM layer and some Dropout regularisation\n",
    "model_2.add(LSTM(units = 50, return_sequences = True))\n",
    "model_2.add(Dropout(0.2))\n",
    "\n",
    "# Adding a third LSTM layer and some Dropout regularisation\n",
    "model_2.add(LSTM(units = 50, return_sequences = True))\n",
    "model_2.add(Dropout(0.2))\n",
    "\n",
    "# Adding a fourth LSTM layer and some Dropout regularisation\n",
    "model_2.add(LSTM(units = 50))\n",
    "model_2.add(Dropout(0.2))\n",
    "\n",
    "# Adding the output layer\n",
    "model_2.add(Dense(units = 1))\n",
    "\n",
    "# Compiling the RNN\n",
    "model_2.compile(optimizer = 'adam', loss = 'mean_squared_error')"
   ]
  },
  {
   "cell_type": "code",
   "execution_count": 29,
   "id": "168f0df6",
   "metadata": {},
   "outputs": [
    {
     "name": "stdout",
     "output_type": "stream",
     "text": [
      "Epoch 1/20\n",
      "2389/2389 [==============================] - 51s 19ms/step - loss: 0.0626\n",
      "Epoch 2/20\n",
      "2389/2389 [==============================] - 47s 20ms/step - loss: 0.0426\n",
      "Epoch 3/20\n",
      "2389/2389 [==============================] - 47s 20ms/step - loss: 0.0405\n",
      "Epoch 4/20\n",
      "2389/2389 [==============================] - 47s 20ms/step - loss: 0.0400\n",
      "Epoch 5/20\n",
      "2389/2389 [==============================] - 47s 20ms/step - loss: 0.0396\n",
      "Epoch 6/20\n",
      "2389/2389 [==============================] - 47s 20ms/step - loss: 0.0393\n",
      "Epoch 7/20\n",
      "2389/2389 [==============================] - 47s 20ms/step - loss: 0.0392\n",
      "Epoch 8/20\n",
      "2389/2389 [==============================] - 50s 21ms/step - loss: 0.0386\n",
      "Epoch 9/20\n",
      "2389/2389 [==============================] - 48s 20ms/step - loss: 0.0384\n",
      "Epoch 10/20\n",
      "2389/2389 [==============================] - 47s 20ms/step - loss: 0.0380\n",
      "Epoch 11/20\n",
      "2389/2389 [==============================] - 47s 20ms/step - loss: 0.0376\n",
      "Epoch 12/20\n",
      "2389/2389 [==============================] - 48s 20ms/step - loss: 0.0370\n",
      "Epoch 13/20\n",
      "2389/2389 [==============================] - 47s 20ms/step - loss: 0.0363\n",
      "Epoch 14/20\n",
      "2389/2389 [==============================] - 48s 20ms/step - loss: 0.0355\n",
      "Epoch 15/20\n",
      "2389/2389 [==============================] - 47s 20ms/step - loss: 0.0348\n",
      "Epoch 16/20\n",
      "2389/2389 [==============================] - 47s 20ms/step - loss: 0.0339\n",
      "Epoch 17/20\n",
      "2389/2389 [==============================] - 49s 20ms/step - loss: 0.0328\n",
      "Epoch 18/20\n",
      "2389/2389 [==============================] - 47s 20ms/step - loss: 0.0318\n",
      "Epoch 19/20\n",
      "2389/2389 [==============================] - 49s 20ms/step - loss: 0.0308\n",
      "Epoch 20/20\n",
      "2389/2389 [==============================] - 48s 20ms/step - loss: 0.0299\n"
     ]
    }
   ],
   "source": [
    "# Fitting the RNN to the Training set\n",
    "\n",
    "history_2 = model_2.fit(X_train, y_train, epochs = 20, batch_size = 32)"
   ]
  },
  {
   "cell_type": "code",
   "execution_count": 30,
   "id": "d13a11b4",
   "metadata": {},
   "outputs": [
    {
     "data": {
      "image/png": "[encoded data removed]",
      "text/plain": [
       "<Figure size 432x288 with 1 Axes>"
      ]
     },
     "metadata": {
      "needs_background": "light"
     },
     "output_type": "display_data"
    }
   ],
   "source": [
    "plt.plot(history_2.history['loss'])\n",
    "#plt.plot(history_2.history['val_loss'])\n",
    "plt.title('model 2 loss')\n",
    "plt.ylabel('loss')\n",
    "plt.xlabel('epoch')\n",
    "plt.legend(['train', 'val'], loc='upper left')\n",
    "plt.show()"
   ]
  },
  {
   "cell_type": "code",
   "execution_count": 31,
   "id": "a7bfe4bd",
   "metadata": {},
   "outputs": [],
   "source": [
    "# prep inputs to get predictions\n",
    "\n",
    "dataset_train = df.iloc[:train_size, 1:]\n",
    "dataset_test = df.iloc[train_size:, 1:]\n",
    "dataset_total = pd.concat((dataset_train, dataset_test), axis = 0)\n",
    "\n",
    "dataset_total.iloc[:, 0:6] = x_sc.fit_transform(dataset_total.iloc[:, 0:6])\n",
    "dataset_total['Price Ratio'] = y_sc.fit_transform(dataset_total['Price Ratio'].values.reshape(-1,1))\n",
    "\n",
    "inputs = dataset_total[len(dataset_total) - len(dataset_test) - window:].values\n",
    "inputs = inputs.reshape(-1,7)\n",
    "\n",
    "X_test = []\n",
    "for i in range(window, test_size+window):\n",
    "    X_test.append(inputs[i-window:i, 0:6])\n",
    "X_test = np.array(X_test)\n",
    "X_test = np.reshape(X_test, (X_test.shape[0], X_test.shape[1], 6))\n",
    "\n",
    "# get predictions\n",
    "\n",
    "predicted_values = model_2.predict(X_test)\n",
    "predicted_values = y_sc.inverse_transform(predicted_values)"
   ]
  },
  {
   "cell_type": "code",
   "execution_count": 32,
   "id": "44fef088",
   "metadata": {},
   "outputs": [
    {
     "name": "stderr",
     "output_type": "stream",
     "text": [
      "C:\\Users\\Felix\\AppData\\Local\\Temp\\ipykernel_19244\\3800209226.py:9: MatplotlibDeprecationWarning: Support for passing numbers through unit converters is deprecated since 3.5 and support will be removed two minor releases later; use Axis.convert_units instead.\n",
      "  plt.xticks([])\n"
     ]
    },
    {
     "data": {
      "image/png": "[encoded data removed]",
      "text/plain": [
       "<Figure size 648x432 with 1 Axes>"
      ]
     },
     "metadata": {
      "needs_background": "light"
     },
     "output_type": "display_data"
    }
   ],
   "source": [
    "# visualising the results\n",
    "\n",
    "plt.figure(figsize=(9, 6))\n",
    "plt.plot(df.iloc[train_size:, 0], dataset_test['Price Ratio'].values, color = 'red', label = 'Real Price Ratio')\n",
    "plt.plot(df.iloc[train_size:, 0], predicted_values, color = 'blue', label = 'Predicted Price Ratio')\n",
    "plt.xticks(np.arange(0,test_size,50))\n",
    "plt.title('Model 2 Price Ratio Prediction')\n",
    "plt.xlabel('Time')\n",
    "plt.xticks([])\n",
    "plt.ylabel('Price Ratio')\n",
    "plt.legend()\n",
    "plt.savefig(\"ltc_xrp_1min_model2\")\n",
    "plt.show()"
   ]
  },
  {
   "cell_type": "code",
   "execution_count": 33,
   "id": "60d4371e",
   "metadata": {},
   "outputs": [
    {
     "name": "stdout",
     "output_type": "stream",
     "text": [
      "0.0017499690849035578\n"
     ]
    }
   ],
   "source": [
    "# rmse\n",
    "\n",
    "rmse = mean_squared_error(dataset_test['Price Ratio'].values, predicted_values, squared=False)\n",
    "print(rmse)"
   ]
  },
  {
   "cell_type": "code",
   "execution_count": 34,
   "id": "72046142",
   "metadata": {},
   "outputs": [
    {
     "name": "stdout",
     "output_type": "stream",
     "text": [
      "0.0003454332568758069\n"
     ]
    }
   ],
   "source": [
    "# std\n",
    "\n",
    "test_std = np.std(dataset_test['Price Ratio'].values)\n",
    "print(test_std)"
   ]
  },
  {
   "cell_type": "markdown",
   "id": "59683e42",
   "metadata": {},
   "source": [
    "## MODEL 3: ONLY FINANCIAL DATA"
   ]
  },
  {
   "cell_type": "code",
   "execution_count": 35,
   "id": "77134255",
   "metadata": {},
   "outputs": [],
   "source": [
    "%reset -f"
   ]
  },
  {
   "cell_type": "code",
   "execution_count": 36,
   "id": "2b0295fa",
   "metadata": {},
   "outputs": [],
   "source": [
    "# imports\n",
    "\n",
    "import math\n",
    "import matplotlib.pyplot as plt\n",
    "import keras\n",
    "import pandas as pd\n",
    "import numpy as np\n",
    "from keras.models import Sequential\n",
    "from keras.layers import Dense\n",
    "from keras.layers import LSTM\n",
    "from keras.layers import Dropout\n",
    "from keras.layers import *\n",
    "from sklearn.preprocessing import MinMaxScaler\n",
    "from sklearn.metrics import mean_squared_error\n",
    "from sklearn.metrics import mean_absolute_error\n",
    "from sklearn.model_selection import train_test_split\n",
    "from keras.callbacks import EarlyStopping"
   ]
  },
  {
   "cell_type": "code",
   "execution_count": 37,
   "id": "fbe1066a",
   "metadata": {},
   "outputs": [],
   "source": [
    "# read data\n",
    "\n",
    "march_df = pd.read_csv(\"LTC_1min_XRP_1min_march.csv\")\n",
    "april_df = pd.read_csv(\"LTC_1min_XRP_1min_april.csv\")"
   ]
  },
  {
   "cell_type": "code",
   "execution_count": 38,
   "id": "815d018e",
   "metadata": {},
   "outputs": [],
   "source": [
    "# combine data\n",
    "\n",
    "df = pd.concat([march_df, april_df], axis=0)\n",
    "\n",
    "# impute data\n",
    "\n",
    "df['LTC Polarity'] = df['LTC Polarity'].fillna(value=df['LTC Polarity'].mean())\n",
    "df['LTC Subjectivity'] = df['LTC Subjectivity'].fillna(value=df['LTC Subjectivity'].mean())\n",
    "df['XRP Polarity'] = df['XRP Polarity'].fillna(value=df['XRP Polarity'].mean())\n",
    "df['XRP Subjectivity'] = df['XRP Subjectivity'].fillna(value=df['XRP Subjectivity'].mean())\n",
    "df['Net Polarity'] = df['Net Polarity'].fillna(value=df['Net Polarity'].mean())\n",
    "df['Net Subjectivity'] = df['Net Subjectivity'].fillna(value=df['Net Subjectivity'].mean())\n",
    "\n",
    "df = df[[\"Timestamp\", \"LTC Price\", \"XRP Price\", \"LTC Volume USD\", \"XRP Volume USD\", \"Net Volume\", \"Price Ratio\"]]\n",
    "\n",
    "# split testing and training data\n",
    "\n",
    "train_size = int(np.round(df.shape[0]*0.90))\n",
    "test_size = int(np.round(df.shape[0]*0.10))\n",
    "\n",
    "training_set = df.iloc[:train_size, 1:]\n",
    "test_set = df.iloc[test_size:, 1:]"
   ]
  },
  {
   "cell_type": "code",
   "execution_count": 39,
   "id": "6998d28a",
   "metadata": {},
   "outputs": [
    {
     "data": {
      "text/html": [
       "<div>\n",
       "<style scoped>\n",
       "    .dataframe tbody tr th:only-of-type {\n",
       "        vertical-align: middle;\n",
       "    }\n",
       "\n",
       "    .dataframe tbody tr th {\n",
       "        vertical-align: top;\n",
       "    }\n",
       "\n",
       "    .dataframe thead th {\n",
       "        text-align: right;\n",
       "    }\n",
       "</style>\n",
       "<table border=\"1\" class=\"dataframe\">\n",
       "  <thead>\n",
       "    <tr style=\"text-align: right;\">\n",
       "      <th></th>\n",
       "      <th>LTC Price</th>\n",
       "      <th>XRP Price</th>\n",
       "      <th>LTC Volume USD</th>\n",
       "      <th>XRP Volume USD</th>\n",
       "      <th>Net Volume</th>\n",
       "      <th>Price Ratio</th>\n",
       "    </tr>\n",
       "  </thead>\n",
       "  <tbody>\n",
       "    <tr>\n",
       "      <th>0</th>\n",
       "      <td>166.03</td>\n",
       "      <td>0.41742</td>\n",
       "      <td>4073.107475</td>\n",
       "      <td>20231.418290</td>\n",
       "      <td>-16158.310815</td>\n",
       "      <td>0.002514</td>\n",
       "    </tr>\n",
       "    <tr>\n",
       "      <th>1</th>\n",
       "      <td>166.27</td>\n",
       "      <td>0.41742</td>\n",
       "      <td>58.504682</td>\n",
       "      <td>0.000000</td>\n",
       "      <td>58.504682</td>\n",
       "      <td>0.002510</td>\n",
       "    </tr>\n",
       "    <tr>\n",
       "      <th>2</th>\n",
       "      <td>165.25</td>\n",
       "      <td>0.41469</td>\n",
       "      <td>147.778501</td>\n",
       "      <td>67316.417510</td>\n",
       "      <td>-67168.639009</td>\n",
       "      <td>0.002509</td>\n",
       "    </tr>\n",
       "    <tr>\n",
       "      <th>3</th>\n",
       "      <td>164.95</td>\n",
       "      <td>0.41491</td>\n",
       "      <td>379.522146</td>\n",
       "      <td>42829.337870</td>\n",
       "      <td>-42449.815724</td>\n",
       "      <td>0.002515</td>\n",
       "    </tr>\n",
       "    <tr>\n",
       "      <th>4</th>\n",
       "      <td>164.74</td>\n",
       "      <td>0.41452</td>\n",
       "      <td>81015.336680</td>\n",
       "      <td>9084.238362</td>\n",
       "      <td>71931.098318</td>\n",
       "      <td>0.002516</td>\n",
       "    </tr>\n",
       "  </tbody>\n",
       "</table>\n",
       "</div>"
      ],
      "text/plain": [
       "   LTC Price  XRP Price  LTC Volume USD  XRP Volume USD    Net Volume  \\\n",
       "0     166.03    0.41742     4073.107475    20231.418290 -16158.310815   \n",
       "1     166.27    0.41742       58.504682        0.000000     58.504682   \n",
       "2     165.25    0.41469      147.778501    67316.417510 -67168.639009   \n",
       "3     164.95    0.41491      379.522146    42829.337870 -42449.815724   \n",
       "4     164.74    0.41452    81015.336680     9084.238362  71931.098318   \n",
       "\n",
       "   Price Ratio  \n",
       "0     0.002514  \n",
       "1     0.002510  \n",
       "2     0.002509  \n",
       "3     0.002515  \n",
       "4     0.002516  "
      ]
     },
     "execution_count": 39,
     "metadata": {},
     "output_type": "execute_result"
    }
   ],
   "source": [
    "training_set.head()"
   ]
  },
  {
   "cell_type": "code",
   "execution_count": 40,
   "id": "a504ef76",
   "metadata": {},
   "outputs": [
    {
     "data": {
      "text/html": [
       "<div>\n",
       "<style scoped>\n",
       "    .dataframe tbody tr th:only-of-type {\n",
       "        vertical-align: middle;\n",
       "    }\n",
       "\n",
       "    .dataframe tbody tr th {\n",
       "        vertical-align: top;\n",
       "    }\n",
       "\n",
       "    .dataframe thead th {\n",
       "        text-align: right;\n",
       "    }\n",
       "</style>\n",
       "<table border=\"1\" class=\"dataframe\">\n",
       "  <thead>\n",
       "    <tr style=\"text-align: right;\">\n",
       "      <th></th>\n",
       "      <th>LTC Price</th>\n",
       "      <th>XRP Price</th>\n",
       "      <th>LTC Volume USD</th>\n",
       "      <th>XRP Volume USD</th>\n",
       "      <th>Net Volume</th>\n",
       "      <th>Price Ratio</th>\n",
       "    </tr>\n",
       "  </thead>\n",
       "  <tbody>\n",
       "    <tr>\n",
       "      <th>8496</th>\n",
       "      <td>180.52</td>\n",
       "      <td>0.46038</td>\n",
       "      <td>0.000000</td>\n",
       "      <td>0.000000</td>\n",
       "      <td>0.00000</td>\n",
       "      <td>0.002550</td>\n",
       "    </tr>\n",
       "    <tr>\n",
       "      <th>8497</th>\n",
       "      <td>180.42</td>\n",
       "      <td>0.45998</td>\n",
       "      <td>9167.670635</td>\n",
       "      <td>615.768545</td>\n",
       "      <td>8551.90209</td>\n",
       "      <td>0.002549</td>\n",
       "    </tr>\n",
       "    <tr>\n",
       "      <th>8498</th>\n",
       "      <td>180.43</td>\n",
       "      <td>0.46037</td>\n",
       "      <td>2870.100010</td>\n",
       "      <td>51712.460850</td>\n",
       "      <td>-48842.36084</td>\n",
       "      <td>0.002552</td>\n",
       "    </tr>\n",
       "    <tr>\n",
       "      <th>8499</th>\n",
       "      <td>180.43</td>\n",
       "      <td>0.46049</td>\n",
       "      <td>4505.337100</td>\n",
       "      <td>2762.940000</td>\n",
       "      <td>1742.39710</td>\n",
       "      <td>0.002552</td>\n",
       "    </tr>\n",
       "    <tr>\n",
       "      <th>8500</th>\n",
       "      <td>180.43</td>\n",
       "      <td>0.46061</td>\n",
       "      <td>0.000000</td>\n",
       "      <td>5330.178920</td>\n",
       "      <td>-5330.17892</td>\n",
       "      <td>0.002553</td>\n",
       "    </tr>\n",
       "  </tbody>\n",
       "</table>\n",
       "</div>"
      ],
      "text/plain": [
       "      LTC Price  XRP Price  LTC Volume USD  XRP Volume USD   Net Volume  \\\n",
       "8496     180.52    0.46038        0.000000        0.000000      0.00000   \n",
       "8497     180.42    0.45998     9167.670635      615.768545   8551.90209   \n",
       "8498     180.43    0.46037     2870.100010    51712.460850 -48842.36084   \n",
       "8499     180.43    0.46049     4505.337100     2762.940000   1742.39710   \n",
       "8500     180.43    0.46061        0.000000     5330.178920  -5330.17892   \n",
       "\n",
       "      Price Ratio  \n",
       "8496     0.002550  \n",
       "8497     0.002549  \n",
       "8498     0.002552  \n",
       "8499     0.002552  \n",
       "8500     0.002553  "
      ]
     },
     "execution_count": 40,
     "metadata": {},
     "output_type": "execute_result"
    }
   ],
   "source": [
    "test_set.head()"
   ]
  },
  {
   "cell_type": "code",
   "execution_count": 41,
   "id": "d1a869e3",
   "metadata": {},
   "outputs": [],
   "source": [
    "# feature scaling\n",
    "\n",
    "x_sc = MinMaxScaler(feature_range = (0, 1))\n",
    "y_sc = MinMaxScaler(feature_range = (0, 1))\n",
    "\n",
    "training_set.iloc[:, 0:5] = x_sc.fit_transform(training_set.iloc[:, 0:5])\n",
    "training_set['Price Ratio'] = y_sc.fit_transform(training_set['Price Ratio'].values.reshape(-1,1))\n",
    "training_set_scaled = training_set.values"
   ]
  },
  {
   "cell_type": "code",
   "execution_count": 42,
   "id": "97a91f35",
   "metadata": {},
   "outputs": [],
   "source": [
    "# creating a data structure with 6 time-steps and 1 output\n",
    "\n",
    "window = 15\n",
    "\n",
    "X_train = []\n",
    "y_train = []\n",
    "for i in range(window, train_size):\n",
    "    X_train.append(training_set_scaled[i-window:i, 0:5])\n",
    "    y_train.append(training_set_scaled[i, -1])\n",
    "X_train, y_train = np.array(X_train), np.array(y_train)\n",
    "X_train = np.reshape(X_train, (X_train.shape[0], X_train.shape[1], 5))"
   ]
  },
  {
   "cell_type": "code",
   "execution_count": 43,
   "id": "120da493",
   "metadata": {},
   "outputs": [
    {
     "data": {
      "text/plain": [
       "(76448, 15, 5)"
      ]
     },
     "execution_count": 43,
     "metadata": {},
     "output_type": "execute_result"
    }
   ],
   "source": [
    "X_train.shape"
   ]
  },
  {
   "cell_type": "code",
   "execution_count": 44,
   "id": "bf7c58e0",
   "metadata": {},
   "outputs": [
    {
     "data": {
      "text/plain": [
       "(76448,)"
      ]
     },
     "execution_count": 44,
     "metadata": {},
     "output_type": "execute_result"
    }
   ],
   "source": [
    "y_train.shape"
   ]
  },
  {
   "cell_type": "code",
   "execution_count": 45,
   "id": "a6252a76",
   "metadata": {},
   "outputs": [],
   "source": [
    "# model\n",
    "\n",
    "model_3 = Sequential()\n",
    "\n",
    "#Adding the first LSTM layer and some Dropout regularisation\n",
    "model_3.add(LSTM(units = 50, return_sequences = True, input_shape = (X_train.shape[1], X_train.shape[2])))\n",
    "model_3.add(Dropout(0.2))\n",
    "\n",
    "# Adding a second LSTM layer and some Dropout regularisation\n",
    "model_3.add(LSTM(units = 50, return_sequences = True))\n",
    "model_3.add(Dropout(0.2))\n",
    "\n",
    "# Adding a third LSTM layer and some Dropout regularisation\n",
    "model_3.add(LSTM(units = 50, return_sequences = True))\n",
    "model_3.add(Dropout(0.2))\n",
    "\n",
    "# Adding a fourth LSTM layer and some Dropout regularisation\n",
    "model_3.add(LSTM(units = 50))\n",
    "model_3.add(Dropout(0.2))\n",
    "\n",
    "# Adding the output layer\n",
    "model_3.add(Dense(units = 1))\n",
    "\n",
    "# Compiling the RNN\n",
    "model_3.compile(optimizer = 'adam', loss = 'mean_squared_error')"
   ]
  },
  {
   "cell_type": "code",
   "execution_count": 46,
   "id": "8faf6668",
   "metadata": {},
   "outputs": [
    {
     "name": "stdout",
     "output_type": "stream",
     "text": [
      "Epoch 1/20\n",
      "2389/2389 [==============================] - 53s 20ms/step - loss: 0.0015\n",
      "Epoch 2/20\n",
      "2389/2389 [==============================] - 49s 20ms/step - loss: 6.4874e-04\n",
      "Epoch 3/20\n",
      "2389/2389 [==============================] - 49s 21ms/step - loss: 5.6501e-04\n",
      "Epoch 4/20\n",
      "2389/2389 [==============================] - 49s 21ms/step - loss: 5.5373e-04\n",
      "Epoch 5/20\n",
      "2389/2389 [==============================] - 49s 21ms/step - loss: 5.2902e-04\n",
      "Epoch 6/20\n",
      "2389/2389 [==============================] - 49s 20ms/step - loss: 5.1799e-04\n",
      "Epoch 7/20\n",
      "2389/2389 [==============================] - 49s 20ms/step - loss: 4.9597e-04\n",
      "Epoch 8/20\n",
      "2389/2389 [==============================] - 49s 21ms/step - loss: 4.9794e-04\n",
      "Epoch 9/20\n",
      "2389/2389 [==============================] - 49s 21ms/step - loss: 5.0113e-04\n",
      "Epoch 10/20\n",
      "2389/2389 [==============================] - 50s 21ms/step - loss: 4.9042e-04\n",
      "Epoch 11/20\n",
      "2389/2389 [==============================] - 50s 21ms/step - loss: 4.8186e-04\n",
      "Epoch 12/20\n",
      "2389/2389 [==============================] - 49s 21ms/step - loss: 4.7730e-04\n",
      "Epoch 13/20\n",
      "2389/2389 [==============================] - 53s 22ms/step - loss: 4.7514e-04\n",
      "Epoch 14/20\n",
      "2389/2389 [==============================] - 55s 23ms/step - loss: 4.6360e-04\n",
      "Epoch 15/20\n",
      "2389/2389 [==============================] - 52s 22ms/step - loss: 4.6936e-04\n",
      "Epoch 16/20\n",
      "2389/2389 [==============================] - 50s 21ms/step - loss: 4.6289e-04\n",
      "Epoch 17/20\n",
      "2389/2389 [==============================] - 50s 21ms/step - loss: 4.5397e-04\n",
      "Epoch 18/20\n",
      "2389/2389 [==============================] - 49s 21ms/step - loss: 4.6150e-04\n",
      "Epoch 19/20\n",
      "2389/2389 [==============================] - 49s 21ms/step - loss: 4.5704e-04\n",
      "Epoch 20/20\n",
      "2389/2389 [==============================] - 49s 21ms/step - loss: 4.4756e-04\n"
     ]
    }
   ],
   "source": [
    "# Fitting the RNN to the Training set\n",
    "\n",
    "history_3 = model_3.fit(X_train, y_train, epochs = 20, batch_size = 32)"
   ]
  },
  {
   "cell_type": "code",
   "execution_count": 47,
   "id": "d3d806e6",
   "metadata": {},
   "outputs": [
    {
     "data": {
      "image/png": "[encoded data removed]",
      "text/plain": [
       "<Figure size 432x288 with 1 Axes>"
      ]
     },
     "metadata": {
      "needs_background": "light"
     },
     "output_type": "display_data"
    }
   ],
   "source": [
    "plt.plot(history_3.history['loss'])\n",
    "#plt.plot(history_3.history['val_loss'])\n",
    "plt.title('model 3 loss')\n",
    "plt.ylabel('loss')\n",
    "plt.xlabel('epoch')\n",
    "plt.legend(['train', 'val'], loc='upper left')\n",
    "plt.show()"
   ]
  },
  {
   "cell_type": "code",
   "execution_count": 48,
   "id": "d738449c",
   "metadata": {},
   "outputs": [],
   "source": [
    "# prep inputs to get predictions\n",
    "\n",
    "dataset_train = df.iloc[:train_size, 1:]\n",
    "dataset_test = df.iloc[train_size:, 1:]\n",
    "dataset_total = pd.concat((dataset_train, dataset_test), axis = 0)\n",
    "\n",
    "dataset_total.iloc[:, 0:5] = x_sc.fit_transform(dataset_total.iloc[:, 0:5])\n",
    "dataset_total['Price Ratio'] = y_sc.fit_transform(dataset_total['Price Ratio'].values.reshape(-1,1))\n",
    "\n",
    "inputs = dataset_total[len(dataset_total) - len(dataset_test) - window:].values\n",
    "inputs = inputs.reshape(-1,6)\n",
    "\n",
    "X_test = []\n",
    "for i in range(window, test_size+window):\n",
    "    X_test.append(inputs[i-window:i, 0:5])\n",
    "X_test = np.array(X_test)\n",
    "X_test = np.reshape(X_test, (X_test.shape[0], X_test.shape[1], 5))\n",
    "\n",
    "# get predictions\n",
    "\n",
    "predicted_values = model_3.predict(X_test)\n",
    "predicted_values = y_sc.inverse_transform(predicted_values)"
   ]
  },
  {
   "cell_type": "code",
   "execution_count": 49,
   "id": "07212aa9",
   "metadata": {},
   "outputs": [
    {
     "name": "stderr",
     "output_type": "stream",
     "text": [
      "C:\\Users\\Felix\\AppData\\Local\\Temp\\ipykernel_19244\\2800303883.py:9: MatplotlibDeprecationWarning: Support for passing numbers through unit converters is deprecated since 3.5 and support will be removed two minor releases later; use Axis.convert_units instead.\n",
      "  plt.xticks([])\n"
     ]
    },
    {
     "data": {
      "image/png": "[encoded data removed]",
      "text/plain": [
       "<Figure size 648x432 with 1 Axes>"
      ]
     },
     "metadata": {
      "needs_background": "light"
     },
     "output_type": "display_data"
    }
   ],
   "source": [
    "# visualising the results\n",
    "\n",
    "plt.figure(figsize=(9, 6))\n",
    "plt.plot(df.iloc[train_size:, 0], dataset_test['Price Ratio'].values, color = 'red', label = 'Real Price Ratio')\n",
    "plt.plot(df.iloc[train_size:, 0], predicted_values, color = 'blue', label = 'Predicted Price Ratio')\n",
    "plt.xticks(np.arange(0,test_size,50))\n",
    "plt.title('Model 3 Price Ratio Prediction')\n",
    "plt.xlabel('Time')\n",
    "plt.xticks([])\n",
    "plt.ylabel('Price Ratio')\n",
    "plt.legend()\n",
    "plt.savefig(\"ltc_xrp_1min_model3\")\n",
    "plt.show()"
   ]
  },
  {
   "cell_type": "code",
   "execution_count": 50,
   "id": "5af80523",
   "metadata": {},
   "outputs": [
    {
     "name": "stdout",
     "output_type": "stream",
     "text": [
      "0.00010128319245515256\n"
     ]
    }
   ],
   "source": [
    "# rmse\n",
    "\n",
    "rmse = mean_squared_error(dataset_test['Price Ratio'].values, predicted_values, squared=False)\n",
    "print(rmse)"
   ]
  },
  {
   "cell_type": "code",
   "execution_count": 51,
   "id": "aa4c59e0",
   "metadata": {},
   "outputs": [
    {
     "name": "stdout",
     "output_type": "stream",
     "text": [
      "0.0003454332568758069\n"
     ]
    }
   ],
   "source": [
    "# std\n",
    "\n",
    "test_std = np.std(dataset_test['Price Ratio'].values)\n",
    "print(test_std)"
   ]
  }
 ],
 "metadata": {
  "kernelspec": {
   "display_name": "Python 3",
   "language": "python",
   "name": "python3"
  },
  "language_info": {
   "codemirror_mode": {
    "name": "ipython",
    "version": 3
   },
   "file_extension": ".py",
   "mimetype": "text/x-python",
   "name": "python",
   "nbconvert_exporter": "python",
   "pygments_lexer": "ipython3",
   "version": "3.8.12"
  }
 },
 "nbformat": 4,
 "nbformat_minor": 5
}
