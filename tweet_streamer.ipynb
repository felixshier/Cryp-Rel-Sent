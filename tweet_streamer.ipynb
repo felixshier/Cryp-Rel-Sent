{
 "cells": [
  {
   "cell_type": "code",
   "execution_count": 1,
   "id": "67eb5a8f",
   "metadata": {},
   "outputs": [],
   "source": [
    "# imports\n",
    "import snscrape.modules.twitter as sntwitter\n",
    "import pandas as pd"
   ]
  },
  {
   "cell_type": "markdown",
   "id": "6270caf1",
   "metadata": {},
   "source": [
    "# tweet scraping"
   ]
  },
  {
   "cell_type": "code",
   "execution_count": 2,
   "id": "96c13d78",
   "metadata": {},
   "outputs": [],
   "source": [
    "# bitcoin tweets\n",
    "\n",
    "# create list to append tweet data to\n",
    "btc_tweets_apr_2021 = []\n",
    "\n",
    "# use TwitterSearchScraper to scrape data and append tweets to list\n",
    "for i,tweet in enumerate(sntwitter.TwitterSearchScraper('bitcoin since:2021-04-01 until:2021-04-30').get_items()):\n",
    "    btc_tweets_apr_2021.append([tweet.date, tweet.id, tweet.content, tweet.user.username, tweet.lang, tweet.user.followersCount])\n",
    "    \n",
    "# create a dataframe from the tweets list above\n",
    "btc_tweets_apr_2021 = pd.DataFrame(btc_tweets_apr_2021, columns=['Datetime', 'Tweet Id', 'Text', 'Username', \"Language\", \"Followers\"])"
   ]
  },
  {
   "cell_type": "code",
   "execution_count": 3,
   "id": "c60c95d8",
   "metadata": {},
   "outputs": [],
   "source": [
    "# save as csv\n",
    "compression_opts = dict(method='zip', archive_name='btc_tweets_apr_2021.csv')  \n",
    "btc_tweets_apr_2021.to_csv('btc_tweets_apr_2021.zip', index=False, compression=compression_opts) "
   ]
  },
  {
   "cell_type": "code",
   "execution_count": 4,
   "id": "fe8bf57e",
   "metadata": {},
   "outputs": [],
   "source": [
    "# ethereum tweets\n",
    "\n",
    "# create list to append tweet data to\n",
    "eth_tweets_apr_2021 = []\n",
    "\n",
    "# use TwitterSearchScraper to scrape data and append tweets to list\n",
    "for i,tweet in enumerate(sntwitter.TwitterSearchScraper('ethereum since:2021-04-01 until:2021-04-30').get_items()):\n",
    "    eth_tweets_apr_2021.append([tweet.date, tweet.id, tweet.content, tweet.user.username, tweet.lang, tweet.user.followersCount])\n",
    "    \n",
    "# create a dataframe from the tweets list above\n",
    "eth_tweets_apr_2021 = pd.DataFrame(eth_tweets_apr_2021, columns=['Datetime', 'Tweet Id', 'Text', 'Username', \"Language\", \"Followers\"])"
   ]
  },
  {
   "cell_type": "code",
   "execution_count": 5,
   "id": "54aed6af",
   "metadata": {},
   "outputs": [],
   "source": [
    "# save as csv\n",
    "compression_opts = dict(method='zip', archive_name='eth_tweets_apr_2021.csv')  \n",
    "eth_tweets_apr_2021.to_csv('eth_tweets_apr_2021.zip', index=False, compression=compression_opts) "
   ]
  },
  {
   "cell_type": "code",
   "execution_count": 6,
   "id": "dc3b8440",
   "metadata": {},
   "outputs": [],
   "source": [
    "# solana tweets\n",
    "\n",
    "# create list to append tweet data to\n",
    "sol_tweets_apr_2021 = []\n",
    "\n",
    "# use TwitterSearchScraper to scrape data and append tweets to list\n",
    "for i,tweet in enumerate(sntwitter.TwitterSearchScraper('solana since:2021-04-01 until:2021-04-30').get_items()):\n",
    "    sol_tweets_apr_2021.append([tweet.date, tweet.id, tweet.content, tweet.user.username, tweet.lang, tweet.user.followersCount])\n",
    "    \n",
    "# create a dataframe from the tweets list above\n",
    "sol_tweets_apr_2021 = pd.DataFrame(sol_tweets_apr_2021, columns=['Datetime', 'Tweet Id', 'Text', 'Username', \"Language\", \"Followers\"])"
   ]
  },
  {
   "cell_type": "code",
   "execution_count": 7,
   "id": "15b1c99e",
   "metadata": {},
   "outputs": [],
   "source": [
    "# save as csv\n",
    "compression_opts = dict(method='zip', archive_name='sol_tweets_apr_2021.csv')  \n",
    "sol_tweets_apr_2021.to_csv('sol_tweets_apr_2021.zip', index=False, compression=compression_opts) "
   ]
  },
  {
   "cell_type": "code",
   "execution_count": 8,
   "id": "7b49d0ac",
   "metadata": {},
   "outputs": [],
   "source": [
    "# dogecoin tweets\n",
    "\n",
    "# create list to append tweet data to\n",
    "doge_tweets_apr_2021 = []\n",
    "\n",
    "# use TwitterSearchScraper to scrape data and append tweets to list\n",
    "for i,tweet in enumerate(sntwitter.TwitterSearchScraper('dogecoin since:2021-04-01 until:2021-04-30').get_items()):\n",
    "    doge_tweets_apr_2021.append([tweet.date, tweet.id, tweet.content, tweet.user.username, tweet.lang, tweet.user.followersCount])\n",
    "    \n",
    "# create a dataframe from the tweets list above\n",
    "doge_tweets_apr_2021 = pd.DataFrame(doge_tweets_apr_2021, columns=['Datetime', 'Tweet Id', 'Text', 'Username', \"Language\", \"Followers\"])"
   ]
  },
  {
   "cell_type": "code",
   "execution_count": 9,
   "id": "d2c04de2",
   "metadata": {},
   "outputs": [],
   "source": [
    "# save as csv\n",
    "compression_opts = dict(method='zip', archive_name='doge_tweets_apr_2021.csv')  \n",
    "doge_tweets_apr_2021.to_csv('doge_tweets_apr_2021.zip', index=False, compression=compression_opts) "
   ]
  }
 ],
 "metadata": {
  "kernelspec": {
   "display_name": "Python 3",
   "language": "python",
   "name": "python3"
  },
  "language_info": {
   "codemirror_mode": {
    "name": "ipython",
    "version": 3
   },
   "file_extension": ".py",
   "mimetype": "text/x-python",
   "name": "python",
   "nbconvert_exporter": "python",
   "pygments_lexer": "ipython3",
   "version": "3.8.12"
  }
 },
 "nbformat": 4,
 "nbformat_minor": 5
}
