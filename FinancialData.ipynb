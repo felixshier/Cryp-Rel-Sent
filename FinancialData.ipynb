{
 "cells": [
  {
   "cell_type": "code",
   "execution_count": 89,
   "outputs": [],
   "source": [
    "import pandas as pd\n",
    "BTC =pd.read_csv('Bitstamp_BTCUSD_minute.csv')\n",
    "BCH =pd.read_csv('Bitstamp_BCHUSD_minute.csv')\n",
    "ETH =pd.read_csv('Bitstamp_ETHUSD_minute.csv')\n",
    "LTC =pd.read_csv('Bitstamp_LTCUSD_minute.csv')\n",
    "XRP =pd.read_csv('Bitstamp_XRPUSD_minute.csv')"
   ],
   "metadata": {
    "collapsed": false,
    "pycharm": {
     "name": "#%%\n"
    }
   }
  },
  {
   "cell_type": "code",
   "execution_count": 39,
   "outputs": [],
   "source": [
    "def cleanData(data):\n",
    "    data['date']=pd.to_datetime(data['date'])\n",
    "    #data['time'] = [d.time() for d in data['date']]\n",
    "    #data['date'] = [d.date() for d in data['date']]\n",
    "    data['price']= data['close']\n",
    "    del data['unix']\n",
    "    del data['symbol']\n",
    "    del data['Volume USD']\n",
    "    del data['open']\n",
    "    del data['high']\n",
    "    del data['low']\n",
    "    del data['close']\n",
    "    return data"
   ],
   "metadata": {
    "collapsed": false,
    "pycharm": {
     "name": "#%%\n"
    }
   }
  },
  {
   "cell_type": "code",
   "execution_count": 10,
   "outputs": [],
   "source": [
    "BTC = cleanData(BTC)\n",
    "BCH = cleanData(BCH)\n",
    "ETH = cleanData(ETH)\n",
    "LTC = cleanData(LTC)\n",
    "XRP = cleanData(XRP)\n",
    "del BTC['Volume BTC']\n",
    "del BCH['Volume BCH']\n",
    "del ETH['Volume ETH']\n",
    "del LTC['Volume LTC']\n",
    "del XRP['Volume XRP']\n"
   ],
   "metadata": {
    "collapsed": false,
    "pycharm": {
     "name": "#%%\n"
    }
   }
  },
  {
   "cell_type": "code",
   "execution_count": 50,
   "outputs": [
    {
     "data": {
      "text/plain": "               price\ncount  227010.000000\nmean    46452.400128\nstd     11231.386504\nmin     17650.000000\n25%     36521.640000\n50%     49178.900000\n75%     56449.500000\nmax     64859.300000",
      "text/html": "<div>\n<style scoped>\n    .dataframe tbody tr th:only-of-type {\n        vertical-align: middle;\n    }\n\n    .dataframe tbody tr th {\n        vertical-align: top;\n    }\n\n    .dataframe thead th {\n        text-align: right;\n    }\n</style>\n<table border=\"1\" class=\"dataframe\">\n  <thead>\n    <tr style=\"text-align: right;\">\n      <th></th>\n      <th>price</th>\n    </tr>\n  </thead>\n  <tbody>\n    <tr>\n      <th>count</th>\n      <td>227010.000000</td>\n    </tr>\n    <tr>\n      <th>mean</th>\n      <td>46452.400128</td>\n    </tr>\n    <tr>\n      <th>std</th>\n      <td>11231.386504</td>\n    </tr>\n    <tr>\n      <th>min</th>\n      <td>17650.000000</td>\n    </tr>\n    <tr>\n      <th>25%</th>\n      <td>36521.640000</td>\n    </tr>\n    <tr>\n      <th>50%</th>\n      <td>49178.900000</td>\n    </tr>\n    <tr>\n      <th>75%</th>\n      <td>56449.500000</td>\n    </tr>\n    <tr>\n      <th>max</th>\n      <td>64859.300000</td>\n    </tr>\n  </tbody>\n</table>\n</div>"
     },
     "execution_count": 50,
     "metadata": {},
     "output_type": "execute_result"
    }
   ],
   "source": [
    "BTC.describe()"
   ],
   "metadata": {
    "collapsed": false,
    "pycharm": {
     "name": "#%%\n"
    }
   }
  },
  {
   "cell_type": "code",
   "execution_count": 46,
   "outputs": [
    {
     "data": {
      "text/plain": "               price\ncount  227010.000000\nmean      635.925152\nstd       273.021350\nmin       266.550000\n25%       461.115000\n50%       531.640000\n75%       725.157500\nmax      1640.000000",
      "text/html": "<div>\n<style scoped>\n    .dataframe tbody tr th:only-of-type {\n        vertical-align: middle;\n    }\n\n    .dataframe tbody tr th {\n        vertical-align: top;\n    }\n\n    .dataframe thead th {\n        text-align: right;\n    }\n</style>\n<table border=\"1\" class=\"dataframe\">\n  <thead>\n    <tr style=\"text-align: right;\">\n      <th></th>\n      <th>price</th>\n    </tr>\n  </thead>\n  <tbody>\n    <tr>\n      <th>count</th>\n      <td>227010.000000</td>\n    </tr>\n    <tr>\n      <th>mean</th>\n      <td>635.925152</td>\n    </tr>\n    <tr>\n      <th>std</th>\n      <td>273.021350</td>\n    </tr>\n    <tr>\n      <th>min</th>\n      <td>266.550000</td>\n    </tr>\n    <tr>\n      <th>25%</th>\n      <td>461.115000</td>\n    </tr>\n    <tr>\n      <th>50%</th>\n      <td>531.640000</td>\n    </tr>\n    <tr>\n      <th>75%</th>\n      <td>725.157500</td>\n    </tr>\n    <tr>\n      <th>max</th>\n      <td>1640.000000</td>\n    </tr>\n  </tbody>\n</table>\n</div>"
     },
     "execution_count": 46,
     "metadata": {},
     "output_type": "execute_result"
    }
   ],
   "source": [
    "BCH.describe()"
   ],
   "metadata": {
    "collapsed": false,
    "pycharm": {
     "name": "#%%\n"
    }
   }
  },
  {
   "cell_type": "code",
   "execution_count": 47,
   "outputs": [
    {
     "data": {
      "text/plain": "               price\ncount  227010.000000\nmean     1884.027120\nstd       806.163231\nmin       512.710000\n25%      1343.000000\n50%      1778.625000\n75%      2212.730000\nmax      4374.040000",
      "text/html": "<div>\n<style scoped>\n    .dataframe tbody tr th:only-of-type {\n        vertical-align: middle;\n    }\n\n    .dataframe tbody tr th {\n        vertical-align: top;\n    }\n\n    .dataframe thead th {\n        text-align: right;\n    }\n</style>\n<table border=\"1\" class=\"dataframe\">\n  <thead>\n    <tr style=\"text-align: right;\">\n      <th></th>\n      <th>price</th>\n    </tr>\n  </thead>\n  <tbody>\n    <tr>\n      <th>count</th>\n      <td>227010.000000</td>\n    </tr>\n    <tr>\n      <th>mean</th>\n      <td>1884.027120</td>\n    </tr>\n    <tr>\n      <th>std</th>\n      <td>806.163231</td>\n    </tr>\n    <tr>\n      <th>min</th>\n      <td>512.710000</td>\n    </tr>\n    <tr>\n      <th>25%</th>\n      <td>1343.000000</td>\n    </tr>\n    <tr>\n      <th>50%</th>\n      <td>1778.625000</td>\n    </tr>\n    <tr>\n      <th>75%</th>\n      <td>2212.730000</td>\n    </tr>\n    <tr>\n      <th>max</th>\n      <td>4374.040000</td>\n    </tr>\n  </tbody>\n</table>\n</div>"
     },
     "execution_count": 47,
     "metadata": {},
     "output_type": "execute_result"
    }
   ],
   "source": [
    "ETH.describe()"
   ],
   "metadata": {
    "collapsed": false,
    "pycharm": {
     "name": "#%%\n"
    }
   }
  },
  {
   "cell_type": "code",
   "execution_count": 48,
   "outputs": [
    {
     "data": {
      "text/plain": "               price\ncount  227008.000000\nmean      201.059321\nstd        62.675915\nmin        77.770000\n25%       151.330000\n50%       191.510000\n75%       232.420000\nmax       413.600000",
      "text/html": "<div>\n<style scoped>\n    .dataframe tbody tr th:only-of-type {\n        vertical-align: middle;\n    }\n\n    .dataframe tbody tr th {\n        vertical-align: top;\n    }\n\n    .dataframe thead th {\n        text-align: right;\n    }\n</style>\n<table border=\"1\" class=\"dataframe\">\n  <thead>\n    <tr style=\"text-align: right;\">\n      <th></th>\n      <th>price</th>\n    </tr>\n  </thead>\n  <tbody>\n    <tr>\n      <th>count</th>\n      <td>227008.000000</td>\n    </tr>\n    <tr>\n      <th>mean</th>\n      <td>201.059321</td>\n    </tr>\n    <tr>\n      <th>std</th>\n      <td>62.675915</td>\n    </tr>\n    <tr>\n      <th>min</th>\n      <td>77.770000</td>\n    </tr>\n    <tr>\n      <th>25%</th>\n      <td>151.330000</td>\n    </tr>\n    <tr>\n      <th>50%</th>\n      <td>191.510000</td>\n    </tr>\n    <tr>\n      <th>75%</th>\n      <td>232.420000</td>\n    </tr>\n    <tr>\n      <th>max</th>\n      <td>413.600000</td>\n    </tr>\n  </tbody>\n</table>\n</div>"
     },
     "execution_count": 48,
     "metadata": {},
     "output_type": "execute_result"
    }
   ],
   "source": [
    "LTC.describe()"
   ],
   "metadata": {
    "collapsed": false,
    "pycharm": {
     "name": "#%%\n"
    }
   }
  },
  {
   "cell_type": "code",
   "execution_count": 49,
   "outputs": [
    {
     "data": {
      "text/plain": "               price\ncount  227009.000000\nmean        0.715532\nstd         0.466607\nmin         0.172050\n25%         0.379800\n50%         0.514430\n75%         1.086680\nmax         1.965430",
      "text/html": "<div>\n<style scoped>\n    .dataframe tbody tr th:only-of-type {\n        vertical-align: middle;\n    }\n\n    .dataframe tbody tr th {\n        vertical-align: top;\n    }\n\n    .dataframe thead th {\n        text-align: right;\n    }\n</style>\n<table border=\"1\" class=\"dataframe\">\n  <thead>\n    <tr style=\"text-align: right;\">\n      <th></th>\n      <th>price</th>\n    </tr>\n  </thead>\n  <tbody>\n    <tr>\n      <th>count</th>\n      <td>227009.000000</td>\n    </tr>\n    <tr>\n      <th>mean</th>\n      <td>0.715532</td>\n    </tr>\n    <tr>\n      <th>std</th>\n      <td>0.466607</td>\n    </tr>\n    <tr>\n      <th>min</th>\n      <td>0.172050</td>\n    </tr>\n    <tr>\n      <th>25%</th>\n      <td>0.379800</td>\n    </tr>\n    <tr>\n      <th>50%</th>\n      <td>0.514430</td>\n    </tr>\n    <tr>\n      <th>75%</th>\n      <td>1.086680</td>\n    </tr>\n    <tr>\n      <th>max</th>\n      <td>1.965430</td>\n    </tr>\n  </tbody>\n</table>\n</div>"
     },
     "execution_count": 49,
     "metadata": {},
     "output_type": "execute_result"
    }
   ],
   "source": [
    "XRP.describe()"
   ],
   "metadata": {
    "collapsed": false,
    "pycharm": {
     "name": "#%%\n"
    }
   }
  },
  {
   "cell_type": "code",
   "execution_count": 87,
   "outputs": [],
   "source": [
    "def grabTimeFrame(data,desired_bucket):\n",
    "    output_data=data\n",
    "    data=data.set_index('date')\n",
    "    data = data.resample(desired_bucket).price.mean()\n",
    "    data=data.reset_index()\n",
    "    output_data['date'] = output_data['date'] + pd.Timedelta(minutes=1)\n",
    "    output_data= output_data.rename(columns={\"price\": \"y_price\"})\n",
    "    data= data.rename(columns={\"price\": \"x_price\"})\n",
    "    final_data = pd.merge(data,output_data,on='date',how='left')\n",
    "    return final_data"
   ],
   "metadata": {
    "collapsed": false,
    "pycharm": {
     "name": "#%%\n"
    }
   }
  },
  {
   "cell_type": "code",
   "execution_count": 98,
   "outputs": [],
   "source": [
    "#model_data = grabTimeFrame(BTC, 'D')\n",
    "model_data = grabTimeFrame(BTC, 'H')\n",
    "#model_data = grabTimeFrame(BTC, '10Mins')"
   ],
   "metadata": {
    "collapsed": false,
    "pycharm": {
     "name": "#%%\n"
    }
   }
  }
 ],
 "metadata": {
  "kernelspec": {
   "display_name": "Python 3",
   "language": "python",
   "name": "python3"
  },
  "language_info": {
   "codemirror_mode": {
    "name": "ipython",
    "version": 2
   },
   "file_extension": ".py",
   "mimetype": "text/x-python",
   "name": "python",
   "nbconvert_exporter": "python",
   "pygments_lexer": "ipython2",
   "version": "2.7.6"
  }
 },
 "nbformat": 4,
 "nbformat_minor": 0
}
