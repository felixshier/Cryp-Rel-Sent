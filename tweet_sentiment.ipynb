{
 "cells": [
  {
   "cell_type": "code",
   "execution_count": 1,
   "id": "f828e0c2",
   "metadata": {},
   "outputs": [],
   "source": [
    "# imports\n",
    "import pandas as pd\n",
    "import re\n",
    "from textblob import TextBlob"
   ]
  },
  {
   "cell_type": "markdown",
   "id": "53efba26",
   "metadata": {},
   "source": [
    "# btc"
   ]
  },
  {
   "cell_type": "code",
   "execution_count": 2,
   "id": "5b19b86e",
   "metadata": {},
   "outputs": [],
   "source": [
    "# read file\n",
    "btc_tweets_mar_2021 = pd.read_csv(\"btc_tweets_mar_2021.csv\")\n",
    "\n",
    "# clean tweets\n",
    "btc_tweets_mar_2021[\"Text\"] = [text.lower() for text in btc_tweets_mar_2021[\"Text\"]]\n",
    "btc_tweets_mar_2021[\"Text\"] = [re.sub(\"@[A-Za-z0-9_]+\",\"\", text) for text in btc_tweets_mar_2021[\"Text\"]]\n",
    "btc_tweets_mar_2021[\"Text\"] = [re.sub(r\"#\",\"\", text) for text in btc_tweets_mar_2021[\"Text\"]]\n",
    "btc_tweets_mar_2021[\"Text\"] = [re.sub(r\"http\\S+\", \"\", text) for text in btc_tweets_mar_2021[\"Text\"]]\n",
    "btc_tweets_mar_2021[\"Text\"] = [re.sub(r\"www.\\S+\", \"\", text) for text in btc_tweets_mar_2021[\"Text\"]]\n",
    "btc_tweets_mar_2021[\"Text\"] = [re.sub(r\"\\n\", \"\", text) for text in btc_tweets_mar_2021[\"Text\"]]\n",
    "\n",
    "# get sentiment\n",
    "btc_tweets_mar_2021[\"TextBlob\"] = [TextBlob(text) for text in btc_tweets_mar_2021[\"Text\"]]\n",
    "btc_tweets_mar_2021[\"Sentiment\"] = [text.sentiment for text in btc_tweets_mar_2021[\"TextBlob\"]]\n",
    "\n",
    "# rename\n",
    "btc_tweets_mar_2021_processed = btc_tweets_mar_2021\n",
    "\n",
    "# save as csv\n",
    "compression_opts = dict(method='zip', archive_name='btc_tweets_mar_2021_processed.csv')  \n",
    "btc_tweets_mar_2021_processed.to_csv('btc_tweets_mar_2021_processed.zip', index=False, compression=compression_opts) "
   ]
  },
  {
   "cell_type": "markdown",
   "id": "0b68afcc",
   "metadata": {},
   "source": [
    "# eth"
   ]
  },
  {
   "cell_type": "code",
   "execution_count": 2,
   "id": "b7eb0e25",
   "metadata": {},
   "outputs": [],
   "source": [
    "# read file\n",
    "eth_tweets_mar_2021 = pd.read_csv(\"eth_tweets_mar_2021.csv\")\n",
    "\n",
    "# clean tweets\n",
    "eth_tweets_mar_2021[\"Text\"] = [text.lower() for text in eth_tweets_mar_2021[\"Text\"]]\n",
    "eth_tweets_mar_2021[\"Text\"] = [re.sub(\"@[A-Za-z0-9_]+\",\"\", text) for text in eth_tweets_mar_2021[\"Text\"]]\n",
    "eth_tweets_mar_2021[\"Text\"] = [re.sub(r\"#\",\"\", text) for text in eth_tweets_mar_2021[\"Text\"]]\n",
    "eth_tweets_mar_2021[\"Text\"] = [re.sub(r\"http\\S+\", \"\", text) for text in eth_tweets_mar_2021[\"Text\"]]\n",
    "eth_tweets_mar_2021[\"Text\"] = [re.sub(r\"www.\\S+\", \"\", text) for text in eth_tweets_mar_2021[\"Text\"]]\n",
    "eth_tweets_mar_2021[\"Text\"] = [re.sub(r\"\\n\", \"\", text) for text in eth_tweets_mar_2021[\"Text\"]]\n",
    "\n",
    "# get sentiment\n",
    "eth_tweets_mar_2021[\"TextBlob\"] = [TextBlob(text) for text in eth_tweets_mar_2021[\"Text\"]]\n",
    "eth_tweets_mar_2021[\"Sentiment\"] = [text.sentiment for text in eth_tweets_mar_2021[\"TextBlob\"]]\n",
    "\n",
    "# rename\n",
    "eth_tweets_mar_2021_processed = eth_tweets_mar_2021\n",
    "\n",
    "# save as csv\n",
    "compression_opts = dict(method='zip', archive_name='eth_tweets_mar_2021_processed.csv')  \n",
    "eth_tweets_mar_2021_processed.to_csv('eth_tweets_mar_2021_processed.zip', index=False, compression=compression_opts) "
   ]
  },
  {
   "cell_type": "markdown",
   "id": "33d01173",
   "metadata": {},
   "source": [
    "# ltc"
   ]
  },
  {
   "cell_type": "code",
   "execution_count": 5,
   "id": "77121257",
   "metadata": {},
   "outputs": [],
   "source": [
    "# read file\n",
    "ltc_tweets_mar_2021 = pd.read_csv(\"ltc_tweets_mar_2021.csv\")\n",
    "\n",
    "# clean tweets\n",
    "ltc_tweets_mar_2021[\"Text\"] = [text.lower() for text in ltc_tweets_mar_2021[\"Text\"]]\n",
    "ltc_tweets_mar_2021[\"Text\"] = [re.sub(\"@[A-Za-z0-9_]+\",\"\", text) for text in ltc_tweets_mar_2021[\"Text\"]]\n",
    "ltc_tweets_mar_2021[\"Text\"] = [re.sub(r\"#\",\"\", text) for text in ltc_tweets_mar_2021[\"Text\"]]\n",
    "ltc_tweets_mar_2021[\"Text\"] = [re.sub(r\"http\\S+\", \"\", text) for text in ltc_tweets_mar_2021[\"Text\"]]\n",
    "ltc_tweets_mar_2021[\"Text\"] = [re.sub(r\"www.\\S+\", \"\", text) for text in ltc_tweets_mar_2021[\"Text\"]]\n",
    "ltc_tweets_mar_2021[\"Text\"] = [re.sub(r\"\\n\", \"\", text) for text in ltc_tweets_mar_2021[\"Text\"]]\n",
    "\n",
    "# get sentiment\n",
    "ltc_tweets_mar_2021[\"TextBlob\"] = [TextBlob(text) for text in ltc_tweets_mar_2021[\"Text\"]]\n",
    "ltc_tweets_mar_2021[\"Sentiment\"] = [text.sentiment for text in ltc_tweets_mar_2021[\"TextBlob\"]]\n",
    "\n",
    "# rename\n",
    "ltc_tweets_mar_2021_processed = ltc_tweets_mar_2021\n",
    "\n",
    "# save as csv\n",
    "compression_opts = dict(method='zip', archive_name='ltc_tweets_mar_2021_processed.csv')  \n",
    "ltc_tweets_mar_2021_processed.to_csv('ltc_tweets_mar_2021_processed.zip', index=False, compression=compression_opts) "
   ]
  },
  {
   "cell_type": "markdown",
   "id": "49c074e7",
   "metadata": {},
   "source": [
    "# xrp"
   ]
  },
  {
   "cell_type": "code",
   "execution_count": 6,
   "id": "0fc959a4",
   "metadata": {},
   "outputs": [],
   "source": [
    "# read file\n",
    "xrp_tweets_mar_2021 = pd.read_csv(\"xrp_tweets_mar_2021.csv\")\n",
    "\n",
    "# clean tweets\n",
    "xrp_tweets_mar_2021[\"Text\"] = [text.lower() for text in xrp_tweets_mar_2021[\"Text\"]]\n",
    "xrp_tweets_mar_2021[\"Text\"] = [re.sub(\"@[A-Za-z0-9_]+\",\"\", text) for text in xrp_tweets_mar_2021[\"Text\"]]\n",
    "xrp_tweets_mar_2021[\"Text\"] = [re.sub(r\"#\",\"\", text) for text in xrp_tweets_mar_2021[\"Text\"]]\n",
    "xrp_tweets_mar_2021[\"Text\"] = [re.sub(r\"http\\S+\", \"\", text) for text in xrp_tweets_mar_2021[\"Text\"]]\n",
    "xrp_tweets_mar_2021[\"Text\"] = [re.sub(r\"www.\\S+\", \"\", text) for text in xrp_tweets_mar_2021[\"Text\"]]\n",
    "xrp_tweets_mar_2021[\"Text\"] = [re.sub(r\"\\n\", \"\", text) for text in xrp_tweets_mar_2021[\"Text\"]]\n",
    "\n",
    "# get sentiment\n",
    "xrp_tweets_mar_2021[\"TextBlob\"] = [TextBlob(text) for text in xrp_tweets_mar_2021[\"Text\"]]\n",
    "xrp_tweets_mar_2021[\"Sentiment\"] = [text.sentiment for text in xrp_tweets_mar_2021[\"TextBlob\"]]\n",
    "\n",
    "# rename\n",
    "xrp_tweets_mar_2021_processed = xrp_tweets_mar_2021\n",
    "\n",
    "# save as csv\n",
    "compression_opts = dict(method='zip', archive_name='xrp_tweets_mar_2021_processed.csv')  \n",
    "xrp_tweets_mar_2021_processed.to_csv('xrp_tweets_mar_2021_processed.zip', index=False, compression=compression_opts) "
   ]
  }
 ],
 "metadata": {
  "kernelspec": {
   "display_name": "Python 3",
   "language": "python",
   "name": "python3"
  },
  "language_info": {
   "codemirror_mode": {
    "name": "ipython",
    "version": 3
   },
   "file_extension": ".py",
   "mimetype": "text/x-python",
   "name": "python",
   "nbconvert_exporter": "python",
   "pygments_lexer": "ipython3",
   "version": "3.8.12"
  }
 },
 "nbformat": 4,
 "nbformat_minor": 5
}
