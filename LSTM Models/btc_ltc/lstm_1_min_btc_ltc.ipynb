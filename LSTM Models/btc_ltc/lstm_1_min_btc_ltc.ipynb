{
 "cells": [
  {
   "cell_type": "markdown",
   "id": "ed226131",
   "metadata": {},
   "source": [
    "# 1 MINUTE DATA"
   ]
  },
  {
   "cell_type": "markdown",
   "id": "3cd87b98",
   "metadata": {},
   "source": [
    "## MODEL 1: ALL FEATURES"
   ]
  },
  {
   "cell_type": "code",
   "execution_count": 1,
   "id": "85d18089",
   "metadata": {},
   "outputs": [],
   "source": [
    "%reset -f"
   ]
  },
  {
   "cell_type": "code",
   "execution_count": 2,
   "id": "ce936a89",
   "metadata": {},
   "outputs": [],
   "source": [
    "# imports\n",
    "\n",
    "import math\n",
    "import matplotlib.pyplot as plt\n",
    "import keras\n",
    "import pandas as pd\n",
    "import numpy as np\n",
    "from keras.models import Sequential\n",
    "from keras.layers import Dense\n",
    "from keras.layers import LSTM\n",
    "from keras.layers import Dropout\n",
    "from keras.layers import *\n",
    "from sklearn.preprocessing import MinMaxScaler\n",
    "from sklearn.metrics import mean_squared_error\n",
    "from sklearn.metrics import mean_absolute_error\n",
    "from sklearn.model_selection import train_test_split\n",
    "from keras.callbacks import EarlyStopping"
   ]
  },
  {
   "cell_type": "code",
   "execution_count": 3,
   "id": "e2d52b69",
   "metadata": {},
   "outputs": [],
   "source": [
    "# read data\n",
    "\n",
    "march_df = pd.read_csv(\"BTC_1min_LTC_1min_march.csv\")\n",
    "april_df = pd.read_csv(\"BTC_1min_LTC_1min_april.csv\")"
   ]
  },
  {
   "cell_type": "code",
   "execution_count": 4,
   "id": "266a7189",
   "metadata": {},
   "outputs": [],
   "source": [
    "# combine data\n",
    "\n",
    "df = pd.concat([march_df, april_df], axis=0)\n",
    "\n",
    "df['LTC Polarity'] = df['LTC Polarity'].fillna(value=df['LTC Polarity'].mean())\n",
    "df['LTC Subjectivity'] = df['LTC Subjectivity'].fillna(value=df['LTC Subjectivity'].mean())\n",
    "df['Net Polarity'] = df['Net Polarity'].fillna(value=df['Net Polarity'].mean())\n",
    "df['Net Subjectivity'] = df['Net Subjectivity'].fillna(value=df['Net Subjectivity'].mean())\n",
    "\n",
    "# split testing and training data\n",
    "\n",
    "train_size = int(np.round(df.shape[0]*0.90))\n",
    "test_size = int(np.round(df.shape[0]*0.10))\n",
    "\n",
    "training_set = df.iloc[:train_size, 1:]\n",
    "test_set = df.iloc[test_size:, 1:]"
   ]
  },
  {
   "cell_type": "code",
   "execution_count": 5,
   "id": "db5df74d",
   "metadata": {},
   "outputs": [
    {
     "data": {
      "text/html": [
       "<div>\n",
       "<style scoped>\n",
       "    .dataframe tbody tr th:only-of-type {\n",
       "        vertical-align: middle;\n",
       "    }\n",
       "\n",
       "    .dataframe tbody tr th {\n",
       "        vertical-align: top;\n",
       "    }\n",
       "\n",
       "    .dataframe thead th {\n",
       "        text-align: right;\n",
       "    }\n",
       "</style>\n",
       "<table border=\"1\" class=\"dataframe\">\n",
       "  <thead>\n",
       "    <tr style=\"text-align: right;\">\n",
       "      <th></th>\n",
       "      <th>BTC Polarity</th>\n",
       "      <th>BTC Subjectivity</th>\n",
       "      <th>BTC Price</th>\n",
       "      <th>BTC Volume USD</th>\n",
       "      <th>LTC Polarity</th>\n",
       "      <th>LTC Subjectivity</th>\n",
       "      <th>LTC Price</th>\n",
       "      <th>LTC Volume USD</th>\n",
       "      <th>Net Polarity</th>\n",
       "      <th>Net Subjectivity</th>\n",
       "      <th>Net Volume</th>\n",
       "      <th>Price Ratio</th>\n",
       "    </tr>\n",
       "  </thead>\n",
       "  <tbody>\n",
       "    <tr>\n",
       "      <th>0</th>\n",
       "      <td>0.065632</td>\n",
       "      <td>0.177339</td>\n",
       "      <td>45346.19</td>\n",
       "      <td>1.164993e+04</td>\n",
       "      <td>0.142857</td>\n",
       "      <td>0.278571</td>\n",
       "      <td>166.03</td>\n",
       "      <td>4073.107475</td>\n",
       "      <td>-0.077225</td>\n",
       "      <td>-0.101233</td>\n",
       "      <td>7.576819e+03</td>\n",
       "      <td>0.003661</td>\n",
       "    </tr>\n",
       "    <tr>\n",
       "      <th>1</th>\n",
       "      <td>0.066479</td>\n",
       "      <td>0.302075</td>\n",
       "      <td>45439.62</td>\n",
       "      <td>1.990020e+05</td>\n",
       "      <td>0.000000</td>\n",
       "      <td>0.200000</td>\n",
       "      <td>166.27</td>\n",
       "      <td>58.504682</td>\n",
       "      <td>0.066479</td>\n",
       "      <td>0.102075</td>\n",
       "      <td>1.989435e+05</td>\n",
       "      <td>0.003659</td>\n",
       "    </tr>\n",
       "    <tr>\n",
       "      <th>2</th>\n",
       "      <td>0.010654</td>\n",
       "      <td>0.253836</td>\n",
       "      <td>45262.05</td>\n",
       "      <td>1.721239e+05</td>\n",
       "      <td>0.000000</td>\n",
       "      <td>0.000000</td>\n",
       "      <td>165.25</td>\n",
       "      <td>147.778501</td>\n",
       "      <td>0.010654</td>\n",
       "      <td>0.253836</td>\n",
       "      <td>1.719761e+05</td>\n",
       "      <td>0.003651</td>\n",
       "    </tr>\n",
       "    <tr>\n",
       "      <th>3</th>\n",
       "      <td>0.021096</td>\n",
       "      <td>0.271541</td>\n",
       "      <td>45165.00</td>\n",
       "      <td>1.404933e+05</td>\n",
       "      <td>0.094549</td>\n",
       "      <td>0.259995</td>\n",
       "      <td>164.95</td>\n",
       "      <td>379.522146</td>\n",
       "      <td>0.001834</td>\n",
       "      <td>0.014291</td>\n",
       "      <td>1.401138e+05</td>\n",
       "      <td>0.003652</td>\n",
       "    </tr>\n",
       "    <tr>\n",
       "      <th>4</th>\n",
       "      <td>0.092320</td>\n",
       "      <td>0.272649</td>\n",
       "      <td>45120.64</td>\n",
       "      <td>1.404915e+06</td>\n",
       "      <td>0.000000</td>\n",
       "      <td>0.000000</td>\n",
       "      <td>164.74</td>\n",
       "      <td>81015.336680</td>\n",
       "      <td>0.092320</td>\n",
       "      <td>0.272649</td>\n",
       "      <td>1.323900e+06</td>\n",
       "      <td>0.003651</td>\n",
       "    </tr>\n",
       "  </tbody>\n",
       "</table>\n",
       "</div>"
      ],
      "text/plain": [
       "   BTC Polarity  BTC Subjectivity  BTC Price  BTC Volume USD  LTC Polarity  \\\n",
       "0      0.065632          0.177339   45346.19    1.164993e+04      0.142857   \n",
       "1      0.066479          0.302075   45439.62    1.990020e+05      0.000000   \n",
       "2      0.010654          0.253836   45262.05    1.721239e+05      0.000000   \n",
       "3      0.021096          0.271541   45165.00    1.404933e+05      0.094549   \n",
       "4      0.092320          0.272649   45120.64    1.404915e+06      0.000000   \n",
       "\n",
       "   LTC Subjectivity  LTC Price  LTC Volume USD  Net Polarity  \\\n",
       "0          0.278571     166.03     4073.107475     -0.077225   \n",
       "1          0.200000     166.27       58.504682      0.066479   \n",
       "2          0.000000     165.25      147.778501      0.010654   \n",
       "3          0.259995     164.95      379.522146      0.001834   \n",
       "4          0.000000     164.74    81015.336680      0.092320   \n",
       "\n",
       "   Net Subjectivity    Net Volume  Price Ratio  \n",
       "0         -0.101233  7.576819e+03     0.003661  \n",
       "1          0.102075  1.989435e+05     0.003659  \n",
       "2          0.253836  1.719761e+05     0.003651  \n",
       "3          0.014291  1.401138e+05     0.003652  \n",
       "4          0.272649  1.323900e+06     0.003651  "
      ]
     },
     "execution_count": 5,
     "metadata": {},
     "output_type": "execute_result"
    }
   ],
   "source": [
    "training_set.head()"
   ]
  },
  {
   "cell_type": "code",
   "execution_count": 6,
   "id": "b87cfcc8",
   "metadata": {},
   "outputs": [
    {
     "data": {
      "text/html": [
       "<div>\n",
       "<style scoped>\n",
       "    .dataframe tbody tr th:only-of-type {\n",
       "        vertical-align: middle;\n",
       "    }\n",
       "\n",
       "    .dataframe tbody tr th {\n",
       "        vertical-align: top;\n",
       "    }\n",
       "\n",
       "    .dataframe thead th {\n",
       "        text-align: right;\n",
       "    }\n",
       "</style>\n",
       "<table border=\"1\" class=\"dataframe\">\n",
       "  <thead>\n",
       "    <tr style=\"text-align: right;\">\n",
       "      <th></th>\n",
       "      <th>BTC Polarity</th>\n",
       "      <th>BTC Subjectivity</th>\n",
       "      <th>BTC Price</th>\n",
       "      <th>BTC Volume USD</th>\n",
       "      <th>LTC Polarity</th>\n",
       "      <th>LTC Subjectivity</th>\n",
       "      <th>LTC Price</th>\n",
       "      <th>LTC Volume USD</th>\n",
       "      <th>Net Polarity</th>\n",
       "      <th>Net Subjectivity</th>\n",
       "      <th>Net Volume</th>\n",
       "      <th>Price Ratio</th>\n",
       "    </tr>\n",
       "  </thead>\n",
       "  <tbody>\n",
       "    <tr>\n",
       "      <th>8496</th>\n",
       "      <td>0.104967</td>\n",
       "      <td>0.177875</td>\n",
       "      <td>48631.71</td>\n",
       "      <td>13064.036920</td>\n",
       "      <td>0.094549</td>\n",
       "      <td>0.259995</td>\n",
       "      <td>180.52</td>\n",
       "      <td>0.000000</td>\n",
       "      <td>0.001834</td>\n",
       "      <td>0.014291</td>\n",
       "      <td>13064.036920</td>\n",
       "      <td>0.003712</td>\n",
       "    </tr>\n",
       "    <tr>\n",
       "      <th>8497</th>\n",
       "      <td>0.131218</td>\n",
       "      <td>0.334875</td>\n",
       "      <td>48607.22</td>\n",
       "      <td>69991.303440</td>\n",
       "      <td>0.094549</td>\n",
       "      <td>0.259995</td>\n",
       "      <td>180.42</td>\n",
       "      <td>9167.670635</td>\n",
       "      <td>0.001834</td>\n",
       "      <td>0.014291</td>\n",
       "      <td>60823.632805</td>\n",
       "      <td>0.003712</td>\n",
       "    </tr>\n",
       "    <tr>\n",
       "      <th>8498</th>\n",
       "      <td>0.113037</td>\n",
       "      <td>0.250726</td>\n",
       "      <td>48669.16</td>\n",
       "      <td>9615.179508</td>\n",
       "      <td>0.094549</td>\n",
       "      <td>0.259995</td>\n",
       "      <td>180.43</td>\n",
       "      <td>2870.100010</td>\n",
       "      <td>0.001834</td>\n",
       "      <td>0.014291</td>\n",
       "      <td>6745.079498</td>\n",
       "      <td>0.003707</td>\n",
       "    </tr>\n",
       "    <tr>\n",
       "      <th>8499</th>\n",
       "      <td>0.134462</td>\n",
       "      <td>0.386852</td>\n",
       "      <td>48639.95</td>\n",
       "      <td>25616.716070</td>\n",
       "      <td>0.094549</td>\n",
       "      <td>0.259995</td>\n",
       "      <td>180.43</td>\n",
       "      <td>4505.337100</td>\n",
       "      <td>0.001834</td>\n",
       "      <td>0.014291</td>\n",
       "      <td>21111.378970</td>\n",
       "      <td>0.003710</td>\n",
       "    </tr>\n",
       "    <tr>\n",
       "      <th>8500</th>\n",
       "      <td>0.084188</td>\n",
       "      <td>0.350329</td>\n",
       "      <td>48648.93</td>\n",
       "      <td>1266.818137</td>\n",
       "      <td>0.000000</td>\n",
       "      <td>1.000000</td>\n",
       "      <td>180.43</td>\n",
       "      <td>0.000000</td>\n",
       "      <td>0.084188</td>\n",
       "      <td>-0.649671</td>\n",
       "      <td>1266.818137</td>\n",
       "      <td>0.003709</td>\n",
       "    </tr>\n",
       "  </tbody>\n",
       "</table>\n",
       "</div>"
      ],
      "text/plain": [
       "      BTC Polarity  BTC Subjectivity  BTC Price  BTC Volume USD  LTC Polarity  \\\n",
       "8496      0.104967          0.177875   48631.71    13064.036920      0.094549   \n",
       "8497      0.131218          0.334875   48607.22    69991.303440      0.094549   \n",
       "8498      0.113037          0.250726   48669.16     9615.179508      0.094549   \n",
       "8499      0.134462          0.386852   48639.95    25616.716070      0.094549   \n",
       "8500      0.084188          0.350329   48648.93     1266.818137      0.000000   \n",
       "\n",
       "      LTC Subjectivity  LTC Price  LTC Volume USD  Net Polarity  \\\n",
       "8496          0.259995     180.52        0.000000      0.001834   \n",
       "8497          0.259995     180.42     9167.670635      0.001834   \n",
       "8498          0.259995     180.43     2870.100010      0.001834   \n",
       "8499          0.259995     180.43     4505.337100      0.001834   \n",
       "8500          1.000000     180.43        0.000000      0.084188   \n",
       "\n",
       "      Net Subjectivity    Net Volume  Price Ratio  \n",
       "8496          0.014291  13064.036920     0.003712  \n",
       "8497          0.014291  60823.632805     0.003712  \n",
       "8498          0.014291   6745.079498     0.003707  \n",
       "8499          0.014291  21111.378970     0.003710  \n",
       "8500         -0.649671   1266.818137     0.003709  "
      ]
     },
     "execution_count": 6,
     "metadata": {},
     "output_type": "execute_result"
    }
   ],
   "source": [
    "test_set.head()"
   ]
  },
  {
   "cell_type": "code",
   "execution_count": 7,
   "id": "6e1df60b",
   "metadata": {},
   "outputs": [],
   "source": [
    "# feature scaling\n",
    "\n",
    "x_sc = MinMaxScaler(feature_range = (0, 1))\n",
    "y_sc = MinMaxScaler(feature_range = (0, 1))\n",
    "\n",
    "training_set.iloc[:, 0:11] = x_sc.fit_transform(training_set.iloc[:, 0:11])\n",
    "training_set['Price Ratio'] = y_sc.fit_transform(training_set['Price Ratio'].values.reshape(-1,1))\n",
    "training_set_scaled = training_set.values"
   ]
  },
  {
   "cell_type": "code",
   "execution_count": 8,
   "id": "a3b836b3",
   "metadata": {},
   "outputs": [],
   "source": [
    "# creating a data structure with 6 time-steps and 1 output\n",
    "window = 10\n",
    "\n",
    "X_train = []\n",
    "y_train = []\n",
    "for i in range(window, train_size):\n",
    "    X_train.append(training_set_scaled[i-window:i, 0:11])\n",
    "    y_train.append(training_set_scaled[i, -1])\n",
    "X_train, y_train = np.array(X_train), np.array(y_train)\n",
    "X_train = np.reshape(X_train, (X_train.shape[0], X_train.shape[1], 11))"
   ]
  },
  {
   "cell_type": "code",
   "execution_count": 9,
   "id": "75b21b47",
   "metadata": {},
   "outputs": [
    {
     "data": {
      "text/plain": [
       "(76453, 10, 11)"
      ]
     },
     "execution_count": 9,
     "metadata": {},
     "output_type": "execute_result"
    }
   ],
   "source": [
    "X_train.shape"
   ]
  },
  {
   "cell_type": "code",
   "execution_count": 10,
   "id": "092b7a07",
   "metadata": {},
   "outputs": [
    {
     "data": {
      "text/plain": [
       "(76453,)"
      ]
     },
     "execution_count": 10,
     "metadata": {},
     "output_type": "execute_result"
    }
   ],
   "source": [
    "y_train.shape"
   ]
  },
  {
   "cell_type": "code",
   "execution_count": 11,
   "id": "f59d7e72",
   "metadata": {},
   "outputs": [],
   "source": [
    "# model\n",
    "\n",
    "model_1 = Sequential()\n",
    "\n",
    "#Adding the first LSTM layer and some Dropout regularisation\n",
    "model_1.add(LSTM(units = 50, return_sequences = True, input_shape = (X_train.shape[1], X_train.shape[2])))\n",
    "model_1.add(Dropout(0.2))\n",
    "\n",
    "# Adding a second LSTM layer and some Dropout regularisation\n",
    "model_1.add(LSTM(units = 50, return_sequences = True))\n",
    "model_1.add(Dropout(0.2))\n",
    "\n",
    "# Adding a third LSTM layer and some Dropout regularisation\n",
    "model_1.add(LSTM(units = 50, return_sequences = True))\n",
    "model_1.add(Dropout(0.2))\n",
    "\n",
    "# Adding a fourth LSTM layer and some Dropout regularisation\n",
    "model_1.add(LSTM(units = 50))\n",
    "model_1.add(Dropout(0.2))\n",
    "\n",
    "# Adding the output layer\n",
    "model_1.add(Dense(units = 1))\n",
    "\n",
    "# Compiling the RNN\n",
    "model_1.compile(optimizer = 'adam', loss = 'mean_squared_error')"
   ]
  },
  {
   "cell_type": "code",
   "execution_count": 12,
   "id": "735851f8",
   "metadata": {},
   "outputs": [
    {
     "name": "stdout",
     "output_type": "stream",
     "text": [
      "Epoch 1/20\n",
      "2390/2390 [==============================] - 46s 17ms/step - loss: 0.0018\n",
      "Epoch 2/20\n",
      "2390/2390 [==============================] - 40s 17ms/step - loss: 6.3356e-04\n",
      "Epoch 3/20\n",
      "2390/2390 [==============================] - 45s 19ms/step - loss: 5.4992e-04\n",
      "Epoch 4/20\n",
      "2390/2390 [==============================] - 44s 18ms/step - loss: 5.1451e-04\n",
      "Epoch 5/20\n",
      "2390/2390 [==============================] - 43s 18ms/step - loss: 4.7784e-04\n",
      "Epoch 6/20\n",
      "2390/2390 [==============================] - 43s 18ms/step - loss: 4.7773e-04\n",
      "Epoch 7/20\n",
      "2390/2390 [==============================] - 41s 17ms/step - loss: 4.6552e-04\n",
      "Epoch 8/20\n",
      "2390/2390 [==============================] - 41s 17ms/step - loss: 4.5056e-04\n",
      "Epoch 9/20\n",
      "2390/2390 [==============================] - 44s 18ms/step - loss: 4.3727e-04\n",
      "Epoch 10/20\n",
      "2390/2390 [==============================] - 42s 18ms/step - loss: 4.4859e-04\n",
      "Epoch 11/20\n",
      "2390/2390 [==============================] - 42s 18ms/step - loss: 4.4490e-04\n",
      "Epoch 12/20\n",
      "2390/2390 [==============================] - 42s 17ms/step - loss: 4.2532e-04\n",
      "Epoch 13/20\n",
      "2390/2390 [==============================] - 49s 21ms/step - loss: 4.3285e-04\n",
      "Epoch 14/20\n",
      "2390/2390 [==============================] - 55s 23ms/step - loss: 4.2541e-04\n",
      "Epoch 15/20\n",
      "2390/2390 [==============================] - 50s 21ms/step - loss: 4.2217e-04\n",
      "Epoch 16/20\n",
      "2390/2390 [==============================] - 44s 18ms/step - loss: 4.2055e-04\n",
      "Epoch 17/20\n",
      "2390/2390 [==============================] - 44s 18ms/step - loss: 4.2574e-04\n",
      "Epoch 18/20\n",
      "2390/2390 [==============================] - 44s 18ms/step - loss: 4.0943e-04\n",
      "Epoch 19/20\n",
      "2390/2390 [==============================] - 43s 18ms/step - loss: 4.1104e-04\n",
      "Epoch 20/20\n",
      "2390/2390 [==============================] - 43s 18ms/step - loss: 4.0166e-04\n"
     ]
    }
   ],
   "source": [
    "# Fitting the RNN to the Training set\n",
    "\n",
    "history_1 = model_1.fit(X_train, y_train, epochs = 20, batch_size = 32)"
   ]
  },
  {
   "cell_type": "code",
   "execution_count": 13,
   "id": "95446857",
   "metadata": {},
   "outputs": [
    {
     "data": {
      "image/png": "[encoded data removed]",
      "text/plain": [
       "<Figure size 432x288 with 1 Axes>"
      ]
     },
     "metadata": {
      "needs_background": "light"
     },
     "output_type": "display_data"
    }
   ],
   "source": [
    "plt.plot(history_1.history['loss'])\n",
    "#plt.plot(history_1.history['val_loss'])\n",
    "plt.title('model 1 loss')\n",
    "plt.ylabel('loss')\n",
    "plt.xlabel('epoch')\n",
    "plt.legend(['train', 'val'], loc='upper left')\n",
    "plt.show()"
   ]
  },
  {
   "cell_type": "code",
   "execution_count": 14,
   "id": "9829cb36",
   "metadata": {},
   "outputs": [],
   "source": [
    "# prep inputs to get predictions\n",
    "\n",
    "dataset_train = df.iloc[:train_size, 1:]\n",
    "dataset_test = df.iloc[train_size:, 1:]\n",
    "dataset_total = pd.concat((dataset_train, dataset_test), axis = 0)\n",
    "\n",
    "dataset_total.iloc[:, 0:11] = x_sc.fit_transform(dataset_total.iloc[:, 0:11])\n",
    "dataset_total['Price Ratio'] = y_sc.fit_transform(dataset_total['Price Ratio'].values.reshape(-1,1))\n",
    "\n",
    "inputs = dataset_total[len(dataset_total) - len(dataset_test) - window:].values\n",
    "inputs = inputs.reshape(-1,12)\n",
    "\n",
    "X_test = []\n",
    "for i in range(window, test_size+window):\n",
    "    X_test.append(inputs[i-window:i, 0:11])\n",
    "X_test = np.array(X_test)\n",
    "X_test = np.reshape(X_test, (X_test.shape[0], X_test.shape[1], 11))\n",
    "\n",
    "# get predictions\n",
    "\n",
    "predicted_values = model_1.predict(X_test)\n",
    "predicted_values = y_sc.inverse_transform(predicted_values)"
   ]
  },
  {
   "cell_type": "code",
   "execution_count": 15,
   "id": "5618f9a4",
   "metadata": {},
   "outputs": [
    {
     "data": {
      "image/png": "[encoded data removed]",
      "text/plain": [
       "<Figure size 720x360 with 1 Axes>"
      ]
     },
     "metadata": {
      "needs_background": "light"
     },
     "output_type": "display_data"
    }
   ],
   "source": [
    "# visualising the results\n",
    "\n",
    "plt.figure(figsize=(10, 5))\n",
    "plt.plot(df.iloc[train_size:, 0], dataset_test['Price Ratio'].values, color = 'red', label = 'Real Price Ratio')\n",
    "plt.plot(df.iloc[train_size:, 0], predicted_values, color = 'blue', label = 'Predicted Price Ratio')\n",
    "plt.xticks(np.arange(0,test_size,50))\n",
    "plt.title('Model 1 Price Ratio Prediction')\n",
    "plt.xlabel('Time')\n",
    "plt.ylabel('Price Ratio')\n",
    "plt.legend()\n",
    "\n",
    "plt.show()"
   ]
  },
  {
   "cell_type": "code",
   "execution_count": 16,
   "id": "e7b619b7",
   "metadata": {},
   "outputs": [
    {
     "name": "stdout",
     "output_type": "stream",
     "text": [
      "4.482693251677595e-05\n"
     ]
    }
   ],
   "source": [
    "# rmse\n",
    "\n",
    "rmse = mean_squared_error(dataset_test['Price Ratio'].values, predicted_values, squared=False)\n",
    "print(rmse)"
   ]
  },
  {
   "cell_type": "code",
   "execution_count": 17,
   "id": "9efe5acf",
   "metadata": {},
   "outputs": [
    {
     "name": "stdout",
     "output_type": "stream",
     "text": [
      "7.84626113425437e-05\n"
     ]
    }
   ],
   "source": [
    "# std\n",
    "\n",
    "test_std = np.std(dataset_test['Price Ratio'].values)\n",
    "print(test_std)"
   ]
  },
  {
   "cell_type": "markdown",
   "id": "9424cd63",
   "metadata": {},
   "source": [
    "## MODEL 2: ONLY SENTIMENT DATA"
   ]
  },
  {
   "cell_type": "code",
   "execution_count": 18,
   "id": "e990cb47",
   "metadata": {},
   "outputs": [],
   "source": [
    "%reset -f"
   ]
  },
  {
   "cell_type": "code",
   "execution_count": 19,
   "id": "62d6ecc8",
   "metadata": {},
   "outputs": [],
   "source": [
    "# imports\n",
    "\n",
    "import math\n",
    "import matplotlib.pyplot as plt\n",
    "import keras\n",
    "import pandas as pd\n",
    "import numpy as np\n",
    "from keras.models import Sequential\n",
    "from keras.layers import Dense\n",
    "from keras.layers import LSTM\n",
    "from keras.layers import Dropout\n",
    "from keras.layers import *\n",
    "from sklearn.preprocessing import MinMaxScaler\n",
    "from sklearn.metrics import mean_squared_error\n",
    "from sklearn.metrics import mean_absolute_error\n",
    "from sklearn.model_selection import train_test_split\n",
    "from keras.callbacks import EarlyStopping"
   ]
  },
  {
   "cell_type": "code",
   "execution_count": 20,
   "id": "b16e0e36",
   "metadata": {},
   "outputs": [],
   "source": [
    "# read data\n",
    "\n",
    "march_df = pd.read_csv(\"BTC_1min_LTC_1min_march.csv\")\n",
    "april_df = pd.read_csv(\"BTC_1min_LTC_1min_april.csv\")"
   ]
  },
  {
   "cell_type": "code",
   "execution_count": 21,
   "id": "fa6a6fb5",
   "metadata": {},
   "outputs": [],
   "source": [
    "# combine data\n",
    "\n",
    "df = pd.concat([march_df, april_df], axis=0)\n",
    "\n",
    "df['LTC Polarity'] = df['LTC Polarity'].fillna(value=df['LTC Polarity'].mean())\n",
    "df['LTC Subjectivity'] = df['LTC Subjectivity'].fillna(value=df['LTC Subjectivity'].mean())\n",
    "df['Net Polarity'] = df['Net Polarity'].fillna(value=df['Net Polarity'].mean())\n",
    "df['Net Subjectivity'] = df['Net Subjectivity'].fillna(value=df['Net Subjectivity'].mean())\n",
    "\n",
    "df = df[[\"Timestamp\", \"BTC Polarity\", \"LTC Polarity\", \"BTC Subjectivity\", \"LTC Subjectivity\", \"Net Polarity\", \"Net Subjectivity\", \"Price Ratio\"]]\n",
    "\n",
    "# split testing and training data\n",
    "\n",
    "train_size = int(np.round(df.shape[0]*0.90))\n",
    "test_size = int(np.round(df.shape[0]*0.10))\n",
    "\n",
    "training_set = df.iloc[:train_size, 1:]\n",
    "test_set = df.iloc[test_size:, 1:]"
   ]
  },
  {
   "cell_type": "code",
   "execution_count": 22,
   "id": "5823136f",
   "metadata": {},
   "outputs": [
    {
     "data": {
      "text/html": [
       "<div>\n",
       "<style scoped>\n",
       "    .dataframe tbody tr th:only-of-type {\n",
       "        vertical-align: middle;\n",
       "    }\n",
       "\n",
       "    .dataframe tbody tr th {\n",
       "        vertical-align: top;\n",
       "    }\n",
       "\n",
       "    .dataframe thead th {\n",
       "        text-align: right;\n",
       "    }\n",
       "</style>\n",
       "<table border=\"1\" class=\"dataframe\">\n",
       "  <thead>\n",
       "    <tr style=\"text-align: right;\">\n",
       "      <th></th>\n",
       "      <th>BTC Polarity</th>\n",
       "      <th>LTC Polarity</th>\n",
       "      <th>BTC Subjectivity</th>\n",
       "      <th>LTC Subjectivity</th>\n",
       "      <th>Net Polarity</th>\n",
       "      <th>Net Subjectivity</th>\n",
       "      <th>Price Ratio</th>\n",
       "    </tr>\n",
       "  </thead>\n",
       "  <tbody>\n",
       "    <tr>\n",
       "      <th>0</th>\n",
       "      <td>0.065632</td>\n",
       "      <td>0.142857</td>\n",
       "      <td>0.177339</td>\n",
       "      <td>0.278571</td>\n",
       "      <td>-0.077225</td>\n",
       "      <td>-0.101233</td>\n",
       "      <td>0.003661</td>\n",
       "    </tr>\n",
       "    <tr>\n",
       "      <th>1</th>\n",
       "      <td>0.066479</td>\n",
       "      <td>0.000000</td>\n",
       "      <td>0.302075</td>\n",
       "      <td>0.200000</td>\n",
       "      <td>0.066479</td>\n",
       "      <td>0.102075</td>\n",
       "      <td>0.003659</td>\n",
       "    </tr>\n",
       "    <tr>\n",
       "      <th>2</th>\n",
       "      <td>0.010654</td>\n",
       "      <td>0.000000</td>\n",
       "      <td>0.253836</td>\n",
       "      <td>0.000000</td>\n",
       "      <td>0.010654</td>\n",
       "      <td>0.253836</td>\n",
       "      <td>0.003651</td>\n",
       "    </tr>\n",
       "    <tr>\n",
       "      <th>3</th>\n",
       "      <td>0.021096</td>\n",
       "      <td>0.094549</td>\n",
       "      <td>0.271541</td>\n",
       "      <td>0.259995</td>\n",
       "      <td>0.001834</td>\n",
       "      <td>0.014291</td>\n",
       "      <td>0.003652</td>\n",
       "    </tr>\n",
       "    <tr>\n",
       "      <th>4</th>\n",
       "      <td>0.092320</td>\n",
       "      <td>0.000000</td>\n",
       "      <td>0.272649</td>\n",
       "      <td>0.000000</td>\n",
       "      <td>0.092320</td>\n",
       "      <td>0.272649</td>\n",
       "      <td>0.003651</td>\n",
       "    </tr>\n",
       "  </tbody>\n",
       "</table>\n",
       "</div>"
      ],
      "text/plain": [
       "   BTC Polarity  LTC Polarity  BTC Subjectivity  LTC Subjectivity  \\\n",
       "0      0.065632      0.142857          0.177339          0.278571   \n",
       "1      0.066479      0.000000          0.302075          0.200000   \n",
       "2      0.010654      0.000000          0.253836          0.000000   \n",
       "3      0.021096      0.094549          0.271541          0.259995   \n",
       "4      0.092320      0.000000          0.272649          0.000000   \n",
       "\n",
       "   Net Polarity  Net Subjectivity  Price Ratio  \n",
       "0     -0.077225         -0.101233     0.003661  \n",
       "1      0.066479          0.102075     0.003659  \n",
       "2      0.010654          0.253836     0.003651  \n",
       "3      0.001834          0.014291     0.003652  \n",
       "4      0.092320          0.272649     0.003651  "
      ]
     },
     "execution_count": 22,
     "metadata": {},
     "output_type": "execute_result"
    }
   ],
   "source": [
    "training_set.head()"
   ]
  },
  {
   "cell_type": "code",
   "execution_count": 23,
   "id": "f7103e6a",
   "metadata": {},
   "outputs": [
    {
     "data": {
      "text/html": [
       "<div>\n",
       "<style scoped>\n",
       "    .dataframe tbody tr th:only-of-type {\n",
       "        vertical-align: middle;\n",
       "    }\n",
       "\n",
       "    .dataframe tbody tr th {\n",
       "        vertical-align: top;\n",
       "    }\n",
       "\n",
       "    .dataframe thead th {\n",
       "        text-align: right;\n",
       "    }\n",
       "</style>\n",
       "<table border=\"1\" class=\"dataframe\">\n",
       "  <thead>\n",
       "    <tr style=\"text-align: right;\">\n",
       "      <th></th>\n",
       "      <th>BTC Polarity</th>\n",
       "      <th>LTC Polarity</th>\n",
       "      <th>BTC Subjectivity</th>\n",
       "      <th>LTC Subjectivity</th>\n",
       "      <th>Net Polarity</th>\n",
       "      <th>Net Subjectivity</th>\n",
       "      <th>Price Ratio</th>\n",
       "    </tr>\n",
       "  </thead>\n",
       "  <tbody>\n",
       "    <tr>\n",
       "      <th>8496</th>\n",
       "      <td>0.104967</td>\n",
       "      <td>0.094549</td>\n",
       "      <td>0.177875</td>\n",
       "      <td>0.259995</td>\n",
       "      <td>0.001834</td>\n",
       "      <td>0.014291</td>\n",
       "      <td>0.003712</td>\n",
       "    </tr>\n",
       "    <tr>\n",
       "      <th>8497</th>\n",
       "      <td>0.131218</td>\n",
       "      <td>0.094549</td>\n",
       "      <td>0.334875</td>\n",
       "      <td>0.259995</td>\n",
       "      <td>0.001834</td>\n",
       "      <td>0.014291</td>\n",
       "      <td>0.003712</td>\n",
       "    </tr>\n",
       "    <tr>\n",
       "      <th>8498</th>\n",
       "      <td>0.113037</td>\n",
       "      <td>0.094549</td>\n",
       "      <td>0.250726</td>\n",
       "      <td>0.259995</td>\n",
       "      <td>0.001834</td>\n",
       "      <td>0.014291</td>\n",
       "      <td>0.003707</td>\n",
       "    </tr>\n",
       "    <tr>\n",
       "      <th>8499</th>\n",
       "      <td>0.134462</td>\n",
       "      <td>0.094549</td>\n",
       "      <td>0.386852</td>\n",
       "      <td>0.259995</td>\n",
       "      <td>0.001834</td>\n",
       "      <td>0.014291</td>\n",
       "      <td>0.003710</td>\n",
       "    </tr>\n",
       "    <tr>\n",
       "      <th>8500</th>\n",
       "      <td>0.084188</td>\n",
       "      <td>0.000000</td>\n",
       "      <td>0.350329</td>\n",
       "      <td>1.000000</td>\n",
       "      <td>0.084188</td>\n",
       "      <td>-0.649671</td>\n",
       "      <td>0.003709</td>\n",
       "    </tr>\n",
       "  </tbody>\n",
       "</table>\n",
       "</div>"
      ],
      "text/plain": [
       "      BTC Polarity  LTC Polarity  BTC Subjectivity  LTC Subjectivity  \\\n",
       "8496      0.104967      0.094549          0.177875          0.259995   \n",
       "8497      0.131218      0.094549          0.334875          0.259995   \n",
       "8498      0.113037      0.094549          0.250726          0.259995   \n",
       "8499      0.134462      0.094549          0.386852          0.259995   \n",
       "8500      0.084188      0.000000          0.350329          1.000000   \n",
       "\n",
       "      Net Polarity  Net Subjectivity  Price Ratio  \n",
       "8496      0.001834          0.014291     0.003712  \n",
       "8497      0.001834          0.014291     0.003712  \n",
       "8498      0.001834          0.014291     0.003707  \n",
       "8499      0.001834          0.014291     0.003710  \n",
       "8500      0.084188         -0.649671     0.003709  "
      ]
     },
     "execution_count": 23,
     "metadata": {},
     "output_type": "execute_result"
    }
   ],
   "source": [
    "test_set.head()"
   ]
  },
  {
   "cell_type": "code",
   "execution_count": 24,
   "id": "48a749f4",
   "metadata": {},
   "outputs": [],
   "source": [
    "# feature scaling\n",
    "\n",
    "x_sc = MinMaxScaler(feature_range = (0, 1))\n",
    "y_sc = MinMaxScaler(feature_range = (0, 1))\n",
    "\n",
    "training_set.iloc[:, 0:6] = x_sc.fit_transform(training_set.iloc[:, 0:6])\n",
    "training_set['Price Ratio'] = y_sc.fit_transform(training_set['Price Ratio'].values.reshape(-1,1))\n",
    "training_set_scaled = training_set.values"
   ]
  },
  {
   "cell_type": "code",
   "execution_count": 25,
   "id": "598deff2",
   "metadata": {},
   "outputs": [],
   "source": [
    "# creating a data structure with 6 time-steps and 1 output\n",
    "\n",
    "window = 10\n",
    "\n",
    "X_train = []\n",
    "y_train = []\n",
    "for i in range(window, train_size):\n",
    "    X_train.append(training_set_scaled[i-window:i, 0:6])\n",
    "    y_train.append(training_set_scaled[i, -1])\n",
    "X_train, y_train = np.array(X_train), np.array(y_train)\n",
    "X_train = np.reshape(X_train, (X_train.shape[0], X_train.shape[1], 6))"
   ]
  },
  {
   "cell_type": "code",
   "execution_count": 26,
   "id": "62ef9cc6",
   "metadata": {},
   "outputs": [
    {
     "data": {
      "text/plain": [
       "(76453, 10, 6)"
      ]
     },
     "execution_count": 26,
     "metadata": {},
     "output_type": "execute_result"
    }
   ],
   "source": [
    "X_train.shape"
   ]
  },
  {
   "cell_type": "code",
   "execution_count": 27,
   "id": "65879990",
   "metadata": {},
   "outputs": [
    {
     "data": {
      "text/plain": [
       "(76453,)"
      ]
     },
     "execution_count": 27,
     "metadata": {},
     "output_type": "execute_result"
    }
   ],
   "source": [
    "y_train.shape"
   ]
  },
  {
   "cell_type": "code",
   "execution_count": 28,
   "id": "83f7ea3c",
   "metadata": {},
   "outputs": [],
   "source": [
    "# model\n",
    "\n",
    "model_2 = Sequential()\n",
    "\n",
    "#Adding the first LSTM layer and some Dropout regularisation\n",
    "model_2.add(LSTM(units = 50, return_sequences = True, input_shape = (X_train.shape[1], X_train.shape[2])))\n",
    "model_2.add(Dropout(0.2))\n",
    "\n",
    "# Adding a second LSTM layer and some Dropout regularisation\n",
    "model_2.add(LSTM(units = 50, return_sequences = True))\n",
    "model_2.add(Dropout(0.2))\n",
    "\n",
    "# Adding a third LSTM layer and some Dropout regularisation\n",
    "model_2.add(LSTM(units = 50, return_sequences = True))\n",
    "model_2.add(Dropout(0.2))\n",
    "\n",
    "# Adding a fourth LSTM layer and some Dropout regularisation\n",
    "model_2.add(LSTM(units = 50))\n",
    "model_2.add(Dropout(0.2))\n",
    "\n",
    "# Adding the output layer\n",
    "model_2.add(Dense(units = 1))\n",
    "\n",
    "# Compiling the RNN\n",
    "model_2.compile(optimizer = 'adam', loss = 'mean_squared_error')"
   ]
  },
  {
   "cell_type": "code",
   "execution_count": 29,
   "id": "168f0df6",
   "metadata": {},
   "outputs": [
    {
     "name": "stdout",
     "output_type": "stream",
     "text": [
      "Epoch 1/20\n",
      "2390/2390 [==============================] - 53s 19ms/step - loss: 0.0490\n",
      "Epoch 2/20\n",
      "2390/2390 [==============================] - 44s 19ms/step - loss: 0.0472\n",
      "Epoch 3/20\n",
      "2390/2390 [==============================] - 41s 17ms/step - loss: 0.0468\n",
      "Epoch 4/20\n",
      "2390/2390 [==============================] - 41s 17ms/step - loss: 0.0466\n",
      "Epoch 5/20\n",
      "2390/2390 [==============================] - 41s 17ms/step - loss: 0.0464\n",
      "Epoch 6/20\n",
      "2390/2390 [==============================] - 45s 19ms/step - loss: 0.0463\n",
      "Epoch 7/20\n",
      "2390/2390 [==============================] - 48s 20ms/step - loss: 0.0461\n",
      "Epoch 8/20\n",
      "2390/2390 [==============================] - 47s 20ms/step - loss: 0.0459\n",
      "Epoch 9/20\n",
      "2390/2390 [==============================] - 43s 18ms/step - loss: 0.0458\n",
      "Epoch 10/20\n",
      "2390/2390 [==============================] - 43s 18ms/step - loss: 0.0456\n",
      "Epoch 11/20\n",
      "2390/2390 [==============================] - 42s 18ms/step - loss: 0.0454\n",
      "Epoch 12/20\n",
      "2390/2390 [==============================] - 42s 18ms/step - loss: 0.0452\n",
      "Epoch 13/20\n",
      "2390/2390 [==============================] - 42s 17ms/step - loss: 0.0450\n",
      "Epoch 14/20\n",
      "2390/2390 [==============================] - 41s 17ms/step - loss: 0.0446\n",
      "Epoch 15/20\n",
      "2390/2390 [==============================] - 43s 18ms/step - loss: 0.0443\n",
      "Epoch 16/20\n",
      "2390/2390 [==============================] - 44s 18ms/step - loss: 0.0440\n",
      "Epoch 17/20\n",
      "2390/2390 [==============================] - 43s 18ms/step - loss: 0.0438\n",
      "Epoch 18/20\n",
      "2390/2390 [==============================] - 42s 17ms/step - loss: 0.0435\n",
      "Epoch 19/20\n",
      "2390/2390 [==============================] - 42s 18ms/step - loss: 0.0430\n",
      "Epoch 20/20\n",
      "2390/2390 [==============================] - 43s 18ms/step - loss: 0.0426\n"
     ]
    }
   ],
   "source": [
    "# Fitting the RNN to the Training set\n",
    "\n",
    "history_2 = model_2.fit(X_train, y_train, epochs = 20, batch_size = 32)"
   ]
  },
  {
   "cell_type": "code",
   "execution_count": 30,
   "id": "d13a11b4",
   "metadata": {},
   "outputs": [
    {
     "data": {
      "image/png": "[encoded data removed]",
      "text/plain": [
       "<Figure size 432x288 with 1 Axes>"
      ]
     },
     "metadata": {
      "needs_background": "light"
     },
     "output_type": "display_data"
    }
   ],
   "source": [
    "plt.plot(history_2.history['loss'])\n",
    "#plt.plot(history_2.history['val_loss'])\n",
    "plt.title('model 2 loss')\n",
    "plt.ylabel('loss')\n",
    "plt.xlabel('epoch')\n",
    "plt.legend(['train', 'val'], loc='upper left')\n",
    "plt.show()"
   ]
  },
  {
   "cell_type": "code",
   "execution_count": 31,
   "id": "a7bfe4bd",
   "metadata": {},
   "outputs": [],
   "source": [
    "# prep inputs to get predictions\n",
    "\n",
    "dataset_train = df.iloc[:train_size, 1:]\n",
    "dataset_test = df.iloc[train_size:, 1:]\n",
    "dataset_total = pd.concat((dataset_train, dataset_test), axis = 0)\n",
    "\n",
    "dataset_total.iloc[:, 0:6] = x_sc.fit_transform(dataset_total.iloc[:, 0:6])\n",
    "dataset_total['Price Ratio'] = y_sc.fit_transform(dataset_total['Price Ratio'].values.reshape(-1,1))\n",
    "\n",
    "inputs = dataset_total[len(dataset_total) - len(dataset_test) - window:].values\n",
    "inputs = inputs.reshape(-1,7)\n",
    "\n",
    "X_test = []\n",
    "for i in range(window, test_size+window):\n",
    "    X_test.append(inputs[i-window:i, 0:6])\n",
    "X_test = np.array(X_test)\n",
    "X_test = np.reshape(X_test, (X_test.shape[0], X_test.shape[1], 6))\n",
    "\n",
    "# get predictions\n",
    "\n",
    "predicted_values = model_2.predict(X_test)\n",
    "predicted_values = y_sc.inverse_transform(predicted_values)"
   ]
  },
  {
   "cell_type": "code",
   "execution_count": 32,
   "id": "44fef088",
   "metadata": {},
   "outputs": [
    {
     "data": {
      "image/png": "[encoded data removed]",
      "text/plain": [
       "<Figure size 720x360 with 1 Axes>"
      ]
     },
     "metadata": {
      "needs_background": "light"
     },
     "output_type": "display_data"
    }
   ],
   "source": [
    "# visualising the results\n",
    "\n",
    "plt.figure(figsize=(10, 5))\n",
    "plt.plot(df.iloc[train_size:, 0], dataset_test['Price Ratio'].values, color = 'red', label = 'Real Price Ratio')\n",
    "plt.plot(df.iloc[train_size:, 0], predicted_values, color = 'blue', label = 'Predicted Price Ratio')\n",
    "plt.xticks(np.arange(0,test_size,50))\n",
    "plt.title('Model 2 Price Ratio Prediction')\n",
    "plt.xlabel('Time')\n",
    "plt.ylabel('Price Ratio')\n",
    "plt.legend()\n",
    "\n",
    "plt.show()"
   ]
  },
  {
   "cell_type": "code",
   "execution_count": 33,
   "id": "60d4371e",
   "metadata": {},
   "outputs": [
    {
     "name": "stdout",
     "output_type": "stream",
     "text": [
      "0.0007547445955539389\n"
     ]
    }
   ],
   "source": [
    "# rmse\n",
    "\n",
    "rmse = mean_squared_error(dataset_test['Price Ratio'].values, predicted_values, squared=False)\n",
    "print(rmse)"
   ]
  },
  {
   "cell_type": "code",
   "execution_count": 34,
   "id": "86f389ba",
   "metadata": {},
   "outputs": [
    {
     "name": "stdout",
     "output_type": "stream",
     "text": [
      "7.84626113425437e-05\n"
     ]
    }
   ],
   "source": [
    "# std\n",
    "\n",
    "test_std = np.std(dataset_test['Price Ratio'].values)\n",
    "print(test_std)"
   ]
  },
  {
   "cell_type": "markdown",
   "id": "59683e42",
   "metadata": {},
   "source": [
    "## MODEL 3: ONLY FINANCIAL DATA"
   ]
  },
  {
   "cell_type": "code",
   "execution_count": 35,
   "id": "77134255",
   "metadata": {},
   "outputs": [],
   "source": [
    "%reset -f"
   ]
  },
  {
   "cell_type": "code",
   "execution_count": 36,
   "id": "2b0295fa",
   "metadata": {},
   "outputs": [],
   "source": [
    "# imports\n",
    "\n",
    "import math\n",
    "import matplotlib.pyplot as plt\n",
    "import keras\n",
    "import pandas as pd\n",
    "import numpy as np\n",
    "from keras.models import Sequential\n",
    "from keras.layers import Dense\n",
    "from keras.layers import LSTM\n",
    "from keras.layers import Dropout\n",
    "from keras.layers import *\n",
    "from sklearn.preprocessing import MinMaxScaler\n",
    "from sklearn.metrics import mean_squared_error\n",
    "from sklearn.metrics import mean_absolute_error\n",
    "from sklearn.model_selection import train_test_split\n",
    "from keras.callbacks import EarlyStopping"
   ]
  },
  {
   "cell_type": "code",
   "execution_count": 37,
   "id": "fbe1066a",
   "metadata": {},
   "outputs": [],
   "source": [
    "# read data\n",
    "\n",
    "march_df = pd.read_csv(\"BTC_1min_LTC_1min_march.csv\")\n",
    "april_df = pd.read_csv(\"BTC_1min_LTC_1min_april.csv\")"
   ]
  },
  {
   "cell_type": "code",
   "execution_count": 38,
   "id": "815d018e",
   "metadata": {},
   "outputs": [],
   "source": [
    "# combine data\n",
    "\n",
    "df = pd.concat([march_df, april_df], axis=0)\n",
    "\n",
    "df['LTC Polarity'] = df['LTC Polarity'].fillna(value=df['LTC Polarity'].mean())\n",
    "df['LTC Subjectivity'] = df['LTC Subjectivity'].fillna(value=df['LTC Subjectivity'].mean())\n",
    "df['Net Polarity'] = df['Net Polarity'].fillna(value=df['Net Polarity'].mean())\n",
    "df['Net Subjectivity'] = df['Net Subjectivity'].fillna(value=df['Net Subjectivity'].mean())\n",
    "\n",
    "df = df[[\"Timestamp\", \"BTC Price\", \"LTC Price\", \"BTC Volume USD\", \"LTC Volume USD\", \"Net Volume\", \"Price Ratio\"]]\n",
    "\n",
    "# split testing and training data\n",
    "\n",
    "train_size = int(np.round(df.shape[0]*0.90))\n",
    "test_size = int(np.round(df.shape[0]*0.10))\n",
    "\n",
    "training_set = df.iloc[:train_size, 1:]\n",
    "test_set = df.iloc[test_size:, 1:]"
   ]
  },
  {
   "cell_type": "code",
   "execution_count": 39,
   "id": "6998d28a",
   "metadata": {},
   "outputs": [
    {
     "data": {
      "text/html": [
       "<div>\n",
       "<style scoped>\n",
       "    .dataframe tbody tr th:only-of-type {\n",
       "        vertical-align: middle;\n",
       "    }\n",
       "\n",
       "    .dataframe tbody tr th {\n",
       "        vertical-align: top;\n",
       "    }\n",
       "\n",
       "    .dataframe thead th {\n",
       "        text-align: right;\n",
       "    }\n",
       "</style>\n",
       "<table border=\"1\" class=\"dataframe\">\n",
       "  <thead>\n",
       "    <tr style=\"text-align: right;\">\n",
       "      <th></th>\n",
       "      <th>BTC Price</th>\n",
       "      <th>LTC Price</th>\n",
       "      <th>BTC Volume USD</th>\n",
       "      <th>LTC Volume USD</th>\n",
       "      <th>Net Volume</th>\n",
       "      <th>Price Ratio</th>\n",
       "    </tr>\n",
       "  </thead>\n",
       "  <tbody>\n",
       "    <tr>\n",
       "      <th>0</th>\n",
       "      <td>45346.19</td>\n",
       "      <td>166.03</td>\n",
       "      <td>1.164993e+04</td>\n",
       "      <td>4073.107475</td>\n",
       "      <td>7.576819e+03</td>\n",
       "      <td>0.003661</td>\n",
       "    </tr>\n",
       "    <tr>\n",
       "      <th>1</th>\n",
       "      <td>45439.62</td>\n",
       "      <td>166.27</td>\n",
       "      <td>1.990020e+05</td>\n",
       "      <td>58.504682</td>\n",
       "      <td>1.989435e+05</td>\n",
       "      <td>0.003659</td>\n",
       "    </tr>\n",
       "    <tr>\n",
       "      <th>2</th>\n",
       "      <td>45262.05</td>\n",
       "      <td>165.25</td>\n",
       "      <td>1.721239e+05</td>\n",
       "      <td>147.778501</td>\n",
       "      <td>1.719761e+05</td>\n",
       "      <td>0.003651</td>\n",
       "    </tr>\n",
       "    <tr>\n",
       "      <th>3</th>\n",
       "      <td>45165.00</td>\n",
       "      <td>164.95</td>\n",
       "      <td>1.404933e+05</td>\n",
       "      <td>379.522146</td>\n",
       "      <td>1.401138e+05</td>\n",
       "      <td>0.003652</td>\n",
       "    </tr>\n",
       "    <tr>\n",
       "      <th>4</th>\n",
       "      <td>45120.64</td>\n",
       "      <td>164.74</td>\n",
       "      <td>1.404915e+06</td>\n",
       "      <td>81015.336680</td>\n",
       "      <td>1.323900e+06</td>\n",
       "      <td>0.003651</td>\n",
       "    </tr>\n",
       "  </tbody>\n",
       "</table>\n",
       "</div>"
      ],
      "text/plain": [
       "   BTC Price  LTC Price  BTC Volume USD  LTC Volume USD    Net Volume  \\\n",
       "0   45346.19     166.03    1.164993e+04     4073.107475  7.576819e+03   \n",
       "1   45439.62     166.27    1.990020e+05       58.504682  1.989435e+05   \n",
       "2   45262.05     165.25    1.721239e+05      147.778501  1.719761e+05   \n",
       "3   45165.00     164.95    1.404933e+05      379.522146  1.401138e+05   \n",
       "4   45120.64     164.74    1.404915e+06    81015.336680  1.323900e+06   \n",
       "\n",
       "   Price Ratio  \n",
       "0     0.003661  \n",
       "1     0.003659  \n",
       "2     0.003651  \n",
       "3     0.003652  \n",
       "4     0.003651  "
      ]
     },
     "execution_count": 39,
     "metadata": {},
     "output_type": "execute_result"
    }
   ],
   "source": [
    "training_set.head()"
   ]
  },
  {
   "cell_type": "code",
   "execution_count": 40,
   "id": "a504ef76",
   "metadata": {},
   "outputs": [
    {
     "data": {
      "text/html": [
       "<div>\n",
       "<style scoped>\n",
       "    .dataframe tbody tr th:only-of-type {\n",
       "        vertical-align: middle;\n",
       "    }\n",
       "\n",
       "    .dataframe tbody tr th {\n",
       "        vertical-align: top;\n",
       "    }\n",
       "\n",
       "    .dataframe thead th {\n",
       "        text-align: right;\n",
       "    }\n",
       "</style>\n",
       "<table border=\"1\" class=\"dataframe\">\n",
       "  <thead>\n",
       "    <tr style=\"text-align: right;\">\n",
       "      <th></th>\n",
       "      <th>BTC Price</th>\n",
       "      <th>LTC Price</th>\n",
       "      <th>BTC Volume USD</th>\n",
       "      <th>LTC Volume USD</th>\n",
       "      <th>Net Volume</th>\n",
       "      <th>Price Ratio</th>\n",
       "    </tr>\n",
       "  </thead>\n",
       "  <tbody>\n",
       "    <tr>\n",
       "      <th>8496</th>\n",
       "      <td>48631.71</td>\n",
       "      <td>180.52</td>\n",
       "      <td>13064.036920</td>\n",
       "      <td>0.000000</td>\n",
       "      <td>13064.036920</td>\n",
       "      <td>0.003712</td>\n",
       "    </tr>\n",
       "    <tr>\n",
       "      <th>8497</th>\n",
       "      <td>48607.22</td>\n",
       "      <td>180.42</td>\n",
       "      <td>69991.303440</td>\n",
       "      <td>9167.670635</td>\n",
       "      <td>60823.632805</td>\n",
       "      <td>0.003712</td>\n",
       "    </tr>\n",
       "    <tr>\n",
       "      <th>8498</th>\n",
       "      <td>48669.16</td>\n",
       "      <td>180.43</td>\n",
       "      <td>9615.179508</td>\n",
       "      <td>2870.100010</td>\n",
       "      <td>6745.079498</td>\n",
       "      <td>0.003707</td>\n",
       "    </tr>\n",
       "    <tr>\n",
       "      <th>8499</th>\n",
       "      <td>48639.95</td>\n",
       "      <td>180.43</td>\n",
       "      <td>25616.716070</td>\n",
       "      <td>4505.337100</td>\n",
       "      <td>21111.378970</td>\n",
       "      <td>0.003710</td>\n",
       "    </tr>\n",
       "    <tr>\n",
       "      <th>8500</th>\n",
       "      <td>48648.93</td>\n",
       "      <td>180.43</td>\n",
       "      <td>1266.818137</td>\n",
       "      <td>0.000000</td>\n",
       "      <td>1266.818137</td>\n",
       "      <td>0.003709</td>\n",
       "    </tr>\n",
       "  </tbody>\n",
       "</table>\n",
       "</div>"
      ],
      "text/plain": [
       "      BTC Price  LTC Price  BTC Volume USD  LTC Volume USD    Net Volume  \\\n",
       "8496   48631.71     180.52    13064.036920        0.000000  13064.036920   \n",
       "8497   48607.22     180.42    69991.303440     9167.670635  60823.632805   \n",
       "8498   48669.16     180.43     9615.179508     2870.100010   6745.079498   \n",
       "8499   48639.95     180.43    25616.716070     4505.337100  21111.378970   \n",
       "8500   48648.93     180.43     1266.818137        0.000000   1266.818137   \n",
       "\n",
       "      Price Ratio  \n",
       "8496     0.003712  \n",
       "8497     0.003712  \n",
       "8498     0.003707  \n",
       "8499     0.003710  \n",
       "8500     0.003709  "
      ]
     },
     "execution_count": 40,
     "metadata": {},
     "output_type": "execute_result"
    }
   ],
   "source": [
    "test_set.head()"
   ]
  },
  {
   "cell_type": "code",
   "execution_count": 41,
   "id": "d1a869e3",
   "metadata": {},
   "outputs": [],
   "source": [
    "# feature scaling\n",
    "\n",
    "x_sc = MinMaxScaler(feature_range = (0, 1))\n",
    "y_sc = MinMaxScaler(feature_range = (0, 1))\n",
    "\n",
    "training_set.iloc[:, 0:5] = x_sc.fit_transform(training_set.iloc[:, 0:5])\n",
    "training_set['Price Ratio'] = y_sc.fit_transform(training_set['Price Ratio'].values.reshape(-1,1))\n",
    "training_set_scaled = training_set.values"
   ]
  },
  {
   "cell_type": "code",
   "execution_count": 42,
   "id": "97a91f35",
   "metadata": {},
   "outputs": [],
   "source": [
    "# creating a data structure with 6 time-steps and 1 output\n",
    "\n",
    "window = 10\n",
    "\n",
    "X_train = []\n",
    "y_train = []\n",
    "for i in range(window, train_size):\n",
    "    X_train.append(training_set_scaled[i-window:i, 0:5])\n",
    "    y_train.append(training_set_scaled[i, -1])\n",
    "X_train, y_train = np.array(X_train), np.array(y_train)\n",
    "X_train = np.reshape(X_train, (X_train.shape[0], X_train.shape[1], 5))"
   ]
  },
  {
   "cell_type": "code",
   "execution_count": 43,
   "id": "120da493",
   "metadata": {},
   "outputs": [
    {
     "data": {
      "text/plain": [
       "(76453, 10, 5)"
      ]
     },
     "execution_count": 43,
     "metadata": {},
     "output_type": "execute_result"
    }
   ],
   "source": [
    "X_train.shape"
   ]
  },
  {
   "cell_type": "code",
   "execution_count": 44,
   "id": "bf7c58e0",
   "metadata": {},
   "outputs": [
    {
     "data": {
      "text/plain": [
       "(76453,)"
      ]
     },
     "execution_count": 44,
     "metadata": {},
     "output_type": "execute_result"
    }
   ],
   "source": [
    "y_train.shape"
   ]
  },
  {
   "cell_type": "code",
   "execution_count": 45,
   "id": "a6252a76",
   "metadata": {},
   "outputs": [],
   "source": [
    "# model\n",
    "\n",
    "model_3 = Sequential()\n",
    "\n",
    "#Adding the first LSTM layer and some Dropout regularisation\n",
    "model_3.add(LSTM(units = 50, return_sequences = True, input_shape = (X_train.shape[1], X_train.shape[2])))\n",
    "model_3.add(Dropout(0.2))\n",
    "\n",
    "# Adding a second LSTM layer and some Dropout regularisation\n",
    "model_3.add(LSTM(units = 50, return_sequences = True))\n",
    "model_3.add(Dropout(0.2))\n",
    "\n",
    "# Adding a third LSTM layer and some Dropout regularisation\n",
    "model_3.add(LSTM(units = 50, return_sequences = True))\n",
    "model_3.add(Dropout(0.2))\n",
    "\n",
    "# Adding a fourth LSTM layer and some Dropout regularisation\n",
    "model_3.add(LSTM(units = 50))\n",
    "model_3.add(Dropout(0.2))\n",
    "\n",
    "# Adding the output layer\n",
    "model_3.add(Dense(units = 1))\n",
    "\n",
    "# Compiling the RNN\n",
    "model_3.compile(optimizer = 'adam', loss = 'mean_squared_error')"
   ]
  },
  {
   "cell_type": "code",
   "execution_count": 46,
   "id": "8faf6668",
   "metadata": {},
   "outputs": [
    {
     "name": "stdout",
     "output_type": "stream",
     "text": [
      "Epoch 1/20\n",
      "2390/2390 [==============================] - 50s 18ms/step - loss: 0.0016\n",
      "Epoch 2/20\n",
      "2390/2390 [==============================] - 48s 20ms/step - loss: 5.9232e-04\n",
      "Epoch 3/20\n",
      "2390/2390 [==============================] - 46s 19ms/step - loss: 5.1580e-04\n",
      "Epoch 4/20\n",
      "2390/2390 [==============================] - 44s 18ms/step - loss: 4.7429e-04\n",
      "Epoch 5/20\n",
      "2390/2390 [==============================] - 44s 18ms/step - loss: 4.7208e-04\n",
      "Epoch 6/20\n",
      "2390/2390 [==============================] - 43s 18ms/step - loss: 4.4917e-04\n",
      "Epoch 7/20\n",
      "2390/2390 [==============================] - 46s 19ms/step - loss: 4.4712e-04\n",
      "Epoch 8/20\n",
      "2390/2390 [==============================] - 43s 18ms/step - loss: 4.4252e-04\n",
      "Epoch 9/20\n",
      "2390/2390 [==============================] - 44s 19ms/step - loss: 4.2821e-04\n",
      "Epoch 10/20\n",
      "2390/2390 [==============================] - 43s 18ms/step - loss: 4.2740e-04\n",
      "Epoch 11/20\n",
      "2390/2390 [==============================] - 44s 18ms/step - loss: 4.3220e-04\n",
      "Epoch 12/20\n",
      "2390/2390 [==============================] - 44s 18ms/step - loss: 4.1492e-04\n",
      "Epoch 13/20\n",
      "2390/2390 [==============================] - 44s 18ms/step - loss: 4.1126e-04\n",
      "Epoch 14/20\n",
      "2390/2390 [==============================] - 44s 18ms/step - loss: 4.1001e-04\n",
      "Epoch 15/20\n",
      "2390/2390 [==============================] - 46s 19ms/step - loss: 4.1457e-04\n",
      "Epoch 16/20\n",
      "2390/2390 [==============================] - 48s 20ms/step - loss: 4.0883e-04\n",
      "Epoch 17/20\n",
      "2390/2390 [==============================] - 48s 20ms/step - loss: 4.1192e-04\n",
      "Epoch 18/20\n",
      "2390/2390 [==============================] - 48s 20ms/step - loss: 4.0403e-04\n",
      "Epoch 19/20\n",
      "2390/2390 [==============================] - 52s 22ms/step - loss: 4.0106e-04\n",
      "Epoch 20/20\n",
      "2390/2390 [==============================] - 55s 23ms/step - loss: 3.9189e-04\n"
     ]
    }
   ],
   "source": [
    "# Fitting the RNN to the Training set\n",
    "\n",
    "history_3 = model_3.fit(X_train, y_train, epochs = 20, batch_size = 32)"
   ]
  },
  {
   "cell_type": "code",
   "execution_count": 47,
   "id": "d3d806e6",
   "metadata": {},
   "outputs": [
    {
     "data": {
      "image/png": "[encoded data removed]",
      "text/plain": [
       "<Figure size 432x288 with 1 Axes>"
      ]
     },
     "metadata": {
      "needs_background": "light"
     },
     "output_type": "display_data"
    }
   ],
   "source": [
    "plt.plot(history_3.history['loss'])\n",
    "#plt.plot(history_3.history['val_loss'])\n",
    "plt.title('model 3 loss')\n",
    "plt.ylabel('loss')\n",
    "plt.xlabel('epoch')\n",
    "plt.legend(['train', 'val'], loc='upper left')\n",
    "plt.show()"
   ]
  },
  {
   "cell_type": "code",
   "execution_count": 48,
   "id": "d738449c",
   "metadata": {},
   "outputs": [],
   "source": [
    "# prep inputs to get predictions\n",
    "\n",
    "dataset_train = df.iloc[:train_size, 1:]\n",
    "dataset_test = df.iloc[train_size:, 1:]\n",
    "dataset_total = pd.concat((dataset_train, dataset_test), axis = 0)\n",
    "\n",
    "dataset_total.iloc[:, 0:5] = x_sc.fit_transform(dataset_total.iloc[:, 0:5])\n",
    "dataset_total['Price Ratio'] = y_sc.fit_transform(dataset_total['Price Ratio'].values.reshape(-1,1))\n",
    "\n",
    "inputs = dataset_total[len(dataset_total) - len(dataset_test) - window:].values\n",
    "inputs = inputs.reshape(-1,6)\n",
    "\n",
    "X_test = []\n",
    "for i in range(window, test_size+window):\n",
    "    X_test.append(inputs[i-window:i, 0:5])\n",
    "X_test = np.array(X_test)\n",
    "X_test = np.reshape(X_test, (X_test.shape[0], X_test.shape[1], 5))\n",
    "\n",
    "# get predictions\n",
    "\n",
    "predicted_values = model_3.predict(X_test)\n",
    "predicted_values = y_sc.inverse_transform(predicted_values)"
   ]
  },
  {
   "cell_type": "code",
   "execution_count": 49,
   "id": "07212aa9",
   "metadata": {},
   "outputs": [
    {
     "data": {
      "image/png": "[encoded data removed]",
      "text/plain": [
       "<Figure size 720x360 with 1 Axes>"
      ]
     },
     "metadata": {
      "needs_background": "light"
     },
     "output_type": "display_data"
    }
   ],
   "source": [
    "# visualising the results\n",
    "\n",
    "plt.figure(figsize=(10, 5))\n",
    "plt.plot(df.iloc[train_size:, 0], dataset_test['Price Ratio'].values, color = 'red', label = 'Real Price Ratio')\n",
    "plt.plot(df.iloc[train_size:, 0], predicted_values, color = 'blue', label = 'Predicted Price Ratio')\n",
    "plt.xticks(np.arange(0,test_size,50))\n",
    "plt.title('Model 3 Price Ratio Prediction')\n",
    "plt.xlabel('Time')\n",
    "plt.ylabel('Price Ratio')\n",
    "plt.legend()\n",
    "\n",
    "plt.show()"
   ]
  },
  {
   "cell_type": "code",
   "execution_count": 50,
   "id": "5af80523",
   "metadata": {},
   "outputs": [
    {
     "name": "stdout",
     "output_type": "stream",
     "text": [
      "1.3156317388265942e-05\n"
     ]
    }
   ],
   "source": [
    "# rmse\n",
    "\n",
    "rmse = mean_squared_error(dataset_test['Price Ratio'].values, predicted_values, squared=False)\n",
    "print(rmse)"
   ]
  },
  {
   "cell_type": "code",
   "execution_count": 51,
   "id": "352f7476",
   "metadata": {},
   "outputs": [
    {
     "name": "stdout",
     "output_type": "stream",
     "text": [
      "7.84626113425437e-05\n"
     ]
    }
   ],
   "source": [
    "# std\n",
    "\n",
    "test_std = np.std(dataset_test['Price Ratio'].values)\n",
    "print(test_std)"
   ]
  }
 ],
 "metadata": {
  "kernelspec": {
   "display_name": "Python 3",
   "language": "python",
   "name": "python3"
  },
  "language_info": {
   "codemirror_mode": {
    "name": "ipython",
    "version": 3
   },
   "file_extension": ".py",
   "mimetype": "text/x-python",
   "name": "python",
   "nbconvert_exporter": "python",
   "pygments_lexer": "ipython3",
   "version": "3.8.12"
  }
 },
 "nbformat": 4,
 "nbformat_minor": 5
}
